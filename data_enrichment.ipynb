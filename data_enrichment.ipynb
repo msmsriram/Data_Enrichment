{
 "cells": [
  {
   "cell_type": "code",
   "execution_count": 1,
   "metadata": {},
   "outputs": [],
   "source": [
    "from langchain_community.document_loaders import WebBaseLoader\n",
    "from langchain_community.document_loaders import PyPDFLoader\n",
    "from langchain_community.vectorstores import Chroma\n",
    "from langchain_community import embeddings\n",
    "from langchain_community.embeddings import GPT4AllEmbeddings\n",
    "from langchain_community.chat_models import ChatOllama\n",
    "from langchain_core.runnables import RunnablePassthrough\n",
    "from langchain_core.output_parsers import StrOutputParser\n",
    "from langchain_core.prompts import ChatPromptTemplate\n",
    "from langchain_core.prompts import PromptTemplate\n",
    "\n",
    "from langchain.output_parsers import PydanticOutputParser\n",
    "from langchain.text_splitter import CharacterTextSplitter\n",
    "from langchain_community.document_loaders import BSHTMLLoader"
   ]
  },
  {
   "cell_type": "code",
   "execution_count": 2,
   "metadata": {},
   "outputs": [],
   "source": [
    "model_local = ChatOllama(model=\"mistral\")"
   ]
  },
  {
   "cell_type": "code",
   "execution_count": 3,
   "metadata": {},
   "outputs": [
    {
     "name": "stdout",
     "output_type": "stream",
     "text": [
      "[Document(page_content=\"\\n\\n      Addresses and phone numbers - About Us - Mayo Clinic\\n  \\n\\n\\n\\n\\n\\n\\n\\n\\n\\n\\n\\n\\n\\n\\n\\n\\n\\n\\n\\n\\n\\n\\n\\n\\n\\n\\n\\n\\n\\n\\n\\n\\n\\n\\n\\n\\n\\n\\n\\n\\n\\n\\n\\n\\n\\n\\n\\n\\n\\n\\n\\n\\n\\n\\n\\nThis content does not have an English version.\\nThis content does not have an Arabic version.\\n\\n\\n\\nSkip to contentCare at \\n   Mayo Clinic Patient-Centered Care About Mayo Clinic Request Appointment Find a Doctor Locations Clinical Trials Connect to Support Groups Patient & Visitor Guide Insurance & Billing Departments & Centers International Services Contact UsPatient & Visitor Guide Health \\n   Library Diseases & Conditions Symptoms Tests & Procedures Drugs & Supplements Healthy Lifestyle Books & SubscriptionsDiseases & Conditions For Medical \\n   Professionals Medical Professional Resources Refer a Patient Continuing Medical Education AskMayoExpert Mayo Clinic Laboratories Video Center Journals & Publications Mayo Clinic Alumni AssociationContinuing Medical Education Research & Education \\n   at Mayo ClinicResearch Research at Mayo Clinic Research Faculty Laboratories Core Facilities Centers & Programs Departments & Divisions Clinical Trials Institutional Review Board Postdoctoral Fellowships Training Grant ProgramsEducation Mayo Clinic College of Medicine and Science Mayo Clinic Graduate School of Biomedical Sciences Mayo Clinic Alix School of Medicine Mayo Clinic School of Graduate Medical Education Mayo Clinic School of Health Sciences Mayo Clinic School of Continuous Professional DevelopmentMayo Clinic College of Medicine and Science Giving to \\n   Mayo Clinic Give Now Giving to Mayo Clinic Frequently Asked Questions Contact Us to GiveMake a Donation  Request appointment Log inSearchMenu Request appointment Donate Diseases & conditions Find a doctorCare at Mayo Clinic Patient-Centered Care About Mayo Clinic Request Appointment Find a Doctor Locations Clinical Trials Connect to Support Groups Patient & Visitor Guide Insurance & Billing Departments & Centers International Services Contact UsPatient & Visitor Guide Health Library Diseases & Conditions Symptoms Tests & Procedures Drugs & Supplements Healthy Lifestyle Books & SubscriptionsDiseases & Conditions For Medical Professionals Medical Professional Resources Refer a Patient Continuing Medical Education AskMayoExpert Mayo Clinic Laboratories Video Center Journals & Publications Mayo Clinic Alumni AssociationContinuing Medical Education Research & Education at Mayo ClinicResearch Research at Mayo Clinic Research Faculty Laboratories Core Facilities Centers & Programs Departments & Divisions Clinical Trials Institutional Review Board Postdoctoral Fellowships Training Grant ProgramsEducation Mayo Clinic College of Medicine and Science Mayo Clinic Graduate School of Biomedical Sciences Mayo Clinic Alix School of Medicine Mayo Clinic School of Graduate Medical Education Mayo Clinic School of Health Sciences Mayo Clinic School of Continuous Professional DevelopmentMayo Clinic College of Medicine and Science Giving to Mayo Clinic Give Now Giving to Mayo Clinic Frequently Asked Questions Contact Us to GiveMake a Donation Search for a disease or condition . Type 3 or more letters to display suggested search options.When results are available, use up and down arrow keys to navigate. Press space key to fill the input with the suggestion or enter key to search with the suggestion.Search by keyword or phraseSearch\\n\\n\\n\\n\\n\\n\\n\\n\\n\\n\\n\\n\\n\\n  Appointments at Mayo Clinic\\n  \\nMayo Clinic offers appointments in Arizona, Florida and Minnesota and at Mayo Clinic Health System locations.\\nRequest Appointment\\n\\n\\n\\n\\n\\nAbout Mayo ClinicContact Mayo Clinic\\nPrint\\n\\n\\n\\n\\n\\n\\n\\nAddresses and phone numbers\\n\\nArizona â€” Scottsdale/Phoenix\\nFlorida â€” Jacksonville\\nMinnesota â€” Rochester\\nStaff phone and email directories\\n\\nArizona â€” Scottsdale/PhoenixMayo Clinic\\n13400 E. Shea Blvd.\\n  Scottsdale, AZ 85259\\n\\n\\n\\nContact\\nNumber\\n\\n\\n\\n\\nGeneral number\\n480-301-8000\\n\\n\\nAppointment Office\\n\\n\\n480-301-8484\\n\\n\\n\\n\\nInsurance and billing\\n\\n\\n844-217-9591 (toll-free)\\n507-266-0909 for international callers\\n\\n\\n\\n\\nInternational Patients Center\\n480-301-7101\\n\\n\\nMedical records and imaging requests\\n507-284-4594\\n\\n\\nMedical records requests fax\\n507-284-0161\\n\\n\\nScottsdale/Phoenix Office of Patient Experience\\n844-544-0036 (toll-free)\\n\\n\\n\\nRecords request form (PDF)\\nMayo Clinic Hospital\\n5777 E. Mayo Blvd.\\n  Phoenix, AZ 85054\\n\\n\\n\\nContact\\nNumber\\n\\n\\n\\n\\nGeneral numbers\\n\\n\\n480-515-6296\\n480-342-2000\\n\\n\\n\\n\\nScottsdale/Phoenix Office of Patient Experience\\n844-544-0036 (toll-free)\\n\\n\\nBack to topFlorida â€” JacksonvilleMayo Clinic\\n4500 San Pablo Road\\n  Jacksonville, FL 32224\\n\\n\\n\\nContact\\nNumber\\n\\n\\n\\n\\nGeneral number\\n904-953-2000\\n\\n\\nAppointment Office\\n904-953-0853\\n\\n\\nAppointment Office fax\\n904-953-2898\\n\\n\\nBilling\\n\\n\\n844-217-9591 (toll-free)\\n507-266-0909 for international callers\\n\\n\\n\\n\\nHospital-to-hospital patient transfers (Admission Transfer Center â€” 24 hours a day)\\n904-953-1111\\n\\n\\nInsurance\\n904-953-1395 or 877-956-1820, then option 1 (toll-free outside Jacksonville)\\n\\n\\nInternational Services\\n904-953-7000\\n\\n\\nInternational Services fax\\n904-953-7329\\n\\n\\nMedical records and imaging requests\\n507-284-4594\\n\\n\\nMedical records requests fax\\n507-284-0161\\n\\n\\n\\nRecords request form (PDF)\\nMayo Building and Hospital\\n4500 San Pablo Road\\n  Jacksonville, FL 32224\\n\\n\\n\\nContact\\nNumber\\n\\n\\n\\n\\nGeneral number\\n904-953-2000\\n\\n\\nJacksonville Office of Patient Experience\\n844-544-0036 (toll-free)\\n\\n\\nBack to topMinnesota â€” RochesterMayo Clinic\\n200 First St. SW\\n  Rochester, MN 55905\\n\\n\\n\\nContact\\nNumber\\n\\n\\n\\n\\nGeneral number\\n507-284-2511\\n\\n\\nAppointment Office\\n507-538-3270\\n\\n\\nInsurance and billing\\n\\n\\n844-217-9591 (toll free)\\n507-266-0909 for international callers\\n\\n\\n\\n\\nInternational Appointment Office\\n507-284-8884\\n\\n\\nInternational Appointment Office fax\\n507-538-7802\\n\\n\\nMedical records and imaging requests\\n507-284-4594\\n\\n\\nMedical records requests fax\\n507-284-0161\\n\\n\\n\\nRecords request form (PDF)\\nMayo Clinic Hospital, Methodist Campus\\n201 W. Center St.\\n  Rochester, MN 55902\\n\\n\\n\\nContact\\nNumber\\n\\n\\n\\n\\nGeneral number\\n507-266-7890\\n\\n\\n\\nMayo Clinic Hospital, Saint Marys Campus\\nincluding Mayo Eugenio Litta Children's Hospital\\n1216 Second St. SW\\n  Rochester, MN 55902\\n\\n\\n\\nContact\\nNumber\\n\\n\\n\\n\\nGeneral number\\n507-255-5123\\n\\n\\nRochester, Minnesota, Office of Patient Experience\\n844-544-0036 (toll-free)\\n\\n\\nBack to topStaff phone and email directoriesMayo Clinic doesn't have a public directory of staff phone numbers or email addresses. To contact someone, call the general telephone number at a Mayo Clinic location and the operator will connect you.\\nYou may find biographical information about Mayo Clinic staff doctors on the Doctors and Medical Staff pages.\\nYou may view research profiles of Mayo Clinic faculty in the research staff directory.Back to top\\n\\nShareTweet\\n\\n\\n\\n\\n  Contact Patient Experience\\n  \\nIf youâ€™d like to share a compliment or  concern about your care at Mayo Clinic, please contact Mayo Clinic's Office of  Patient Experience.\\n\\n\\n\\n\\n\\n\\n\\n\\n\\n\\n\\n\\n\\n\\n\\n\\n\\n\\n\\n\\n\\n                      .\\n                  \\n\\n\\nART-20057639\\n\\nAbout Mayo Clinic\\nContact Mayo Clinic\\n\\n\\n\\n\\n\\n\\nYour gift holds great power â€“ donate today! DonateMake your tax-deductible gift and be a part of the cutting-edge research and care that's changing medicine.\\n Donate\\n\\n Find a doctor Explore careers Sign up for free e-newslettersAbout Mayo Clinic   About this Site Contact Us Locations Health Information Policy Media Requests News Network Price TransparencyMedical Professionals  AskMayoExpert Clinical Trials Mayo Clinic Alumni Association Refer a PatientBusinesses   Executive Health Program International Business Collaborations Facilities & Real Estate Supplier InformationMedical Professionals  AskMayoExpert Clinical Trials Mayo Clinic Alumni Association Refer a PatientBusinesses   Executive Health Program International Business Collaborations Facilities & Real Estate Supplier InformationStudents    Admissions Requirements Degree Programs Student & Faculty PortalStudents   Degree Programs Admissions Requirements Student & Faculty PortalResearchers   Research Faculty LaboratoriesInternational Patients  Appointments Financial Services International Locations & OfficesCharitable Care & Financial Assistance  Community Health Needs Assessment Financial Assistance Documents â€“ Arizona Financial Assistance Documents â€“ Florida Financial Assistance Documents â€“ MinnesotaFollow Mayo Clinic X Youtube Facebook Linkedin InstagramGet the Mayo Clinic app\\n\\n Terms & Conditions Privacy Policy Notice of Privacy Practices Notice of Nondiscrimination Accessibility Statement Advertising & Sponsorship Policy Site Map Manage Cookies Terms and Conditions Privacy Policy Notice of Privacy Practices Notice of Nondiscrimination Accessibility Statement Advertising and Sponsorship Policy Site Map Manage CookiesLanguage:English English EspaÃ±ol Ø§Ù„Ø¹Ø±Ø¨ÙŠØ© ç®€ä½“ä¸\\xadæ–‡Â© 1998-2024 Mayo Foundation for Medical Education and Research (MFMER). All rights reserved.\\nLanguage:English English EspaÃ±ol Ø§Ù„Ø¹Ø±Ø¨ÙŠØ© ç®€ä½“ä¸\\xadæ–‡\\n\\n\\n\\n\\n\\n\\n\\n\\n\\n\\n\\n\\n\\n Mayo Clinic Privacy Policy  Mayo Clinic and our partners use technologies such as cookies to collect information from your browser to deliver relevant advertising on our site, in emails and across the Internet, personalize content and perform site analytics. Please visit our Privacy Policy for more information about our use of data and your rights. Click here to update your preferences  I Agree   x Customize Cookie Settings   Trusted These technologies are used in operating the site, including remembering your preferences, ensuring security and providing certain features. They do not track your activity online.        Website Analytics These technologies collect information to help us understand how our websites are being used and to make improvements.        Advertising These technologies are used to make advertising messages more relevant to you. They perform functions like preventing the same ad from continuously reappearing, ensuring that ads are properly displayed for advertisers and selecting advertisements that are based on your interests.    Save  \\n\", metadata={'source': 'C:\\\\Users\\\\Barani\\\\Desktop\\\\local_ollama\\\\mayo.html', 'title': '\\n      Addresses and phone numbers - About Us - Mayo Clinic\\n  '})]\n"
     ]
    }
   ],
   "source": [
    "loader = BSHTMLLoader(\"C:\\\\Users\\\\Barani\\\\Desktop\\\\local_ollama\\\\mayo.html\")\n",
    "\n",
    "data = loader.load()\n",
    "print(data)"
   ]
  },
  {
   "cell_type": "code",
   "execution_count": 4,
   "metadata": {},
   "outputs": [],
   "source": [
    "text_splitter = CharacterTextSplitter.from_tiktoken_encoder(chunk_size=7500, chunk_overlap=100)\n",
    "doc_splits = text_splitter.split_documents(data)"
   ]
  },
  {
   "cell_type": "code",
   "execution_count": 5,
   "metadata": {},
   "outputs": [],
   "source": [
    "# vectorstore = Chroma.from_documents(\n",
    "#     documents=doc_splits,\n",
    "#     collection_name=\"rag-chroma\",\n",
    "#     embedding=embeddings.ollama.OllamaEmbeddings(model='nomic-embed-text'),\n",
    "# )\n",
    "# retriever = vectorstore.as_retriever()\n",
    "\n",
    "# Prepare your documents\n",
    "# doc_splits =  # ... (Your list of text documents) \n",
    "\n",
    "# Instantiate the GPT4AllEmbeddings model\n",
    "embeddings = GPT4AllEmbeddings()\n",
    "\n",
    "# Create the Chroma vector store\n",
    "vectorstore = Chroma.from_documents(\n",
    "    documents=doc_splits,\n",
    "    collection_name=\"rag-chroma\",\n",
    "    embedding=embeddings\n",
    ")\n",
    "\n",
    "# Create the retriever\n",
    "retriever = vectorstore.as_retriever()"
   ]
  },
  {
   "cell_type": "code",
   "execution_count": 6,
   "metadata": {},
   "outputs": [
    {
     "name": "stdout",
     "output_type": "stream",
     "text": [
      "Before RAG\n",
      "\n",
      " Mayo Clinic has several locations in Rochester, Minnesota. Here are some of the most common addresses:\n",
      "\n",
      "1. Mayo Clinic Campus - 200 1st Street SW, Rochester, MN 55905, USA\n",
      "This is the main campus and includes Mayo Clinic Hospital – Saint Marys Campus, Mayo Clinic Hospital – Methodist Campus, and Mayo Clinic's administrative offices.\n",
      "\n",
      "2. Mayo Clinic Laboratories - 3434 West Frontage Drive NW, Rochester, MN 55901, USA\n",
      "Mayo Clinic Laboratories provide diagnostic testing services for the entire Mayo Clinic system and beyond.\n",
      "\n",
      "3. Gonda Building – 200 First Street SW, Rochester, MN 55904-0037, USA\n",
      "The Gonda Building is home to Mayo Clinic's Dan Abraham Healthy Living Center, the Department of Physical Therapy and Rehabilitation, and several other clinics.\n",
      "\n",
      "4. Mayo Clinic Health System – Methodist Building – 511 First Street SW, Rochester, MN 55902-0036, USA\n",
      "This building houses Mayo Clinic's primary care clinic in downtown Rochester.\n",
      "\n",
      "5. Mayo Clinic Health System – Saint Marys Hospital – 3333 West Center St, Rochester, MN 55901-4802, USA\n",
      "Saint Marys Hospital is a part of the larger Mayo Clinic Health System and provides inpatient and outpatient care for residents of southern Minnesota.\n"
     ]
    }
   ],
   "source": [
    "print(\"Before RAG\\n\")\n",
    "before_rag_template = \"Provide me {topic}\"\n",
    "before_rag_prompt = ChatPromptTemplate.from_template(before_rag_template)\n",
    "before_rag_chain = before_rag_prompt | model_local | StrOutputParser()\n",
    "print(before_rag_chain.invoke({\"topic\": \"the addresses of mayo clinic which is in Rochester\"}))"
   ]
  },
  {
   "cell_type": "code",
   "execution_count": 7,
   "metadata": {},
   "outputs": [
    {
     "name": "stderr",
     "output_type": "stream",
     "text": [
      "Number of requested results 4 is greater than number of elements in index 1, updating n_results = 1\n"
     ]
    },
    {
     "name": "stdout",
     "output_type": "stream",
     "text": [
      "\n",
      "########\n",
      "After RAG\n",
      "\n",
      " The Mayo Clinic has multiple locations, but one of them is at Mayo Clinic, Rochester, Minnesota, with the following address:\n",
      "\n",
      "Mayo Clinic\n",
      "1216 Second St. SW,\n",
      "Rochester, MN 55902, USA\n"
     ]
    }
   ],
   "source": [
    "# 4. After RAG\n",
    "print(\"\\n########\\nAfter RAG\\n\")\n",
    "after_rag_template = \"\"\"Answer the question based only on the following context:\n",
    "{context}\n",
    "Question: {question}\n",
    "\"\"\"\n",
    "after_rag_prompt = ChatPromptTemplate.from_template(after_rag_template)\n",
    "after_rag_chain = (\n",
    "    {\"context\": retriever, \"question\": RunnablePassthrough()}\n",
    "    | after_rag_prompt\n",
    "    | model_local\n",
    "    | StrOutputParser()\n",
    ")\n",
    "print(after_rag_chain.invoke(\"provide the only address of Mayo clinic which is in Minnesota\"))"
   ]
  },
  {
   "cell_type": "markdown",
   "metadata": {},
   "source": [
    "Department of Radiology, Intervention Radiology section, Siriraj Hospital, Bangkok noi, Mahidol University, Thailand.\n",
    "---"
   ]
  },
  {
   "cell_type": "code",
   "execution_count": 3,
   "metadata": {},
   "outputs": [
    {
     "name": "stdout",
     "output_type": "stream",
     "text": [
      "[Document(page_content='\\n\\n\\n\\n\\n\\n\\n\\n   Contact us - SIRIRAJ\\n  \\n\\n\\n\\n\\n\\n\\n\\n\\n\\n\\n\\n\\n\\n\\n\\n\\n\\n\\n\\n\\n\\n\\n\\n\\n\\n\\n\\n\\n\\n\\n\\n\\n\\n\\n\\n\\n\\n\\n\\n\\n\\n\\n\\n\\n\\n\\n\\n\\n\\n\\n\\n\\n\\n\\n\\n\\n\\n\\n\\n\\n\\n\\n\\n\\n\\n\\n\\n\\n\\n\\n\\n\\n\\n\\n\\n\\n\\n\\n\\n\\n\\n\\n\\n\\n\\n\\n\\n\\n       We value your privacy\\n      \\n\\n\\n\\n         We use cookies to enhance your browsing experience, serve personalized ads or content, and analyze our traffic. By clicking \"Accept All\", you consent to our use of cookies.\\n        \\n\\n\\n\\n         Customize\\n        \\n\\n         Reject All\\n        \\n\\n         Accept All\\n        \\n\\n\\n\\n\\n\\n\\n\\n\\n\\n       Customize Consent Preferences\\n      \\n\\n\\n\\n\\n\\n\\n\\n        We use cookies to help you navigate efficiently and perform certain functions. You will find detailed information about all cookies under each consent category below.\\n       \\n\\n        The cookies that are categorized as \"Necessary\" are stored on your browser as they are essential for enabling the basic functionalities of the site....\\n        \\n         Show more\\n        \\n\\n\\n\\n\\n\\n\\n\\n\\n\\n\\n\\n\\n            Necessary\\n           \\n\\n            Always Active\\n           \\n\\n\\n\\n            Necessary cookies are required to enable the basic features of this site, such as providing secure log-in or adjusting your consent preferences. These cookies do not store any personally identifiable data.\\n           \\n\\n\\n\\n\\n\\n\\n           No cookies to display.\\n          \\n\\n\\n\\n\\n\\n\\n\\n\\n\\n\\n\\n\\n            Analytics\\n           \\n\\n\\n\\n            Analytical cookies are used to understand how visitors interact with the website. These cookies help provide information on metrics such as the number of visitors, bounce rate, traffic source, etc.\\n           \\n\\n\\n\\n\\n\\n\\n           No cookies to display.\\n          \\n\\n\\n\\n\\n\\n\\n\\n\\n\\n\\n        Reject All\\n       \\n\\n        Save My Preferences\\n       \\n\\n        Accept All\\n       \\n\\n\\n       Powered by\\n       \\n\\n\\n\\n\\n\\n\\n\\n\\n     Skip to content\\n    \\n\\n\\n\\n\\n\\n\\n\\n\\n\\n        Primary Menu\\n       \\n\\n\\n\\n\\n\\n\\n\\n            Home\\n           \\n\\n\\n\\n\\n           About\\n          \\n\\n\\n\\n             About Us\\n            \\n\\n\\n\\n             History\\n            \\n\\n\\n\\n             Deanâ€™s message\\n            \\n\\n\\n\\n             Administration\\n            \\n\\n\\n\\n               Administrative Members\\n              \\n\\n\\n\\n               Department Chairs\\n              \\n\\n\\n\\n               Office of the Director\\n              \\n\\n\\n\\n\\n\\n             Siriraj Booklet 2024\\n            \\n\\n\\n\\n             Annual Reports\\n            \\n\\n\\n\\n             Campus Tour\\n            \\n\\n\\n\\n\\n\\n           Study\\n          \\n\\n\\n\\n             Undergraduate Program (TH)\\n            \\n\\n\\n\\n             Postgraduate Program (EN/TH)\\n            \\n\\n\\n\\n             Inbound\\n            \\n\\n\\n\\n             Outbound\\n            \\n\\n\\n\\n             Short Training Courses\\n            \\n\\n\\n\\n\\n\\n           Academics\\n          \\n\\n\\n\\n           Research\\n          \\n\\n\\n\\n           department\\n          \\n\\n\\n\\n           International Office\\n          \\n\\n\\n\\n             Student Exchange\\n            \\n\\n\\n\\n               Outbound\\n              \\n\\n\\n\\n               Inbound\\n              \\n\\n\\n\\n\\n\\n             Short Training Courses\\n            \\n\\n\\n\\n             Siriraj Visiting Scholars\\n            \\n\\n\\n\\n             Site Visit\\n            \\n\\n\\n\\n             Residents & Fellows Exchange Program\\n            \\n\\n\\n\\n\\n\\n           News\\n          \\n\\n\\n\\n             News & Events\\n            \\n\\n\\n\\n             Student Affairs\\n            \\n\\n\\n\\n\\n\\n           Contact us\\n          \\n\\n\\n\\n             Webmail\\n            \\n\\n\\n\\n\\n\\n\\n\\n            Thai\\n           \\n\\n\\n\\n\\n           Menu\\n          \\n\\n\\n\\n\\n          Home\\n         \\n\\n          About\\n         \\n\\n          - About Us\\n         \\n\\n          - History\\n         \\n\\n          - Deanâ€™s message\\n         \\n\\n          - Administration\\n         \\n\\n          - - Administrative Members\\n         \\n\\n          - - Department Chairs\\n         \\n\\n          - - Office of the Director\\n         \\n\\n          - Siriraj Booklet 2024\\n         \\n\\n          - Annual Reports\\n         \\n\\n          - Campus Tour\\n         \\n\\n          Study\\n         \\n\\n          - Undergraduate Program (TH)\\n         \\n\\n          - Postgraduate Program (EN/TH)\\n         \\n\\n          - Inbound\\n         \\n\\n          - Outbound\\n         \\n\\n          - Short Training Courses\\n         \\n\\n          Academics\\n         \\n\\n          Research\\n         \\n\\n          department\\n         \\n\\n          International Office\\n         \\n\\n          - Student Exchange\\n         \\n\\n          - - Outbound\\n         \\n\\n          - - Inbound\\n         \\n\\n          - Short Training Courses\\n         \\n\\n          - Siriraj Visiting Scholars\\n         \\n\\n          - Site Visit\\n         \\n\\n          - Residents & Fellows Exchange Program\\n         \\n\\n          News\\n         \\n\\n          - News & Events\\n         \\n\\n          - Student Affairs\\n         \\n\\n          Contact us\\n         \\n\\n          - Webmail\\n         \\n\\n          Thai\\n         \\n\\n          Menu\\n         \\n\\n\\n\\n\\n\\n          Contact us\\n         \\n\\n\\n\\n            Home\\n           \\n\\n\\n\\n            About\\n           \\n\\n\\n\\n            - About Us\\n           \\n\\n\\n\\n            - History\\n           \\n\\n\\n\\n            - Deanâ€™s message\\n           \\n\\n\\n\\n            - Administration\\n           \\n\\n\\n\\n            - - Administrative Members\\n           \\n\\n\\n\\n            - - Department Chairs\\n           \\n\\n\\n\\n            - - Office of the Director\\n           \\n\\n\\n\\n            - Siriraj Booklet 2024\\n           \\n\\n\\n\\n            - Annual Reports\\n           \\n\\n\\n\\n            - Campus Tour\\n           \\n\\n\\n\\n            Study\\n           \\n\\n\\n\\n            - Undergraduate Program (TH)\\n           \\n\\n\\n\\n            - Postgraduate Program (EN/TH)\\n           \\n\\n\\n\\n            - Inbound\\n           \\n\\n\\n\\n            - Outbound\\n           \\n\\n\\n\\n            - Short Training Courses\\n           \\n\\n\\n\\n            Academics\\n           \\n\\n\\n\\n            Research\\n           \\n\\n\\n\\n            department\\n           \\n\\n\\n\\n            International Office\\n           \\n\\n\\n\\n            - Student Exchange\\n           \\n\\n\\n\\n            - - Outbound\\n           \\n\\n\\n\\n            - - Inbound\\n           \\n\\n\\n\\n            - Short Training Courses\\n           \\n\\n\\n\\n            - Siriraj Visiting Scholars\\n           \\n\\n\\n\\n            - Site Visit\\n           \\n\\n\\n\\n            - Residents & Fellows Exchange Program\\n           \\n\\n\\n\\n            News\\n           \\n\\n\\n\\n            - News & Events\\n           \\n\\n\\n\\n            - Student Affairs\\n           \\n\\n\\n\\n            Contact us\\n           \\n\\n\\n\\n            - Webmail\\n           \\n\\n\\n\\n            Thai\\n           \\n\\n\\n\\n            Menu\\n           \\n\\n\\n\\n\\n\\n\\n\\n\\n\\n\\n\\n\\n\\n\\n         Post navigation\\n        \\n\\n\\n\\n\\n\\n          Contact us\\n         \\n\\n\\n\\n\\n\\n\\n\\n\\n\\n\\n\\n\\n\\n\\n\\n\\n\\n\\n\\n\\n\\n\\n\\n\\n\\n                     Faculty of Medicine Siriraj Hospital, Mahidol University\\n                     \\n                     International Relations DivisionÂ\\xa0Jainadnarendhranusorn Bld. (Bld. No. 59) 3rd Floor, Room No. 323\\n                     \\n                     2 Wanglang Road Bangkoknoi, Bangkok 10700, Thailand\\n                     \\n                     Tel. +66 2 419 9465\\n                     \\n                      * (Academic Section)\\n                     \\n\\n\\n\\n                      Email siiro@mahidol.ac.th\\n                     \\n\\n\\n\\n                      For hospital service or clinical services, Please contact\\n                     \\n\\n\\n\\n\\n                       02 419 7000 (Thai Language Only)\\n                      \\n\\n\\n\\n\\n                      SiPH\\n                     \\n                     +66 2-419-1000Â\\xa0 (or domestic call 1474)\\n                     \\n                     https://www.siphhospital.com/th/home\\n                    \\n\\n\\n                      Special Clinic\\n                     \\n                     +66 2-419-9801\\n                     \\n                     https://www.si.mahidol.ac.th/th/division/special_clinic/index.asp?pg=t (TH)\\n                    \\n\\n\\n\\n\\n\\n\\n\\n\\n\\n\\n\\n\\n\\n\\n\\n\\n\\n\\n\\n\\n\\n\\n\\n\\n\\n\\n\\n\\n\\n\\n\\n\\n\\n\\n\\n\\n\\n\\n\\n\\n\\n\\n\\n\\n\\n\\n\\n                 How to get to Siriraj Hospital ?\\n                \\n\\n\\n\\n\\n\\n\\n\\n\\n                   ðŸ›ª Suvarnabhumi Airport âžœ Siriraj\\n                  \\n\\n                   ðŸ›§ Don Mueang International Airport âžœ Siriraj\\n                  \\n\\n\\n\\n                   ðŸ›ª Suvarnabhumi Airport âžœ Siriraj\\n                  \\n\\n\\n\\n                     Travelling by Skytrain\\n                    \\n\\n\\n\\n                     Take the airport rail link on the G floor of Suvarnabhumi Airport to Phaya Thai Station\\n                    \\n\\n                     Take BTS skytrain (Silom Line) fromÂ\\xa0Phaya Thai Station to Saphan Taksin BTS Station\\n                    \\n\\n                     Walk down to Sathorn Pier and take Chao Phraya Express Boat\\n                     \\n                     (orange, yellow, and blue flag only) to Wang Lang (Siriraj) Pier\\n                    \\n\\n\\n\\n                     Note:\\n                    \\n                    This route takes around 2 hours to Siriraj\\n                    \\n\\n                     Fare:\\n                    \\n                    Approx. 107 â€“ 132 TH Baht\\n                   \\n\\n                    To learn more about BTS skytrain or the Metropolitan Rapid Transit (MRT), please visit\\n                   \\n\\n\\n                     http://www.bts.co.th/customer/en/02-route-current_new.aspx\\n                     \\n                      (BTS)\\n                     \\n\\n\\n                     http://www.transitbangkok.com/mrt.html\\n                     \\n                      (MRT)\\n                     \\n\\n\\n\\n\\n                     Travelling by AirportÂ\\xa0Limousine (AOT Limousine)\\n                    \\n\\n\\n\\n                     Fare:\\n                    \\n                    Approx. 1,250 â€“ 1,600 TH Baht depending on vehicle type\\n                    \\n\\n\\n\\n                     Travelling by Airport Taxi\\n                    \\n\\n\\n\\n                     Fare:\\n                    \\n                    Approx. 300 TH Baht (Tollway exclusive)\\n                   \\n\\n\\n                     Address Card for Taxi to Siriraj Hospital (Please print this and show to a taxi driver)\\n                    \\n\\n\\n\\n                   ðŸ›§ Don Mueang International Airport âžœ Siriraj\\n                  \\n\\n\\n\\n                     â—† Travelling by Airport Taxi\\n                    \\n\\n\\n                    Taxi Stand: Located in front of the Arrival Halls International & Domestic Passenger Terminals\\n                    \\n\\n                     Fare:\\n                    \\n                    Based on meter plus 50 baht airport surcharge\\n                   \\n\\n\\n                    The taxi fare rate within Bangkok and Greater Bangkok\\n                    \\n                     is charged by the meter plus a 50 baht airport surcharge\\n                    \\n                    . In addition, if taking the tollway, passengers are required to pay the tollway fee.\\n                   \\n\\n\\n                     The taxi fare rate outside Greater Bangkok and other provinces is fixed by BIA without the 50 Baht surcharge for the driver. Passengers should keep part 4 of the taxi ticket as evidence for any service complaint they may have.\\n                    \\n\\n\\n\\n                     â—† Transport to/from Don Mueang Airport\\n                    \\n\\n\\n\\n\\n\\n\\n\\n                         To\\n                        \\n\\n\\n\\n\\n\\n                         Distance\\n                        \\n\\n\\n\\n\\n\\n                         Travel Time\\n                        \\n\\n\\n\\n\\n\\n                         Transport\\n                        \\n\\n\\n\\n\\n\\n                         Approximated Fare\\n                        \\n\\n\\n\\n\\n\\n\\n                        Suvarnabhumi Airport\\n                       \\n\\n\\n                       47.5km\\n                      \\n\\n                       45 mins. â€“ 2 hrs.\\n                      \\n\\n                       Taxi\\n                      \\n\\n                       THB 350\\n                      \\n\\n\\n\\n                       1-2hrs.\\n                      \\n\\n                       Bus No. 554 & 555\\n                      \\n\\n                       THB 23\\n                      \\n\\n\\n\\n\\n                        Central Bangkok(Siam Area)\\n                       \\n\\n\\n                       23 km\\n                      \\n\\n                       30 mins. â€“ 1 hr.\\n                      \\n\\n                       Taxi\\n                      \\n\\n                       THB 200\\n                      \\n\\n\\n\\n                       Bus No. 29\\n                      \\n\\n                       THB 18\\n                      \\n\\n\\n\\n\\n                        Mo Chit(connect to BTS & MRT)\\n                       \\n\\n\\n                       14 km\\n                      \\n\\n                       30- 45 mins.\\n                      \\n\\n                       Taxi\\n                      \\n\\n                       THB 150\\n                      \\n\\n\\n\\n\\n                        Silom (South)\\n                       \\n\\n\\n                       26km\\n                      \\n\\n                       30 mins. â€“ 1 hr.\\n                      \\n\\n                       Taxi\\n                      \\n\\n                       THB 220\\n                      \\n\\n\\n\\n\\n                        Sanam Luang(Grand Palace)\\n                       \\n\\n\\n                       27km\\n                      \\n\\n                       30 mins. â€“ 1 hr.\\n                      \\n\\n                       Taxi\\n                      \\n\\n                       THB 220\\n                      \\n\\n\\n\\n\\n                        Phra Khanong (Sukhumvit)\\n                       \\n\\n\\n                       27km\\n                      \\n\\n                       40 mins. â€“ 1.30 hr.\\n                      \\n\\n                       Taxi\\n                      \\n\\n                       THB 220\\n                      \\n\\n\\n\\n\\n                        Hua Lamphong (Bangkok Railway Station)\\n                       \\n\\n\\n                       25 km\\n                      \\n\\n                       30 mins. â€“ 1 hr.\\n                      \\n\\n                       Taxi\\n                      \\n\\n                       THB 210\\n                      \\n\\n\\n\\n\\n                    The number of bus that park at Siriraj Hospital are as the following number;Â\\xa0Travelling byÂ\\xa0Public Bus\\n                   \\n\\n\\n                     19, 57, 81, 146, 149, 169, 91, A/CÂ\\xa0177, (A/C) 157\\n                    \\n\\n\\n                    To learn more about the public bus transportation, please visit\\n                    \\n                     http://www.bmta.co.th/?q=en/home\\n                    \\n\\n\\n\\n\\n\\n\\n\\n\\n\\n\\n\\n\\n\\n\\n\\n\\n\\n\\n\\n\\n\\n\\n\\n\\n\\n\\n\\n\\n\\n\\n\\n\\n\\n\\n\\n\\n\\n\\n\\n          Students\\n         \\n\\n\\n\\n            Undergraduate\\n           \\n\\n\\n            Postgraduate\\n           \\n\\n\\n\\n\\n\\n\\n\\n\\n          Staff\\n         \\n\\n\\n\\n            Resources\\n           \\n\\n\\n            Training\\n           \\n\\n\\n            Benefits\\n           \\n\\n\\n            Jobs\\n           \\n\\n\\n\\n\\n\\n\\n\\n\\n          Alumni\\n         \\n\\n\\n\\n            SIRIRAJ Alumni\\n           \\n\\n\\n\\n\\n\\n\\n\\n\\n          Visitors\\n         \\n\\n\\n\\n            Visit us\\n           \\n\\n\\n\\n\\n\\n\\n           Search\\n          \\n\\n\\n\\n\\n\\n\\n\\n\\n\\n\\n\\n\\n\\n\\n          Faculty of Medicine Siriraj Hospital Mahidol University\\n         \\n\\n\\n\\n\\n\\n\\n\\n\\n\\n\\n\\n\\n\\n\\n\\n\\n\\n\\n\\n\\n\\n\\n\\n\\n\\n\\n\\n\\n\\n\\n\\n\\n\\n\\n\\n\\n\\n\\n\\n\\n\\n\\n\\n\\n\\n\\n\\n\\n\\n\\n\\n\\n\\n\\n\\n\\n\\n\\n\\n     SIRIRAJ\\n    \\n\\n\\n\\n\\n\\n\\n\\n\\n\\n\\n\\n\\n\\n       Deanâ€™s message\\n      \\n\\n\\n\\n       About Us\\n      \\n\\n\\n\\n       History\\n      \\n\\n\\n\\n       Administration\\n      \\n\\n\\n\\n\\n\\n\\n\\n\\n\\n         Faculty of Medicine Siriraj Hospital\\n        \\n\\n\\n\\n         Office of the Director\\n        \\n\\n\\n\\n         Department Chairs\\n        \\n\\n\\n\\n\\n\\n       Annual Reports\\n      \\n\\n\\n\\n       Awards\\n      \\n\\n\\n\\n       Siriraj Culture\\n      \\n\\n\\n\\n       A Chronicle of  Siriraj\\n      \\n\\n\\n\\n       Map & Location\\n      \\n\\n\\n\\n       Menu\\n      \\n\\n\\n\\n\\n\\n\\n\\n\\n\\n\\n\\n\\n\\n\\n\\n\\n\\n\\n\\n        Home\\n       \\n\\n\\n\\n\\n       About\\n      \\n\\n\\n\\n\\n\\n\\n\\n\\n\\n         About Us\\n        \\n\\n\\n\\n         History\\n        \\n\\n\\n\\n         Deanâ€™s message\\n        \\n\\n\\n\\n         Administration\\n        \\n\\n\\n\\n         Siriraj Booklet 2024\\n        \\n\\n\\n\\n         Annual Reports\\n        \\n\\n\\n\\n         Campus Tour\\n        \\n\\n\\n\\n\\n\\n       Study\\n      \\n\\n\\n\\n\\n\\n\\n\\n\\n\\n         Undergraduate Program (TH)\\n        \\n\\n\\n\\n         Postgraduate Program (EN/TH)\\n        \\n\\n\\n\\n         Inbound\\n        \\n\\n\\n\\n         Outbound\\n        \\n\\n\\n\\n         Short Training Courses\\n        \\n\\n\\n\\n\\n\\n       Academics\\n      \\n\\n\\n\\n       Research\\n      \\n\\n\\n\\n       department\\n      \\n\\n\\n\\n       International Office\\n      \\n\\n\\n\\n\\n\\n\\n\\n\\n\\n         Student Exchange\\n        \\n\\n\\n\\n         Short Training Courses\\n        \\n\\n\\n\\n         Siriraj Visiting Scholars\\n        \\n\\n\\n\\n         Site Visit\\n        \\n\\n\\n\\n         Residents & Fellows Exchange Program\\n        \\n\\n\\n\\n\\n\\n       News\\n      \\n\\n\\n\\n\\n\\n\\n\\n\\n\\n         News & Events\\n        \\n\\n\\n\\n         Student Affairs\\n        \\n\\n\\n\\n\\n\\n       Contact us\\n      \\n\\n\\n\\n\\n\\n\\n\\n\\n\\n         Webmail\\n        \\n\\n\\n\\n\\n\\n\\n\\n        Thai\\n       \\n\\n\\n\\n\\n       Menu\\n      \\n\\n\\n\\n\\n\\n\\n\\n\\n\\n\\n\\n\\n\\n\\n\\n\\n\\n\\n\\n\\n\\n\\n\\n\\n\\n\\n\\n\\n\\n\\n\\n\\n\\n\\n\\n\\n\\n\\n\\n\\n\\n\\n\\n\\n\\n\\n\\n\\n\\n\\n', metadata={'source': 'C:\\\\Users\\\\Barani\\\\Desktop\\\\local_ollama\\\\llm_testing_urls\\\\test_3.html', 'title': '\\n   Contact us - SIRIRAJ\\n  '})]\n"
     ]
    }
   ],
   "source": [
    "loader = BSHTMLLoader(\"C:\\\\Users\\\\Barani\\\\Desktop\\\\local_ollama\\\\llm_testing_urls\\\\test_3.html\")\n",
    "\n",
    "data = loader.load()\n",
    "print(data)"
   ]
  },
  {
   "cell_type": "code",
   "execution_count": 5,
   "metadata": {},
   "outputs": [
    {
     "name": "stdout",
     "output_type": "stream",
     "text": [
      "8\n"
     ]
    }
   ],
   "source": [
    "text_splitter = CharacterTextSplitter.from_tiktoken_encoder(chunk_size=1500, chunk_overlap=100)\n",
    "doc_splits = text_splitter.split_documents(data)\n",
    "print(len(doc_splits))"
   ]
  },
  {
   "cell_type": "code",
   "execution_count": 6,
   "metadata": {},
   "outputs": [],
   "source": [
    "vectorstore = Chroma.from_documents(\n",
    "    documents=doc_splits,\n",
    "    collection_name=\"rag-chroma\",\n",
    "    embedding=embeddings.ollama.OllamaEmbeddings(model='nomic-embed-text'),\n",
    ")\n",
    "retriever = vectorstore.as_retriever()"
   ]
  },
  {
   "cell_type": "code",
   "execution_count": 7,
   "metadata": {},
   "outputs": [
    {
     "name": "stdout",
     "output_type": "stream",
     "text": [
      "Before RAG\n",
      "\n",
      " The Siriraj Hospital, also known as Siriraj Institute for Health Sciences, is located in Bangkok, Thailand. Here are its contact details:\n",
      "\n",
      "Address:\n",
      "Siriraj Hospital\n",
      "2 Samuel Vajiravudh Avenue,\n",
      "Bangkok 10200, Thailand\n",
      "\n",
      "Contact Number:\n",
      "General Inquiries: +66 2419 3500 or +66 2419 3700\n",
      "Emergency Room: +66 2419 3555\n",
      "International Patient Services: +66 2419 3551 or +66 2419 3552\n",
      "\n",
      "Email Address:\n",
      "For general inquiries and appointment scheduling, you can email at [sirirajhosp@mahidol.ac.th](mailto:sirirajhosp@mahidol.ac.th)\n",
      "International Patient Services: [intlpatient@mahidol.ac.th](mailto:intlpatient@mahidol.ac.th)\n",
      "\n",
      "Website:\n",
      "You can also visit their website at https://www.siriraj.mahidol.ac.th/ for more information about the hospital's services, departments, and facilities.\n"
     ]
    }
   ],
   "source": [
    "print(\"Before RAG\\n\")\n",
    "before_rag_template = \"Provide me {topic}\"\n",
    "before_rag_prompt = ChatPromptTemplate.from_template(before_rag_template)\n",
    "before_rag_chain = before_rag_prompt | model_local | StrOutputParser()\n",
    "print(before_rag_chain.invoke({\"topic\": \"addresses and contact number and email address of The Siriraj Hospital\"}))"
   ]
  },
  {
   "cell_type": "code",
   "execution_count": 15,
   "metadata": {},
   "outputs": [
    {
     "name": "stdout",
     "output_type": "stream",
     "text": [
      "\n",
      "########\n",
      "After RAG\n",
      "\n",
      " The context does not contain any explicit phone numbers mentioned. However, there are two phone numbers provided in the extracted documents from the context:\n",
      "\n",
      "1. +66 2 419 7000 (Thai Language Only)\n",
      "2. +66 2-419-1000 or domestic call 1474\n",
      "\n",
      "These phone numbers can be extracted from the given documents.\n"
     ]
    }
   ],
   "source": [
    "# 4. After RAG\n",
    "print(\"\\n########\\nAfter RAG\\n\")\n",
    "after_rag_template = \"\"\"Answer the question based only on the following context:\n",
    "{context}\n",
    "Question: {question}\n",
    "\"\"\"\n",
    "after_rag_prompt = ChatPromptTemplate.from_template(after_rag_template)\n",
    "after_rag_chain = (\n",
    "    {\"context\": retriever, \"question\": RunnablePassthrough()}\n",
    "    | after_rag_prompt\n",
    "    | model_local\n",
    "    | StrOutputParser()\n",
    ")\n",
    "print(after_rag_chain.invoke(\"extract the all phone numbers from the given context\"))"
   ]
  },
  {
   "cell_type": "code",
   "execution_count": 16,
   "metadata": {},
   "outputs": [
    {
     "data": {
      "text/plain": [
       "' siiro@mahidol.ac.th'"
      ]
     },
     "execution_count": 16,
     "metadata": {},
     "output_type": "execute_result"
    }
   ],
   "source": [
    "after_rag_chain.invoke(\"extract the email address from the given context\")"
   ]
  },
  {
   "cell_type": "code",
   "execution_count": null,
   "metadata": {},
   "outputs": [],
   "source": []
  }
 ],
 "metadata": {
  "kernelspec": {
   "display_name": "ollama",
   "language": "python",
   "name": "python3"
  },
  "language_info": {
   "codemirror_mode": {
    "name": "ipython",
    "version": 3
   },
   "file_extension": ".py",
   "mimetype": "text/x-python",
   "name": "python",
   "nbconvert_exporter": "python",
   "pygments_lexer": "ipython3",
   "version": "3.11.5"
  }
 },
 "nbformat": 4,
 "nbformat_minor": 2
}
