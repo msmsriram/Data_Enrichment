{
 "cells": [
  {
   "cell_type": "code",
   "execution_count": 1,
   "metadata": {},
   "outputs": [],
   "source": [
    "from langchain_community.document_loaders import WebBaseLoader\n",
    "from langchain_community.document_loaders import PyPDFLoader\n",
    "from langchain_community.vectorstores import Chroma\n",
    "from langchain_community import embeddings\n",
    "from langchain_community.chat_models import ChatOllama\n",
    "from langchain_core.runnables import RunnablePassthrough\n",
    "from langchain_core.output_parsers import StrOutputParser\n",
    "from langchain_core.prompts import ChatPromptTemplate\n",
    "from langchain.output_parsers import PydanticOutputParser\n",
    "from langchain.text_splitter import CharacterTextSplitter\n",
    "from langchain_community.document_loaders import BSHTMLLoader\n",
    "from langchain_core.output_parsers import JsonOutputParser\n",
    "from langchain_core.pydantic_v1 import BaseModel, Field"
   ]
  },
  {
   "cell_type": "code",
   "execution_count": 2,
   "metadata": {},
   "outputs": [],
   "source": [
    "model_local = ChatOllama(model=\"mistral\")"
   ]
  },
  {
   "cell_type": "code",
   "execution_count": 3,
   "metadata": {},
   "outputs": [],
   "source": [
    "loader = BSHTMLLoader(\"C:\\\\Users\\\\Barani\\\\Desktop\\\\local_ollama\\\\llm_testing_urls\\\\test_11.html\", \n",
    "                       bs_kwargs={\"features\": \"html.parser\"})\n",
    "data=loader.load()"
   ]
  },
  {
   "cell_type": "code",
   "execution_count": 4,
   "metadata": {},
   "outputs": [],
   "source": [
    "text_splitter = CharacterTextSplitter.from_tiktoken_encoder(chunk_size=400, chunk_overlap=40)\n",
    "doc_splits = text_splitter.split_documents(data)"
   ]
  },
  {
   "cell_type": "code",
   "execution_count": 5,
   "metadata": {},
   "outputs": [],
   "source": [
    "vectorstore = Chroma.from_documents(\n",
    "    documents=doc_splits,\n",
    "    collection_name=\"rag-chroma\",\n",
    "    embedding=embeddings.ollama.OllamaEmbeddings(model='nomic-embed-text'),\n",
    ")\n",
    "retriever = vectorstore.as_retriever()"
   ]
  },
  {
   "cell_type": "code",
   "execution_count": 6,
   "metadata": {},
   "outputs": [],
   "source": [
    "class format_json(BaseModel):\n",
    "    university_name : str = Field(description=\"organization name from the given context\")\n",
    "    address: str = Field(description=\"address from the given context\")\n",
    "    email_address: str = Field(description=\"email address from the given context\")\n",
    "    contact_number: str = Field(description=\"contact number from the given context\")"
   ]
  },
  {
   "cell_type": "code",
   "execution_count": 7,
   "metadata": {},
   "outputs": [
    {
     "name": "stdout",
     "output_type": "stream",
     "text": [
      "\n",
      "########\n",
      "After RAG\n",
      "\n"
     ]
    }
   ],
   "source": [
    "# 4. After RAG\n",
    "print(\"\\n########\\nAfter RAG\\n\")\n",
    "after_rag_template = \"\"\"Answer the question based only on the following context:\n",
    "{context} and only provide these details in this order only and the response will always will be containing these informations only such as address,contact number,email address in a json format\n",
    "{format_instructions}\n",
    "Question: {question}\n",
    "\"\"\"\n",
    "parser = JsonOutputParser(pydantic_object=format_json)\n",
    "after_rag_prompt = ChatPromptTemplate.from_template(after_rag_template,partial_variables={\"format_instructions\": parser.get_format_instructions()},)\n",
    "after_rag_chain = (\n",
    "    {\"context\": retriever, \"question\": RunnablePassthrough()}\n",
    "    | after_rag_prompt\n",
    "    | model_local\n",
    "    | parser\n",
    ")"
   ]
  },
  {
   "cell_type": "code",
   "execution_count": 8,
   "metadata": {},
   "outputs": [
    {
     "name": "stdout",
     "output_type": "stream",
     "text": [
      "{'university_name': 'Makerere University College Of health Sciences (MakCHS)', 'address': '', 'email_address': '', 'contact_number': ''}\n"
     ]
    }
   ],
   "source": [
    "print(after_rag_chain.invoke(\"provide the metioned entities from the given context\"))"
   ]
  },
  {
   "cell_type": "markdown",
   "metadata": {},
   "source": []
  },
  {
   "cell_type": "code",
   "execution_count": null,
   "metadata": {},
   "outputs": [],
   "source": []
  }
 ],
 "metadata": {
  "kernelspec": {
   "display_name": "ollama_2",
   "language": "python",
   "name": "python3"
  },
  "language_info": {
   "codemirror_mode": {
    "name": "ipython",
    "version": 3
   },
   "file_extension": ".py",
   "mimetype": "text/x-python",
   "name": "python",
   "nbconvert_exporter": "python",
   "pygments_lexer": "ipython3",
   "version": "3.11.5"
  }
 },
 "nbformat": 4,
 "nbformat_minor": 2
}
