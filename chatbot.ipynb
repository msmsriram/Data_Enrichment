{
 "cells": [
  {
   "cell_type": "code",
   "execution_count": 1,
   "metadata": {},
   "outputs": [],
   "source": [
    "from langchain_community.document_loaders import WebBaseLoader\n",
    "from langchain_community.document_loaders import PyPDFLoader\n",
    "from langchain_community.vectorstores import Chroma\n",
    "from langchain_community import embeddings\n",
    "from langchain_community.embeddings import GPT4AllEmbeddings\n",
    "from langchain_community.chat_models import ChatOllama\n",
    "from langchain_core.runnables import RunnablePassthrough\n",
    "from langchain_core.output_parsers import StrOutputParser\n",
    "from langchain_core.prompts import ChatPromptTemplate\n",
    "from langchain_core.prompts import PromptTemplate\n",
    "\n",
    "from langchain.output_parsers import PydanticOutputParser\n",
    "from langchain.text_splitter import CharacterTextSplitter\n",
    "from langchain_community.document_loaders import BSHTMLLoader\n",
    "from langchain.callbacks.streaming_stdout import StreamingStdOutCallbackHandler\n"
   ]
  },
  {
   "cell_type": "code",
   "execution_count": 2,
   "metadata": {},
   "outputs": [],
   "source": [
    "model_local = ChatOllama(model=\"mistral\",temperature=0)"
   ]
  },
  {
   "cell_type": "code",
   "execution_count": 50,
   "metadata": {},
   "outputs": [],
   "source": [
    "from langchain_community.document_loaders import PyPDFLoader\n",
    "\n",
    "loader = PyPDFLoader(\"C:\\\\Users\\\\Barani\\\\Desktop\\\\local_ollama\\\\pdfs\\\\ACC_5.pdf\")\n",
    "pages = loader.load_and_split()"
   ]
  },
  {
   "cell_type": "code",
   "execution_count": 51,
   "metadata": {},
   "outputs": [
    {
     "data": {
      "text/plain": [
       "[Document(page_content='cancer.org | 1.800.227.2345\\n \\nThe History of Cancer\\xa0\\nThe study of cancer, called oncology, is the work of countless doctors and scientists\\naround the world whose discoveries in anatomy, physiology, chemistry, epidemiology,\\nand other related fields made oncology what it is today. Technological advances and\\nthe ever-increasing understanding of cancer make this field one of the most rapidly\\nevolving areas of modern medicine.\\nThe growth in our knowledge of cancer biology has led to remarkable progress in\\ncancer prevention, early detection, and treatment. Scientists have learned more about\\ncancer in the last 2 decades than had been learned in all the centuries preceding. This\\ndoesn’t change the fact, however, that all scientific knowledge is based on the\\nknowledge already acquired by the hard work and discovery of our predecessors – and\\nwe know that there’s still a lot more to learn\\nUnderstanding What Cancer Is: Ancient Times to Present●\\nUnderstanding Cancer Causes: Ancient Times to Present●\\nHistory of Cancer Epidemiology: 18th Century to Present●\\nHistory of Cancer Screening and Early Detection: 20th Century to Present●\\nHistory of Cancer Treatments: Surgery●\\nHistory of Cancer Treatments: Hormone therapy●\\nHistory of Cancer Treatments: Radiation Therapy●\\nHistory of Cancer Treatments: Chemotherapy●\\nHistory of Cancer Treatments: Immunotherapy●\\nHistory of Cancer Treatments: Targeted Therapy●\\nAdvancement of Cancer Survivorship●\\n1', metadata={'source': 'C:\\\\Users\\\\Barani\\\\Desktop\\\\local_ollama\\\\pdfs\\\\ACC_5.pdf', 'page': 0}),\n",
       " Document(page_content='Understanding What Cancer Is: Ancient\\nTimes to Present\\xa0 American Cancer Society cancer.org | 1.800.227.2345 ____________________________________________________________________________________\\nOldest descriptions of cancer●\\nOrigin of the word cancer●\\nCancer in the Sixteenth to Eighteenth Centuries●\\nCancer in the Nineteenth Century●\\nOldest descriptions of cancer\\xa0\\xa0\\nHuman beings and other animals have had cancer throughout recorded history. So it’s\\nno surprise that from the dawn of history people have written about cancer. Some of the\\nearliest evidence of cancer is found among fossilized bone tumors, human mummies in\\nancient Egypt, and ancient manuscripts. Growths suggestive of the bone cancer called\\nosteosarcoma1 have been seen in mummies. Bony skull destruction as seen in cancer\\nof the head and neck has been found, too.\\nOur oldest description of cancer (although the word cancer was not used) was\\ndiscovered in Egypt and dates back to about 3000 BC. It’s called the Edwin Smith\\nPapyrus and is a copy of part of an ancient Egyptian textbook on trauma surgery. It\\ndescribes 8 cases of tumors or ulcers of the breast that were removed by cauterization\\nwith a tool called the fire drill. The writing says about the disease, “There is no\\ntreatment.”\\nOrigin of the word cancer\\xa0\\xa0\\nThe origin of the word cancer is credited to the Greek physician Hippocrates (460-370\\nBC), who is considered the “Father of Medicine.” Hippocrates used the terms carcinos\\nand carcinoma to describe non-ulcer forming and ulcer-forming tumors. In Greek, these\\nwords refer to a crab, most likely applied to the disease because the finger-like\\nspreading projections from a cancer called to mind the shape of a crab. The Roman\\nphysician, Celsus (25 BC - 50 AD), later translated the Greek term into cancer, the Latin\\nword for crab. Galen (130-200 AD), another Greek physician, used the word oncos\\n(Greek for swelling) to describe tumors. Although the crab analogy of Hippocrates and\\nCelsus is still used to describe malignant tumors, Galen’s term is now used as a part of\\nthe name for cancer specialists – oncologists.\\nCancer in the Sixteenth to Eighteenth Centuries\\xa0\\xa0\\n2', metadata={'source': 'C:\\\\Users\\\\Barani\\\\Desktop\\\\local_ollama\\\\pdfs\\\\ACC_5.pdf', 'page': 1}),\n",
       " Document(page_content='American Cancer Society cancer.org | 1.800.227.2345 ____________________________________________________________________________________\\nDuring the Renaissance, beginning in the 15th century, scientists developed greater\\nunderstanding of the human body. Scientists like Galileo and Newton began to use the\\nscientific method, which later was used to study disease. Autopsies, done by Harvey\\n(1628), led to an understanding of the circulation of blood through the heart and body\\nthat had until then been a mystery.\\nIn 1761, Giovanni Morgagni of Padua was the first to do something which has become\\nroutine today – he did autopsies to relate the patient’s illness to pathologic findings after\\ndeath. This laid the foundation for scientific oncology, the study of cancer.\\nThe famous Scottish surgeon John Hunter (1728-1793) suggested that some cancers\\nmight be cured by surgery and described how the surgeon might decide which cancers\\nto operate on. If the tumor had not invaded nearby tissue and was “moveable,” he said,\\n“There is no impropriety in removing it.”\\nA century later the development of anesthesia allowed surgery to flourish and classic\\ncancer operations such as the radical mastectomy were developed.\\nCancer in the Nineteenth Century\\xa0\\xa0\\nThe 19th century saw the birth of scientific oncology with use of the modern microscope\\nin studying diseased tissues. Rudolf Virchow, often called the founder of cellular\\npathology, provided the scientific basis for the modern pathologic study of cancer. As\\nMorgagni had linked autopsy findings seen with the unaided eye with the clinical course\\nof illness, so Virchow correlated microscopic pathology to illness.\\nThis method not only allowed a better understanding of the damage cancer had done,\\nbut also aided the development of cancer surgery. Body tissues removed by the\\nsurgeon could now be examined and a precise diagnosis could be made. The\\npathologist could also tell the surgeon whether the operation had completely removed\\nthe cancer.\\nHyperlinks\\nwww.cancer.org/cancer/understanding-cancer/what-is-cancer.html1.\\nwww.cancer.org/cancer/types/osteosarcoma.html2.\\nReferences\\n3', metadata={'source': 'C:\\\\Users\\\\Barani\\\\Desktop\\\\local_ollama\\\\pdfs\\\\ACC_5.pdf', 'page': 2}),\n",
       " Document(page_content='Understanding Cancer Causes: Ancient\\nTimes to Present\\xa0 American Cancer Society cancer.org | 1.800.227.2345 ____________________________________________________________________________________\\nContran R, Kumar V, Robbins S.\\xa0Robbins Pathologic Basis of Disease, 4th\\xa0ed.\\nPhiladelphia, Pa: WB Saunders; 1989.\\nDevita VT Jr, Rosenberg SA. Two Hundred Years of Cancer Research.\\xa0N Engl J\\nMed.\\xa02012;366(23):2207-2214.\\nDiamandopoulus GT. Cancer: An historical perspective.\\xa0Anticancer Res. 1996;16:1595-\\n1602.\\nGallucci BB. Selected concepts of cancer as a disease: From the Greeks to\\n1900.\\xa0Oncol Nurs Forum. 1985;12:67-71.\\nHajdu SI. A Note From History: Landmarks in History of Cancer, Part 1.\\xa0Cancer.\\n2011;117(5):1097-1102.\\nHajdu SI. A Note From History: Landmarks in History of Cancer, Part 2.\\xa0Cancer.\\n2011;117(12):2811-2820.\\nHajdu SI. A Note From History: Landmarks in History of Cancer, Part 3.\\xa0Cancer.\\n2012;118(4):1155-1168.\\nHajdu SI. A Note From History: Landmarks in History of Cancer, Part 4.\\xa0Cancer.\\n2012;118(20):4914-4928.\\nInstitut Jules Bordet. The History of Cancer. Accessed at\\nwww.bordet.be/en/presentation/history/cancer_e/cancer1.htm on June 8, 2012.\\nKardinal C, Yarbro J. A conceptual history of cancer.\\xa0Semin Oncol. 1979;6:396-408.\\nLast Revised: January 4, 2018\\nEarly theories about cancer causes●\\nDevelopment of modern knowledge about cancer causes●\\n4', metadata={'source': 'C:\\\\Users\\\\Barani\\\\Desktop\\\\local_ollama\\\\pdfs\\\\ACC_5.pdf', 'page': 3}),\n",
       " Document(page_content='American Cancer Society cancer.org | 1.800.227.2345 ____________________________________________________________________________________\\nEarly theories about cancer causes\\xa0\\xa0\\nFrom the earliest times, physicians have puzzled over the causes of cancer. Ancient\\nEgyptians blamed cancers on the gods.\\nHumoral theory\\nHippocrates believed that the body had 4 humors (body fluids): blood, phlegm, yellow\\nbile, and black bile. When the humors were balanced, a person was healthy. The belief\\nwas that too much or too little of any of the humors caused disease. An excess of black\\nbile in various body sites was thought to cause cancer. This theory of cancer was\\npassed on by the Romans and was embraced by the influential doctor Galen’s medical\\nteaching, which remained the unchallenged standard through the Middle Ages for over\\n1,300 years. During this period, the study of the body, including autopsies, was\\nprohibited for religious reasons, which limited progress of medical knowledge.\\nLymph theory\\nAmong theories that replaced the humoral theory of cancer was the formation of cancer\\nby another body fluid, lymph. Life was believed to consist of continuous and appropriate\\nmovement of the fluid parts of the body through the solid parts. Of all the fluids, the\\nmost important were blood and lymph. Stahl and Hoffman theorized that cancer was\\ncomposed of fermenting and degenerating lymph, varying in density, acidity, and\\nalkalinity. The lymph theory gained rapid support. John Hunter, the Scottish surgeon\\nfrom the 1700s, agreed that tumors grow from lymph constantly thrown out by the\\nblood.\\nBlastema theory\\nIn 1838, German pathologist Johannes Muller demonstrated that cancer is made up of\\ncells and not lymph, but he believed that cancer cells did not come from normal cells.\\nMuller proposed that cancer cells developed from budding elements (blastema)\\nbetween normal tissues. His student, Rudolph Virchow (1821-1902), the famous\\nGerman pathologist, determined that all cells, including cancer cells, are derived from\\nother cells.\\nChronic irritation theory\\nVirchow proposed that chronic irritation was the cause of cancer, but he believed\\nincorrectly that cancers “spread like a liquid.” In the 1860s, German surgeon, Karl\\nThiersch, showed that cancers metastasize through the spread of malignant cells and\\n5', metadata={'source': 'C:\\\\Users\\\\Barani\\\\Desktop\\\\local_ollama\\\\pdfs\\\\ACC_5.pdf', 'page': 4}),\n",
       " Document(page_content='American Cancer Society cancer.org | 1.800.227.2345 ____________________________________________________________________________________\\nnot through some unidentified fluid.\\nTrauma theory\\nDespite advances in the understanding of cancer, from the late 1800s until the 1920s,\\ntrauma was thought by some to cause cancer. This belief was maintained despite the\\nfailure of injury to cause cancer in experimental animals.\\nInfectious disease theory\\nZacutus Lusitani (1575-1642) and Nicholas Tulp (1593-1674), 2 doctors in Holland,\\nconcluded at almost the same time that cancer was contagious. They made this\\nconclusion based on their experiences with breast cancer in members of the same\\nhousehold. Lusitani and Tulp publicized the contagion theory in 1649 and 1652,\\nrespectively. They proposed that cancer patients should be isolated, preferably outside\\nof cities and towns, in order to prevent the spread of cancer.\\nThroughout the 17th and 18th centuries, some believed that cancer was contagious. In\\nfact, the first cancer hospital in France was forced to move from the city in 1779\\nbecause people feared cancer would spread throughout the city. Although human\\ncancer, itself, is not contagious, we now know that certain viruses, bacteria, and\\nparasites can increase a person’s risk of developing cancer1.\\nDevelopment of modern knowledge about cancer causes\\xa0\\xa0\\nViral and chemical carcinogens\\nIn 1915, Katsusaburo Yamagiwa and Koichi Ichikawa at Tokyo University, induced\\ncancer in lab animals for the first time by applying coal tar to rabbit skin. More than 150\\nyears had passed since clinician John Hill of London recognized tobacco as a\\ncarcinogen2 (a substance known or believed to cause cancer in humans). Many more\\nyears passed before tobacco was “rediscovered” as the most destructive source of\\nchemical carcinogens known to man.\\nToday we recognize and avoid many specific substances that cause cancer: coal tars\\nand their derivatives (like benzene3), some hydrocarbons, aniline (a substance used to\\nmake dyes), asbestos4, and many others. Ionizing radiation from a variety of sources,\\nincluding the sun5, is also known to cause cancer. To ensure the public’s safety, the\\ngovernment has set safety standards for many substances, including benzene,\\nasbestos, hydrocarbons in the air, arsenic6 in drinking water, and radiation.\\n6', metadata={'source': 'C:\\\\Users\\\\Barani\\\\Desktop\\\\local_ollama\\\\pdfs\\\\ACC_5.pdf', 'page': 5}),\n",
       " Document(page_content='American Cancer Society cancer.org | 1.800.227.2345 ____________________________________________________________________________________\\nIn 1911, Peyton Rous, at the Rockefeller Institute in New York, described a type of\\ncancer (sarcoma) in chickens caused by what later became known as the Rous\\nsarcoma virus. He was awarded the Nobel Prize for that work in 1968. Several viruses\\nare now linked to cancer in humans, for example:\\nLong-standing infection with the hepatitis B or C viruses can lead to cancer of the\\nliver7.●\\nOne of the herpes viruses, the Epstein-Barr virus, causes infectious mononucleosis\\nand has been linked to non-Hodgkin lymphomas8 and nasopharyngeal cancer9.●\\nPeople with human immunodeficiency virus (HIV)10 have greater increased risk of\\ndeveloping several cancers, especially Kaposi sarcoma11 and non-Hodgkin\\nlymphoma.●\\nHuman papilloma viruses (HPVs)12 have been linked to many cancers, especially\\nthose of the cervix13, vulva14, vagina15, anus16, and penis17. Some head and neck\\ncancers (mostly the tongue and tonsils18) are linked to the high-risk types of HPV,\\ntoo. Today there are vaccines to help prevent HPV infection.●\\nAs of 2014, the World Health Organization’s International Agency for Research on\\nCancer (IARC) has identified more than 100 chemical, physical, and biological\\ncarcinogens. Many of these associations were recognized long before scientists\\nunderstood much about how cancer develops. Today, research is discovering new\\ncarcinogens, explaining how they cause cancer, and providing insight into ways to\\nprevent cancer.\\nBy the middle of the 20th century, scientists had the instruments they needed to work\\non some of the complex problems of chemistry and biology that remained unsolved.\\nJames Watson and Francis Crick, who received a Nobel Prize in 1962 for their work,\\nhad discovered the exact chemical structure of DNA, the basic material in genes.\\nDNA was found to be the basis of the genetic code that gives orders to all cells. After\\nlearning how to translate this code, scientists were able to understand how genes\\nworked and how they could be damaged by mutations (changes or mistakes in genes).\\nThese modern techniques of chemistry and biology answered many complex questions\\nabout cancer.\\nScientists already knew that cancer could be caused by chemicals, radiation, and\\nviruses, and that sometimes cancer seemed to run in families. But as the understanding\\nof DNA and genes increased, they learned that it was the damage to DNA by chemicals\\nand radiation, or the introduction of new DNA sequences by viruses that often led to the\\ndevelopment of cancer. It became possible to pinpoint the exact site of the damage on a\\n7', metadata={'source': 'C:\\\\Users\\\\Barani\\\\Desktop\\\\local_ollama\\\\pdfs\\\\ACC_5.pdf', 'page': 6}),\n",
       " Document(page_content='American Cancer Society cancer.org | 1.800.227.2345 ____________________________________________________________________________________\\nspecific gene.\\nScientists discovered that sometimes defective genes are inherited, and sometimes\\nthese inherited genes are defective at the points where certain chemicals also tend to\\ncause damage. In other words, most of the things that caused cancer (carcinogens)\\ncaused genetic damage (mutations) that looked a lot like the mutations that could be\\ninherited and could result in the same types of cancer if more mutations were\\nintroduced.\\nNo matter which way the first mutation started (inborn or spontaneous), the cells that\\ngrew from the mutated cells led to groups of abnormal cells (called clones, or duplicates\\nof the abnormal cell). The mutant clones evolved to even more malignant clones over\\ntime, and the cancer progressed by more and more genetic damage and mutations. The\\nbig difference between normal tissues and cancer is that normal cells with damaged\\nDNA die, while cancer cells with damaged DNA do not. The discovery of this critical\\ndifference answered many questions that had troubled scientists for many years.\\nOncogenes and tumor suppressor genes\\nDuring the 1970s, scientists discovered 2 particularly important families of genes related\\nto cancer: oncogenes and tumor suppressor genes19.\\nOncogenes: These genes cause cells to grow out of control and become cancer cells.\\nThey are formed by changes or mutations of certain normal genes of the cell called\\nproto-oncogenes. Proto-oncogenes are the genes that normally control how often a cell\\ndivides and the degree to which it differentiates (or specializes in a specific function in\\nthe body).\\nTumor suppressor genes: These are normal genes that slow down cell division, repair\\nDNA errors, and tell cells when to die (a process known as apoptosis or programmed\\ncell death). When tumor suppressor genes don’t work properly, cells can grow out of\\ncontrol, which can lead to cancer.\\nIt may be helpful to think of a cell as a car. For it to work properly, there need to be\\nways to control how fast it goes. A proto-oncogene normally functions in a way that is\\nsimilar to a gas pedal – it helps the cell grow and divide. An oncogene could be\\ncompared to a gas pedal that is stuck down, which causes the cell to divide out of\\ncontrol. A tumor suppressor gene is like the brake pedal on a car. It normally keeps the\\ncell from dividing too quickly just as a brake keeps a car from going too fast. When\\nsomething goes wrong with the gene, for example if a mutation causes it to stop\\nworking, cell division can get out of control.\\n8', metadata={'source': 'C:\\\\Users\\\\Barani\\\\Desktop\\\\local_ollama\\\\pdfs\\\\ACC_5.pdf', 'page': 7}),\n",
       " Document(page_content='American Cancer Society cancer.org | 1.800.227.2345 ____________________________________________________________________________________\\nSlowly, medical scientists are identifying the oncogenes and tumor suppressor genes\\nthat are damaged by chemicals or radiation and those that, when inherited, can lead to\\ncancer. For example, the 1990s discovery of 2 genes that cause some breast cancers,\\nBRCA1 and BRCA2, is a step forward because these genes can be used to identify\\npeople who have a higher risk of developing breast cancer20.\\nOther genes have been discovered that are linked to cancers that run in families, such\\nas cancers of the colon, rectum21, kidney22, ovary23, thyroid24, pancreas25, and skin\\nmelanoma26. Familial cancer is not nearly as common as spontaneous cancer (cancer\\nthat is caused by DNA damage that starts during a person’s lifetime). Cancer linked to\\nheredity27 is less than 15% of all cancers. Still, it’s important to understand these\\ncancers because with continued research in genetics we may be able to identify more\\npeople at very high risk.\\nOnce researchers recognized the importance of specific genetic changes in cancer,\\nthey soon began working to develop targeted therapies28 (drugs or substances that\\ninterfere with specific molecules) to overcome the effects of these changes in tumor\\nsuppressor genes and oncogenes.\\xa0\\nHyperlinks\\nwww.cancer.org/cancer/risk-prevention/infections.html1.\\nwww.cancer.org/cancer/risk-prevention/tobacco.html2.\\nwww.cancer.org/cancer/risk-prevention/chemicals/benzene.html3.\\nwww.cancer.org/cancer/risk-prevention/chemicals/asbestos.html4.\\nwww.cancer.org/cancer/risk-prevention/radiation-exposure.html5.\\nwww.cancer.org/cancer/risk-prevention/chemicals/arsenic.html6.\\nwww.cancer.org/cancer/types/liver-cancer.html7.\\nwww.cancer.org/cancer/types/non-hodgkin-lymphoma.html8.\\nwww.cancer.org/cancer/types/nasopharyngeal-cancer.html9.\\nwww.cancer.org/cancer/risk-prevention/infections/hiv-infection-aids.html10.\\nwww.cancer.org/cancer/types/kaposi-sarcoma.html11.\\nwww.cancer.org/cancer/risk-prevention/hpv.html12.\\nwww.cancer.org/cancer/types/cervical-cancer.html13.\\nwww.cancer.org/cancer/types/vulvar-cancer.html14.\\nwww.cancer.org/cancer/types/vaginal-cancer.html15.\\nwww.cancer.org/cancer/types/anal-cancer.html16.\\n9', metadata={'source': 'C:\\\\Users\\\\Barani\\\\Desktop\\\\local_ollama\\\\pdfs\\\\ACC_5.pdf', 'page': 8}),\n",
       " Document(page_content='American Cancer Society cancer.org | 1.800.227.2345 ____________________________________________________________________________________\\nwww.cancer.org/cancer/types/penile-cancer.html17.\\nwww.cancer.org/cancer/types/oral-cavity-and-oropharyngeal-cancer.html18.\\nwww.cancer.org/cancer/understanding-cancer/genes-and-cancer.html19.\\nwww.cancer.org/cancer/types/breast-cancer.html20.\\nwww.cancer.org/cancer/types/colon-rectal-cancer.html21.\\nwww.cancer.org/cancer/types/kidney-cancer.html22.\\nwww.cancer.org/cancer/types/ovarian-cancer.html23.\\nwww.cancer.org/cancer/types/thyroid-cancer.html24.\\nwww.cancer.org/cancer/types/pancreatic-cancer.html25.\\nwww.cancer.org/cancer/types/melanoma-skin-cancer.html26.\\nwww.cancer.org/cancer/risk-prevention/genetics/family-cancer-syndromes.html27.\\nwww.cancer.org/cancer/managing-cancer/treatment-types/targeted-therapy.html28.\\nReferences\\nContran R, Kumar V, Robbins S.\\xa0Robbins Pathologic Basis of Disease, 4th\\xa0ed.\\nPhiladelphia, Pa: WB Saunders; 1989.\\nDevita VT Jr, Rosenberg SA. Two Hundred Years of Cancer Research.\\xa0N Engl J\\nMed.\\xa02012;366(23):2207-2214.\\nDiamandopoulus GT. Cancer: An historical perspective.\\xa0Anticancer Res. 1996;16:1595-\\n1602.\\nGallucci BB. Selected concepts of cancer as a disease: From the Greeks to\\n1900.\\xa0Oncol Nurs Forum. 1985;12:67-71.\\nHajdu SI. A Note From History: Landmarks in History of Cancer, Part 1.\\xa0Cancer.\\n2011;117(5):1097-1102.\\nHajdu SI. A Note From History: Landmarks in History of Cancer, Part 2.\\xa0Cancer.\\n2011;117(12):2811-2820.\\nHajdu SI. A Note From History: Landmarks in History of Cancer, Part 3.\\xa0Cancer.\\n2012;118(4):1155-1168.\\nHajdu SI. A Note From History: Landmarks in History of Cancer, Part 4.\\xa0Cancer.\\n2012;118(20):4914-4928.\\n10', metadata={'source': 'C:\\\\Users\\\\Barani\\\\Desktop\\\\local_ollama\\\\pdfs\\\\ACC_5.pdf', 'page': 9}),\n",
       " Document(page_content='History of Cancer Epidemiology: 18th\\nCentury to Present\\xa0 American Cancer Society cancer.org | 1.800.227.2345 ____________________________________________________________________________________\\nHajdu SI, Darvishian F. A Note From History: Landmarks in History of Cancer, Part\\n5.\\xa0Cancer. 2013;119(8):1450-1466.\\nHajdu SI, Vadmal M. A Note From History: Landmarks in History of Cancer, Part\\n6.\\xa0Cancer. 2013;119(23):4058-4082.\\nInstitut Jules Bordet. The History of Cancer. Accessed at\\nwww.bordet.be/en/presentation/history/cancer_e/cancer1.htm on June 8, 2012.\\nKardinal C, Yarbro J. A conceptual history of cancer.\\xa0Semin Oncol. 1979;6:396-408.\\nLast Revised: June 12, 2014\\nDuring the 18th century, 3 important observations launched the field of cancer\\nepidemiology (epidemiology is the study of causes, distribution, and control of\\ndiseases):\\nIn 1713, Bernardino Ramazzini, an Italian doctor, reported the virtual absence of\\ncervical cancer1 and relatively high incidence of breast cancer2 in nuns and\\nwondered if this was in some way related to their celibate lifestyle. This observation\\nwas an important step toward identifying and understanding the importance of\\nhormones (like the changes that come with pregnancy) and sexually-transmitted\\ninfections and cancer risk3.●\\nIn 1775, Percival Pott of Saint Bartholomew’s Hospital in London described an\\noccupational cancer in chimney sweeps, cancer of the scrotum, which was caused\\nby soot collecting in the skin folds of the scrotum. This research led to many more\\nstudies that identified a number of occupational carcinogenic exposures4 and led to\\npublic health measures to reduce a person’s cancer risk at work.●\\nThomas Venner of London was one of the first to warn about tobacco dangers in\\nhis Via Recta, published in London in 1620. He wrote that “immoderate use of\\ntobacco hurts the brain and the eye and induces trembling of the limbs and the\\nheart.” And 150 years later, in 1761, only a few decades after recreational tobacco●\\n11', metadata={'source': 'C:\\\\Users\\\\Barani\\\\Desktop\\\\local_ollama\\\\pdfs\\\\ACC_5.pdf', 'page': 10}),\n",
       " Document(page_content='American Cancer Society cancer.org | 1.800.227.2345 ____________________________________________________________________________________\\nbecame popular in London, John Hill wrote a book entitled Cautions Against the\\nImmoderate Use of Snuff. These first observations linking tobacco and cancer5 led\\nto epidemiologic research many years later (in the 1950s and early 1960s) which\\nshowed that smoking causes lung cancer and led to the US Surgeon General’s\\n1964 report Smoking and Health.\\nEpidemiologists continue to search for factors that cause cancer (like tobacco use,\\nobesity6, ultraviolet radiation7), as well as those things that can help protect against\\ncancer (such as physical activity and a healthy diet8). This research provides evidence\\nto guide public health recommendations and regulations.\\nAs molecular biologists learn more about how factors cause or prevent cancer, this\\ninformation is used to study molecular epidemiology, which is the study of interactions\\nbetween genes and external factors.\\nHyperlinks\\nwww.cancer.org/cancer/types/cervical-cancer.html1.\\nwww.cancer.org/cancer/types/breast-cancer.html2.\\nwww.cancer.org/cancer/risk-prevention/infections.html3.\\nwww.cancer.org/cancer/risk-prevention/chemicals.html4.\\nwww.cancer.org/cancer/risk-prevention/tobacco.html5.\\nwww.cancer.org/cancer/risk-prevention/diet-physical-activity/body-weight-and-\\ncancer-risk.html6.\\nwww.cancer.org/cancer/risk-prevention/sun-and-uv/uv-radiation.html7.\\nwww.cancer.org/cancer/risk-prevention/diet-physical-activity/acs-guidelines-\\nnutrition-physical-activity-cancer-prevention.html8.\\nReferences\\nContran R, Kumar V, Robbins S.\\xa0Robbins Pathologic Basis of Disease, 4th\\xa0ed.\\nPhiladelphia, Pa: WB Saunders; 1989.\\nDevita VT Jr, Rosenberg SA. Two Hundred Years of Cancer Research.\\xa0N Engl J\\nMed.\\xa02012;366(23):2207-2214.\\nDiamandopoulus GT. Cancer: An historical perspective.\\xa0Anticancer Res. 1996;16:1595-\\n12', metadata={'source': 'C:\\\\Users\\\\Barani\\\\Desktop\\\\local_ollama\\\\pdfs\\\\ACC_5.pdf', 'page': 11}),\n",
       " Document(page_content='History of Cancer Screening and Early\\nDetection: 20th Century to Present\\xa0 American Cancer Society cancer.org | 1.800.227.2345 ____________________________________________________________________________________\\n1602.\\nHajdu SI. A Note From History: Landmarks in History of Cancer, Part 3.\\xa0Cancer.\\n2012;118(4):1155-1168.\\nHajdu SI. A Note From History: Landmarks in History of Cancer, Part 4.\\xa0Cancer.\\n2012;118(20):4914-4928.\\nHajdu SI, Darvishian F. A Note From History: Landmarks in History of Cancer, Part\\n5.\\xa0Cancer. 2013;119(8):1450-1466.\\nHajdu SI, Vadmal M. A Note From History: Landmarks in History of Cancer, Part\\n6.\\xa0Cancer. 2013;119(23):4058-4082.\\nInstitut Jules Bordet. The History of Cancer. Accessed at\\nwww.bordet.be/en/presentation/history/cancer_e/cancer1.htm on June 8, 2012.\\nKardinal C, Yarbro J. A conceptual history of cancer.\\xa0Semin Oncol. 1979;6:396-408.\\nLast Revised: June 12, 2014\\nThe future of cancer screening and early detection●\\nScreening refers to tests used to find a disease, such as cancer, in people who do not\\nhave any symptoms.\\nThe first screening test to be widely used for cancer was the Pap test. The test was\\ndeveloped by George Papanicolaou as a research method in understanding the\\nmenstrual cycle. Papanicolaou soon recognized its potential for finding cervical cancer\\nearly and presented his findings in 1923. At first, most doctors were skeptical, and it\\nwas not until the American Cancer Society (ACS) promoted the test during the early\\n1960s that this test became widely used. Since that time, cervical cancer incidence and\\nmortality rates have decreased by more than 50% due to screening, which can detect\\n13', metadata={'source': 'C:\\\\Users\\\\Barani\\\\Desktop\\\\local_ollama\\\\pdfs\\\\ACC_5.pdf', 'page': 12}),\n",
       " Document(page_content='American Cancer Society cancer.org | 1.800.227.2345 ____________________________________________________________________________________\\nboth cervical pre-cancers and cervical cancer at an early stage.\\nModern mammography methods were developed late in the 1960s and first officially\\nrecommended by the ACS in 1976. The mammogram continues to be the most reliable\\nway to screen for breast cancer.\\nCurrent American Cancer Society guidelines1 include methods for early detection of\\ncervical, breast, colorectal,\\xa0lung, and prostate cancers.\\nThe future of cancer screening and early detection\\xa0\\xa0\\nExpression profiling and proteomics\\nExpression profiling lets scientists determine relative output of hundreds or even\\nthousands of molecules (including the proteins made by RNA, DNA, or even a cell or\\ntissue) at one time. Knowing what proteins are present in cells can tell scientists a lot\\nabout how the cell is behaving. In cancer, it can help distinguish more aggressive\\ncancers from less aggressive ones, and can often help predict which drugs the tumor is\\nlikely to respond to.\\nProteomic methods are also being tested for cancer screening. For most types of\\ncancer, measuring the amount of one protein in the blood is not very good at finding\\nearly cancers. But researchers are hopeful that comparing the relative amounts of many\\nproteins may be more useful, and that finding large amounts of certain proteins and less\\nof others can provide accurate, useful information about cancer treatment and its\\noutcomes. Proteins (and other types of molecules) are even found in exhaled breath,\\nwhich is now being tested to find out if it can show early signs of lung cancer. This is an\\nexciting area of research and early results in lung and colorectal cancer studies have\\nbeen promising.\\nNanotechnology\\nNew technology for producing materials that form extremely tiny particles is leading to\\nvery promising imaging tests that can more accurately show the location of tumors. It\\nalso is aiding the development of new ways to deliver drugs more specifically and\\neffectively to cancer cells.\\nHyperlinks\\n14', metadata={'source': 'C:\\\\Users\\\\Barani\\\\Desktop\\\\local_ollama\\\\pdfs\\\\ACC_5.pdf', 'page': 13}),\n",
       " Document(page_content='American Cancer Society cancer.org | 1.800.227.2345 ____________________________________________________________________________________\\nwww.cancer.org/cancer/screening/american-cancer-society-guidelines-for-the-\\nearly-detection-of-cancer.html1.\\nReferences\\nAmerican Society of Clinical Oncology. Clinical Cancer Advances 2010: ASCO’s Annual\\nReport on Progress Against Cancer. Accessed at\\nwww.cancer.net/patient/Publications%20and%20Resources/Clinical%20Cancer%20Adv\\nances/CCA_2010.pdf on June 8, 2012.\\nAmerican Society of Clinical Oncology. Clinical Cancer Advances 2011: ASCO’s Annual\\nReport on Progress Against Cancer. Accessed at\\nwww.cancer.net/patient/Publications%20and%20Resources/Clinical%20Cancer%20Adv\\nances/CCA_2011.pdf on June 8, 2012.\\nAmerican Society of Clinical Oncology. Progress & Timeline. Accessed at\\nwww.cancerprogress.net/timeline/major-milestones-against-cancer on June 12, 2014.\\nContran R, Kumar V, Robbins S.\\xa0Robbins Pathologic Basis of Disease, 4th\\xa0ed.\\nPhiladelphia, Pa: WB Saunders; 1989.\\nCureToday. Timeline: Milestones in Cancer Treatment. Accessed at\\nwww.curetoday.com/index.cfm/fuseaction/article.show/id/2/article_id/631 on June 7,\\n2012.\\nDevita VT Jr, Rosenberg SA. Two Hundred Years of Cancer Research.\\xa0N Engl J\\nMed.\\xa02012;366(23):2207-2214.\\nDiamandopoulus GT. Cancer: An historical perspective.\\xa0Anticancer Res. 1996;16:1595-\\n1602.\\nHajdu SI, Darvishian F. A Note From History: Landmarks in History of Cancer, Part\\n5.\\xa0Cancer. 2013;119(8):1450-1466.\\nHajdu SI, Vadmal M. A Note From History: Landmarks in History of Cancer, Part\\n6.\\xa0Cancer. 2013;119(23):4058-4082.\\nInstitut Jules Bordet. The History of Cancer. Accessed at\\nwww.bordet.be/en/presentation/history/cancer_e/cancer1.htm on June 8, 2012.\\n15', metadata={'source': 'C:\\\\Users\\\\Barani\\\\Desktop\\\\local_ollama\\\\pdfs\\\\ACC_5.pdf', 'page': 14}),\n",
       " Document(page_content='History of Cancer Treatments: Surgery\\xa0 American Cancer Society cancer.org | 1.800.227.2345 ____________________________________________________________________________________\\nKardinal C, Yarbro J. A conceptual history of cancer.\\xa0Semin Oncol. 1979;6:396-408.\\nLast Revised: May 17, 2021\\nThe future of cancer surgery●\\nAncient physicians and surgeons knew that cancer would usually come back after it was\\nsurgically removed. The Roman physician Celsus wrote, “After excision, even when a\\nscar has formed, none the less the disease has returned.”\\nGalen was a 2nd-century Greek doctor whose books were preserved for centuries. He\\nwas thought to be the highest medical authority for over a thousand years. Galen\\nviewed cancer much as Hippocrates had, and considered the patient incurable after a\\ndiagnosis of cancer had been made. His views set the pattern for cancer management\\nfor centuries.\\nEven though medicine progressed and flourished in some ancient civilizations, there\\nwas little progress in cancer treatment. The approach to cancer was Hippocratic (or\\nGalenic) for the most part. To some extent the belief that cancer cannot be cured has\\npersisted even into the 21st century. This has served to fuel the fear people have of the\\ndisease. Some people, even today, consider all cancer incurable and put off seeing a\\ndoctor until it’s too late for optimal treatment.\\nCancer treatment has gone through a slow process of development. The ancients\\nrecognized that there was no curative treatment once a cancer had spread, and that\\nintervention might be more harmful than no treatment at all. Galen did write about\\nsurgical cures for breast cancer if the tumor could be completely removed at an early\\nstage. Surgery then was very primitive with many complications, including blood loss. It\\nwasn’t until the 19th and early 20th centuries that major advances were made in general\\nsurgery and cancer surgery.\\nThere were great surgeons before the discovery of anesthesia. John Hunter, Astley\\nCooper, and John Warren achieved lasting acclaim for their swift and precise surgery.\\nBut when anesthesia became available in 1846, the work advanced so rapidly that the\\nnext hundred years became known as “the century of the surgeon.”\\n16', metadata={'source': 'C:\\\\Users\\\\Barani\\\\Desktop\\\\local_ollama\\\\pdfs\\\\ACC_5.pdf', 'page': 15}),\n",
       " Document(page_content='American Cancer Society cancer.org | 1.800.227.2345 ____________________________________________________________________________________\\nThree surgeons stand out because of their contributions to the art and science of cancer\\nsurgery: Bilroth in Germany, Handley in London, and Halsted in Baltimore. Their work\\nled to “cancer operations” designed to remove the entire tumor along with the lymph\\nnodes in the region where the tumor was located.\\nWilliam Stewart Halsted, professor of surgery at Johns Hopkins University, developed\\nthe radical mastectomy during the last decade of the 19th century. His work was based\\nin part on that of W. Sampson Handley, the London surgeon who believed that cancer\\nspread outward by invasion from the original growth. (The general concept of the radical\\nmastectomy can be traced all the way back to Lorenz Heister, a German who wrote\\nabout his ideas for mastectomy and lumpectomy in his book, Chirurgie, published in\\n1719.)\\nHalsted did not believe that cancers usually spread through the bloodstream: “Although\\nit undoubtedly occurs, I am not sure that I have observed from breast cancer1,\\nmetastasis which seemed definitely to have been conveyed by way of the blood\\nvessels.” He believed that adequate local removal of the cancer would cure it – if the\\ncancer later appeared elsewhere, it was a new process. That belief led him to develop\\nthe radical mastectomy for breast cancer. This became the basis of cancer surgery for\\nalmost a century. Then, in the 1970s, modern clinical trials2 demonstrated that less\\nextensive surgery is equally effective for most women with breast cancer. Today, a\\nradical mastectomy is almost never done and the “modified radical mastectomy” is\\nperformed less frequently than before. Most women with breast cancer now have the\\nprimary tumor removed (lumpectomy), and then have radiation therapy.\\nAt the same time Halsted and Handley were developing their radical operations, another\\nsurgeon was asking, “What is it that decides which organs shall suffer in a case of\\ndisseminated cancer?” Stephen Paget, an English surgeon, concluded that cancer cells\\nspread by way of the bloodstream to all organs in the body but were able to grow only in\\na few organs. In a brilliant leap of logic he drew an analogy between cancer metastasis\\nand seeds that “are carried in all directions, but they can only live and grow if they fall\\non congenial soil.”\\nPaget’s conclusion that cells from a primary tumor spread through the bloodstream but\\ncould grow only in certain, and not all, organs was an accurate and highly sophisticated\\nhypothesis that was confirmed by the techniques of modern cellular and molecular\\nbiology almost a hundred years later. This understanding of metastasis became a key\\nelement in recognizing the limitations of cancer surgery. It eventually allowed doctors to\\ndevelop systemic treatments used after surgery to destroy cells that had spread\\nthroughout the body so that they could use less mutilating operations in treating many\\ntypes of cancer. Today these systemic treatments may also be used before surgery.\\n17', metadata={'source': 'C:\\\\Users\\\\Barani\\\\Desktop\\\\local_ollama\\\\pdfs\\\\ACC_5.pdf', 'page': 16}),\n",
       " Document(page_content='American Cancer Society cancer.org | 1.800.227.2345 ____________________________________________________________________________________\\nDuring the final decades of the 20th century, surgeons developed greater technical\\nexpertise in minimizing the amounts of normal tissue removed during cancer operations.\\nLike the trend from radical mastectomy to lumpectomy, progress was also made in\\nremoving bone and soft tissue tumors of the arms and legs without the need for\\namputation in most cases, and in avoiding a colostomy3 for most patients with rectal\\ncancer4. This progress depended not only on understanding cancer better as a disease\\nand on better surgical instruments, but also on combining surgery with chemotherapy\\nand/or radiation.\\nUntil near the end of the 20th century, diagnosing cancer often required “exploratory\\nsurgery” to open the abdomen (belly) or chest so the surgeon could take tissue samples\\nto be tested for cancer. Starting in the 1970s, progress in imaging tests5 such as\\nultrasound (sonography), computed tomography (CT scans), magnetic resonance\\nimaging (MRI scans), and positron emission tomography (PET scans) have replaced\\nmany exploratory operations. CT scans and ultrasound can also be used to guide\\nbiopsy needles into tumors.\\nToday, doctors use instruments with fiberoptic technology and miniature video cameras\\nto look inside the body. Surgeons can operate using special surgical instruments\\nthrough narrow tubes put into small cuts in the skin. These instruments can be used to\\nlook and work inside the abdomen (laparoscopic surgery) or chest (thorascopic\\nsurgery). A similar instrument, the endoscope, can be used to remove some tumors in\\nthe colon6, esophagus7, or bladder8 by entering through natural body openings such as\\nthe mouth or anus.\\nLess invasive ways of destroying tumors without removing them are being studied\\nand/or used. Cryosurgery (also called cryotherapy or cryoablation) uses liquid nitrogen\\nspray or a very cold probe to freeze and kill abnormal cells. Lasers can be used to cut\\nthrough tissue (instead of using a scalpel) or to vaporize (burn and destroy) cancers of\\nthe cervix9, larynx10 (voice box), liver11, rectum12, skin13, and other organs.\\nRadiofrequency ablation transmits radio waves to a small antenna placed in the tumor\\nto kill cancer cells by heating them.\\nThe future of cancer surgery\\xa0\\xa0\\nRobotic surgery\\nThis term refers to manipulation of surgical instruments remotely by robot arms and\\nother devices controlled by a surgeon. Robotic systems have been used for several\\ntypes of cancer surgery; radical prostatectomy is among the most common uses in\\nsurgical oncology. As mechanical and computer technology improve, some researchers\\n18', metadata={'source': 'C:\\\\Users\\\\Barani\\\\Desktop\\\\local_ollama\\\\pdfs\\\\ACC_5.pdf', 'page': 17}),\n",
       " Document(page_content='American Cancer Society cancer.org | 1.800.227.2345 ____________________________________________________________________________________\\nexpect future systems will be able to remove tumors more completely and with less\\nsurgical trauma.\\nHyperlinks\\nwww.cancer.org/cancer/types/breast-cancer.html1.\\nwww.cancer.org/cancer/managing-cancer/making-treatment-decisions/clinical-\\ntrials.html2.\\nwww.cancer.org/cancer/managing-cancer/treatment-\\ntypes/surgery/ostomies/colostomy.html3.\\nwww.cancer.org/cancer/types/colon-rectal-cancer.html4.\\nwww.cancer.org/cancer/diagnosis-staging/tests/imaging-tests/imaging-radiology-\\ntests-for-cancer.html5.\\nwww.cancer.org/cancer/types/colon-rectal-cancer.html6.\\nwww.cancer.org/cancer/types/esophagus-cancer.html7.\\nwww.cancer.org/cancer/types/bladder-cancer.html8.\\nwww.cancer.org/cancer/types/cervical-cancer.html9.\\nwww.cancer.org/cancer/types/laryngeal-and-hypopharyngeal-cancer.html10.\\nwww.cancer.org/cancer/types/liver-cancer.html11.\\nwww.cancer.org/cancer/types/colon-rectal-cancer.html12.\\nwww.cancer.org/cancer/types/skin-cancer.html13.\\nReferences\\nAmerican Society of Clinical Oncology. Clinical Cancer Advances 2009: Major Research\\nAdvances in Cancer Treatment, Prevention and Screening. Accessed at\\nwww.cancer.net/patient/ASCO%20Resources/Research%20and%20Meetings/CCA_20\\n09.pdf on June 8, 2012.\\nAmerican Society of Clinical Oncology. Clinical Cancer Advances 2010: ASCO’s Annual\\nReport on Progress Against Cancer. Accessed at\\nwww.cancer.net/patient/Publications%20and%20Resources/Clinical%20Cancer%20Adv\\nances/CCA_2010.pdf on June 8, 2012.\\nAmerican Society of Clinical Oncology. Clinical Cancer Advances 2011: ASCO’s Annual\\nReport on Progress Against Cancer. Accessed at\\nwww.cancer.net/patient/Publications%20and%20Resources/Clinical%20Cancer%20Adv\\nances/CCA_2011.pdf on June 8, 2012.\\n19', metadata={'source': 'C:\\\\Users\\\\Barani\\\\Desktop\\\\local_ollama\\\\pdfs\\\\ACC_5.pdf', 'page': 18}),\n",
       " Document(page_content='American Cancer Society cancer.org | 1.800.227.2345 ____________________________________________________________________________________\\nAmerican Society of Clinical Oncology. Progress & Timeline. Accessed at\\nwww.cancerprogress.net/timeline/major-milestones-against-cancer on June 12, 2014.\\nContran R, Kumar V, Robbins S.\\xa0Robbins Pathologic Basis of Disease, 4th\\xa0ed.\\nPhiladelphia, Pa: WB Saunders; 1989.\\nCureToday. Timeline: Milestones in Cancer Treatment. Accessed at\\nwww.curetoday.com/index.cfm/fuseaction/article.show/id/2/article_id/631 on June 7,\\n2012.\\nDevita VT Jr, Rosenberg SA. Two Hundred Years of Cancer Research.\\xa0N Engl J\\nMed.\\xa02012;366(23):2207-2214.\\nDiamandopoulus GT. Cancer: An historical perspective.\\xa0Anticancer Res. 1996;16:1595-\\n1602.\\nGallucci BB. Selected concepts of cancer as a disease: From the Greeks to\\n1900.\\xa0Oncol Nurs Forum. 1985;12:67-71.\\nHajdu SI. A Note From History: Landmarks in History of Cancer, Part 1.\\xa0Cancer.\\n2011;117(5):1097-1102.\\nHajdu SI. A Note From History: Landmarks in History of Cancer, Part 2.\\xa0Cancer.\\n2011;117(12):2811-2820.\\nHajdu SI. A Note From History: Landmarks in History of Cancer, Part 3.\\xa0Cancer.\\n2012;118(4):1155-1168.\\nHajdu SI. A Note From History: Landmarks in History of Cancer, Part 4.\\xa0Cancer.\\n2012;118(20):4914-4928.\\nHajdu SI, Darvishian F. A Note From History: Landmarks in History of Cancer, Part\\n5.\\xa0Cancer. 2013;119(8):1450-1466.\\nHajdu SI, Vadmal M. A Note From History: Landmarks in History of Cancer, Part\\n6.\\xa0Cancer. 2013;119(23):4058-4082.\\nHarvey AM. Early contributions to the surgery of cancer: William S. Halsted, Hugh H.\\nYoung and John G. Clark.\\xa0Johns Hopkins Med\\xa0J. 1974;135:399-417.\\nLast Revised: June 12, 2014\\n20', metadata={'source': 'C:\\\\Users\\\\Barani\\\\Desktop\\\\local_ollama\\\\pdfs\\\\ACC_5.pdf', 'page': 19}),\n",
       " Document(page_content='History of Cancer Treatments: Hormone\\ntherapy\\xa0 American Cancer Society cancer.org | 1.800.227.2345 ____________________________________________________________________________________\\nAnother 19th century discovery laid the groundwork for an important modern method to\\ntreat and prevent breast cancer1. Thomas Beatson graduated from the University of\\nEdinburgh in 1874 and developed an interest in the relation of the ovaries to milk\\nformation in the breasts. In 1878 he discovered that the breasts of rabbits stopped\\nproducing milk after he removed the ovaries. He described his results to the Edinburgh\\nMedico-Chirurgical Society in 1896: “This fact seemed to me of great interest, for it\\npointed to one organ holding control over the secretion of another and separate organ.”\\nBecause the breast was “held in control” by the ovaries, Beatson decided to test\\nremoval of the ovaries (called oophorectomy) in advanced breast cancer. He found that\\noophorectomy often resulted in improvement for breast cancer patients. He also\\nsuspected that “the ovaries may be the exciting cause of carcinoma” of the breast. He\\nhad discovered the stimulating effect of the female ovarian hormone (estrogen) on\\nbreast cancer, even before the hormone itself was discovered. His work provided a\\nfoundation for the modern use of hormone therapy, such as tamoxifen and the\\naromatase inhibitors, to treat or prevent breast cancer.\\nA half century after Beatson’s discovery, Charles Huggins, a urologist at the University\\nof Chicago, reported dramatic regression of metastatic prostate cancer2 after the\\ntesticles were removed. Later, drugs that blocked male hormones were found to be\\neffective treatment for prostate cancer.\\nNew classes of drugs (such as aromatase inhibitors, LHRH [luteinizing hormone-\\nreleasing hormone] analogs and inhibitors, and others) have greatly changed the way\\nprostate and breast cancers are treated. Research to better understand how hormones\\ninfluence cancer growth has guided progress in developing many new drugs for cancer\\ntreatment. It’s also helping researchers look at new ways to use drugs to reduce the risk\\nof developing breast and prostate cancer.\\nHyperlinks\\nwww.cancer.org/cancer/types/breast-cancer.html1.\\nwww.cancer.org/cancer/types/prostate-cancer.html2.\\nReferences\\n21', metadata={'source': 'C:\\\\Users\\\\Barani\\\\Desktop\\\\local_ollama\\\\pdfs\\\\ACC_5.pdf', 'page': 20}),\n",
       " Document(page_content='American Cancer Society cancer.org | 1.800.227.2345 ____________________________________________________________________________________\\nAmerican Society of Clinical Oncology. Clinical Cancer Advances 2009: Major Research\\nAdvances in Cancer Treatment, Prevention and Screening. Accessed at\\nwww.cancer.net/patient/ASCO%20Resources/Research%20and%20Meetings/CCA_20\\n09.pdf on June 8, 2012.\\nAmerican Society of Clinical Oncology. Clinical Cancer Advances 2010: ASCO’s Annual\\nReport on Progress Against Cancer. Accessed at\\nwww.cancer.net/patient/Publications%20and%20Resources/Clinical%20Cancer%20Adv\\nances/CCA_2010.pdf on June 8, 2012.\\nAmerican Society of Clinical Oncology. Clinical Cancer Advances 2011: ASCO’s Annual\\nReport on Progress Against Cancer. Accessed at\\nwww.cancer.net/patient/Publications%20and%20Resources/Clinical%20Cancer%20Adv\\nances/CCA_2011.pdf on June 8, 2012.\\nAmerican Society of Clinical Oncology. Progress & Timeline. Accessed at\\nwww.cancerprogress.net/timeline/major-milestones-against-cancer on June 12, 2014.\\nContran R, Kumar V, Robbins S.\\xa0Robbins Pathologic Basis of Disease, 4th\\xa0ed.\\nPhiladelphia, Pa: WB Saunders; 1989.\\nCureToday. Timeline: Milestones in Cancer Treatment. Accessed at\\nwww.curetoday.com/index.cfm/fuseaction/article.show/id/2/article_id/631 on June 7,\\n2012.\\nDevita VT Jr, Rosenberg SA. Two Hundred Years of Cancer Research.\\xa0N Engl J\\nMed.\\xa02012;366(23):2207-2214.\\nHajdu SI. A Note From History: Landmarks in History of Cancer, Part 3.\\xa0Cancer.\\n2012;118(4):1155-1168.\\nHajdu SI. A Note From History: Landmarks in History of Cancer, Part 4.\\xa0Cancer.\\n2012;118(20):4914-4928.\\nHajdu SI, Darvishian F. A Note From History: Landmarks in History of Cancer, Part\\n5.\\xa0Cancer. 2013;119(8):1450-1466.\\nHajdu SI, Vadmal M. A Note From History: Landmarks in History of Cancer, Part\\n6.\\xa0Cancer. 2013;119(23):4058-4082.\\nLast Revised: June 12, 2014\\n22', metadata={'source': 'C:\\\\Users\\\\Barani\\\\Desktop\\\\local_ollama\\\\pdfs\\\\ACC_5.pdf', 'page': 21}),\n",
       " Document(page_content='History of Cancer Treatments: Radiation\\nTherapy\\xa0 American Cancer Society cancer.org | 1.800.227.2345 ____________________________________________________________________________________\\nIn 1896 a German physics professor, Wilhelm Conrad Roentgen, presented a\\nremarkable lecture entitled “Concerning a New Kind of Ray.” Roentgen called it the “X-\\nray”, with “x” being the algebraic symbol for an unknown quantity. There was immediate\\nworldwide excitement. Within months, systems were being devised to use x-rays for\\ndiagnosis, and within 3 years radiation was used in to treat cancer.\\nIn 1901 Roentgen received the first Nobel Prize awarded in physics. Radiation therapy\\nbegan with radium and with relatively low-voltage diagnostic machines. In France, a\\nmajor breakthrough took place when it was discovered that daily doses of radiation over\\nseveral weeks greatly improved the patient’s chance for a cure. The methods and the\\nmachines that deliver radiation therapy have steadily improved since then.\\nAt the beginning of the 20th century, shortly after radiation began to be used for\\ndiagnosis and therapy, it was discovered that radiation could cause cancer1 as well as\\ncure it. Many early radiologists used the skin of their arms to test the strength of\\nradiation from their radiotherapy machines, looking for a dose that would produce a pink\\nreaction (erythema) which looked like sunburn. They called this the “erythema dose,”\\nand this was considered an estimate of the proper daily fraction of radiation. It’s no\\nsurprise that many of them developed leukemia from regularly exposing themselves to\\nradiation.\\nAdvances in radiation physics and computer technology during the last quarter of the\\n20th century made it possible to aim radiation more precisely. Conformal radiation\\ntherapy (CRT) uses CT images and special computers to very precisely map the\\nlocation of a cancer in 3 dimensions. The patient is fitted with a plastic mold or cast to\\nkeep the body part still and in the same position for each treatment. The radiation\\nbeams are matched to the shape of the tumor and delivered to the tumor from several\\ndirections. Intensity-modulated radiation therapy (IMRT) is like CRT, but along with\\naiming photon beams from several directions, the intensity (strength) of the beams can\\nbe adjusted. This gives even more control in decreasing the radiation reaching normal\\ntissue while delivering a high dose to the cancer.\\nA related technique, conformal proton beam radiation therapy, uses a similar approach\\nto focusing radiation on the cancer. But instead of using x-rays, this technique uses\\nproton beams. Protons are parts of atoms that cause little damage to tissues they pass\\nthrough but are very effective in killing cells at the end of their path. This means that\\nproton beam radiation can deliver more radiation to the cancer while possibly reducing\\n23', metadata={'source': 'C:\\\\Users\\\\Barani\\\\Desktop\\\\local_ollama\\\\pdfs\\\\ACC_5.pdf', 'page': 22}),\n",
       " Document(page_content='American Cancer Society cancer.org | 1.800.227.2345 ____________________________________________________________________________________\\ndamage to nearby normal tissues.\\nStereotactic radiosurgery and stereotactic radiation therapy are terms that describe\\nseveral techniques used to deliver a large, precise radiation dose to a small tumor. The\\nterm surgery may be confusing because no cutting is actually done. The most common\\nsite treated with this radiation technique is the brain. A linear accelerator, or special\\nmachines such as the Gamma Knife or CyberKnife, can be used to deliver this\\ntreatment.\\nIntraoperative radiation therapy (IORT) is a form of treatment that delivers radiation at\\nthe time of surgery. The radiation can be given directly to the cancer or to the nearby\\ntissues after the cancer has been removed. It’s more commonly used in abdominal or\\npelvic cancers and in cancers that tend to recur (come back after treatment). IORT\\nminimizes the amount of tissue that’s exposed to radiation because normal tissues can\\nbe moved out of the way during surgery and shielded, allowing a higher dose of\\nradiation to the cancer.\\nChemical modifiers or radiosensitizers are substances that make cancer more sensitive\\nto radiation. The goal of research into these types of substances is to develop agents\\nthat will make the tumor more sensitive without affecting normal tissues. Researchers\\nare also looking for substances that may help protect normal cells from radiation.\\nHyperlinks\\nwww.cancer.org/cancer/risk-prevention/radiation-exposure.html1.\\nReferences\\nAmerican Society of Clinical Oncology. Clinical Cancer Advances 2009: Major Research\\nAdvances in Cancer Treatment, Prevention and Screening. Accessed at\\nwww.cancer.net/patient/ASCO%20Resources/Research%20and%20Meetings/CCA_20\\n09.pdf on June 8, 2012.\\nAmerican Society of Clinical Oncology. Clinical Cancer Advances 2010: ASCO’s Annual\\nReport on Progress Against Cancer. Accessed at\\nwww.cancer.net/patient/Publications%20and%20Resources/Clinical%20Cancer%20Adv\\nances/CCA_2010.pdf on June 8, 2012.\\nAmerican Society of Clinical Oncology. Clinical Cancer Advances 2011: ASCO’s Annual\\nReport on Progress Against Cancer. Accessed at\\n24', metadata={'source': 'C:\\\\Users\\\\Barani\\\\Desktop\\\\local_ollama\\\\pdfs\\\\ACC_5.pdf', 'page': 23}),\n",
       " Document(page_content='History of Cancer Treatments:\\nChemotherapy\\xa0 American Cancer Society cancer.org | 1.800.227.2345 ____________________________________________________________________________________\\nwww.cancer.net/patient/Publications%20and%20Resources/Clinical%20Cancer%20Adv\\nances/CCA_2011.pdf on June 8, 2012.\\nAmerican Society of Clinical Oncology. Progress & Timeline. Accessed at\\nwww.cancerprogress.net/timeline/major-milestones-against-cancer on June 12, 2014.\\nCureToday. Timeline: Milestones in Cancer Treatment. Accessed at\\nwww.curetoday.com/index.cfm/fuseaction/article.show/id/2/article_id/631 on June 7,\\n2012.\\nDevita VT Jr, Rosenberg SA. Two Hundred Years of Cancer Research.\\xa0N Engl J\\nMed.\\xa02012;366(23):2207-2214.\\nHajdu SI. A Note From History: Landmarks in History of Cancer, Part 4.\\xa0Cancer.\\n2012;118(20):4914-4928.\\nHajdu SI, Darvishian F. A Note From History: Landmarks in History of Cancer, Part\\n5.\\xa0Cancer. 2013;119(8):1450-1466.\\nHajdu SI, Vadmal M. A Note From History: Landmarks in History of Cancer, Part\\n6.\\xa0Cancer. 2013;119(23):4058-4082.\\nLast Revised: June 12, 2014\\nDuring World War II, naval personnel who were exposed to mustard gas during military\\naction were found to have toxic changes in the bone marrow cells that develop into\\nblood cells. During that same period, the US Army was studying a number of chemicals\\nrelated to mustard gas to develop more effective agents for war and also develop\\nprotective measures. In the course of that work, a compound called nitrogen mustard\\nwas studied and found to work against a cancer of the lymph nodes called lymphoma1.\\nThis agent served as the model for a long series of similar but more effective agents\\n(called alkylating agents) that killed rapidly growing cancer cells by damaging their DNA.\\nNot long after the discovery of nitrogen mustard, Sidney Farber of Boston demonstrated\\n25', metadata={'source': 'C:\\\\Users\\\\Barani\\\\Desktop\\\\local_ollama\\\\pdfs\\\\ACC_5.pdf', 'page': 24}),\n",
       " Document(page_content='American Cancer Society cancer.org | 1.800.227.2345 ____________________________________________________________________________________\\nthat aminopterin, a compound related to the vitamin folic acid, produced remissions in\\nchildren with acute leukemia2. Aminopterin blocked a critical chemical reaction needed\\nfor DNA replication. That drug was the predecessor of methotrexate, a cancer treatment\\ndrug used commonly today. Since then, other researchers discovered drugs that block\\ndifferent functions in cell growth and replication. The era of chemotherapy had begun.\\nMetastatic cancer was first cured in 1956 when methotrexate was used to treat a rare\\ntumor called choriocarcinoma. Over the years, chemotherapy drugs (chemo) have\\nsuccessfully treated many people with cancer. Long-term remissions and even cures of\\nmany patients with Hodgkin disease3 and childhood ALL (acute lymphoblastic leukemia)\\ntreated with chemo were first reported during the 1960s. Cures of testicular cancer4\\nwere seen during the next decade. Many other cancers can be controlled with chemo\\nfor long periods of time, even if they are not cured. Today, several approaches are\\navailable to improve the activity and reduce the side effects of chemo. These include:\\nNew drugs, new combinations of drugs, and new delivery techniques●\\nNovel approaches that target drugs more specifically at the cancer cells (such as\\nliposomal therapy and monoclonal antibody therapy) to produce fewer side effects●\\nDrugs to reduce side effects, like colony-stimulating factors, chemoprotective\\nagents (such as dexrazoxane and amifostine), and anti-emetics (to reduce nausea\\nand vomiting)●\\nAgents that overcome multi-drug resistance (when the cancer doesn’t respond to\\nthe usual treatment drugs)●\\nEarly in the 20th century, only cancers small and localized enough to be completely\\nremoved by surgery were curable. Later, radiation was used after surgery to control\\nsmall tumor growths that were not surgically removed. Finally, chemotherapy was\\nadded to destroy small tumor growths that had spread beyond the reach of the surgeon\\nand radiotherapist. Chemo used after surgery to destroy any remaining cancer cells in\\nthe body is called adjuvant therapy. Adjuvant therapy was tested first in breast cancer5\\nand found to be effective. It was later used in colon cancer6, testicular cancer, and\\nothers.\\nA major discovery was the advantage of using multiple chemotherapy drugs (known as\\ncombination chemotherapy) over single agents. Some types of very fast-growing\\nleukemia7 and lymphoma (tumors involving the cells of the bone marrow and lymph\\nnodes, respectively) responded very well to combination chemo, and clinical trials8 led\\nto gradual improvement of the drug combinations used. Many of these tumors can be\\ncured today by appropriate combination chemotherapy.\\nThe approach to patient treatment has become more scientific with the introduction of\\n26', metadata={'source': 'C:\\\\Users\\\\Barani\\\\Desktop\\\\local_ollama\\\\pdfs\\\\ACC_5.pdf', 'page': 25}),\n",
       " Document(page_content='American Cancer Society cancer.org | 1.800.227.2345 ____________________________________________________________________________________\\nclinical trials on a wide basis throughout the world. Clinical trials compare new\\ntreatments to standard treatments and contribute to a better understanding of treatment\\nbenefits and risks. They are used to test theories about cancer learned in the basic\\nscience laboratory and also test ideas drawn from the clinical observations on cancer\\npatients. They are necessary for continued progress.\\nHyperlinks\\nwww.cancer.org/cancer/types/lymphoma.html1.\\nwww.cancer.org/cancer/types/leukemia-in-children.html2.\\nwww.cancer.org/cancer/types/hodgkin-lymphoma.html3.\\nwww.cancer.org/cancer/types/testicular-cancer.html4.\\nwww.cancer.org/cancer/types/breast-cancer.html5.\\nwww.cancer.org/cancer/types/colon-rectal-cancer.html6.\\nwww.cancer.org/cancer/types/leukemia.html7.\\nwww.cancer.org/cancer/managing-cancer/making-treatment-decisions/clinical-\\ntrials.html8.\\nReferences\\nAmerican Society of Clinical Oncology. Clinical Cancer Advances 2009: Major Research\\nAdvances in Cancer Treatment, Prevention and Screening. Accessed at\\nwww.cancer.net/patient/ASCO%20Resources/Research%20and%20Meetings/CCA_20\\n09.pdf on June 8, 2012.\\nAmerican Society of Clinical Oncology. Clinical Cancer Advances 2010: ASCO’s Annual\\nReport on Progress Against Cancer. Accessed at\\nwww.cancer.net/patient/Publications%20and%20Resources/Clinical%20Cancer%20Adv\\nances/CCA_2010.pdf on June 8, 2012.\\nAmerican Society of Clinical Oncology. Clinical Cancer Advances 2011: ASCO’s Annual\\nReport on Progress Against Cancer. Accessed at\\nwww.cancer.net/patient/Publications%20and%20Resources/Clinical%20Cancer%20Adv\\nances/CCA_2011.pdf on June 8, 2012.\\nAmerican Society of Clinical Oncology. Progress & Timeline. Accessed at\\nwww.cancerprogress.net/timeline/major-milestones-against-cancer on June 12, 2014.\\nCureToday. Timeline: Milestones in Cancer Treatment. Accessed at\\n27', metadata={'source': 'C:\\\\Users\\\\Barani\\\\Desktop\\\\local_ollama\\\\pdfs\\\\ACC_5.pdf', 'page': 26}),\n",
       " Document(page_content='History of Cancer Treatments:\\nImmunotherapy\\xa0 American Cancer Society cancer.org | 1.800.227.2345 ____________________________________________________________________________________\\nwww.curetoday.com/index.cfm/fuseaction/article.show/id/2/article_id/631 on June 7,\\n2012.\\nDevita VT Jr, Rosenberg SA. Two Hundred Years of Cancer Research.\\xa0N Engl J\\nMed.\\xa02012;366(23):2207-2214.\\nHajdu SI. A Note From History: Landmarks in History of Cancer, Part 4.\\xa0Cancer.\\n2012;118(20):4914-4928.\\nHajdu SI, Darvishian F. A Note From History: Landmarks in History of Cancer, Part\\n5.\\xa0Cancer. 2013;119(8):1450-1466.\\nHajdu SI, Vadmal M. A Note From History: Landmarks in History of Cancer, Part\\n6.\\xa0Cancer. 2013;119(23):4058-4082.\\nLast Revised: June 12, 2014\\nThe future of immunotherapy●\\nBetter understanding of the biology of cancer cells has led to the development of\\nbiologic agents that mimic some of the natural signals that the body uses to control cell\\ngrowth. Clinical trials1 have shown that this cancer treatment, called biological response\\nmodifier (BRM) therapy, biologic therapy, biotherapy, or immunotherapy, is effective for\\nmany types of cancer.\\nSome of these biologic agents, which occur naturally in the body, can now be made in\\nthe lab. Examples are interferons, interleukins, and other cytokines. These agents are\\ngiven to patients to imitate or influence the natural immune response. They do this\\neither by directly altering the cancer cell growth or by acting indirectly to help healthy\\ncells control the cancer.\\nOne of the most exciting applications of biologic therapy has come from identifying\\ncertain tumor targets, called antigens, and aiming an antibody at these targets. This\\nmethod was first used to find tumors and diagnose cancer and more recently has been\\n28', metadata={'source': 'C:\\\\Users\\\\Barani\\\\Desktop\\\\local_ollama\\\\pdfs\\\\ACC_5.pdf', 'page': 27}),\n",
       " Document(page_content='American Cancer Society cancer.org | 1.800.227.2345 ____________________________________________________________________________________\\nused to destroy cancer cells. Using technology that was first developed during the\\n1970s, scientists can mass-produce monoclonal antibodies that are specifically targeted\\nto chemical components of cancer cells. Refinements to these methods, using\\nrecombinant DNA technology, have improved the effectiveness and decreased the side\\neffects of these treatments. The first therapeutic monoclonal antibodies, rituximab\\n(Rituxan) and trastuzumab (Herceptin) were approved during the late 1990s to treat\\nlymphoma2 and breast cancer3, respectively. Monoclonal antibodies now are routinely\\nused to treat certain cancers, and many more are being studied.\\nScientists are also studying vaccines that boost the body’s immune response to cancer\\ncells. In 2010, the FDA approved sipuleucel-T (Provenge), a cancer vaccine for\\nmetastatic hormone-refractory prostate cancer4 (prostate cancer that has spread and is\\nno longer responding to hormone treatment). Unlike a preventive vaccine, which is\\ngiven to prevent disease, Provenge boosts the immune system’s ability to attack cancer\\ncells in the body. This treatment has been shown to help certain men with prostate\\ncancer live longer, though it does not cure the disease. It represents an important step\\nforward in cancer treatment.\\nThe future of immunotherapy\\xa0\\xa0\\nDrugs aimed at specific immune checkpoints are being developed to help the immune\\nsystem better kill cancer cells.\\nHyperlinks\\nwww.cancer.org/cancer/managing-cancer/making-treatment-decisions/clinical-\\ntrials.html1.\\nwww.cancer.org/cancer/types/lymphoma.html2.\\nwww.cancer.org/cancer/types/breast-cancer.html3.\\nwww.cancer.org/cancer/types/prostate-cancer.html4.\\nReferences\\nAmerican Society of Clinical Oncology. Clinical Cancer Advances 2009: Major Research\\nAdvances in Cancer Treatment, Prevention and Screening. Accessed at\\nwww.cancer.net/patient/ASCO%20Resources/Research%20and%20Meetings/CCA_20\\n09.pdf on June 8, 2012.\\nAmerican Society of Clinical Oncology. Clinical Cancer Advances 2010: ASCO’s Annual\\n29', metadata={'source': 'C:\\\\Users\\\\Barani\\\\Desktop\\\\local_ollama\\\\pdfs\\\\ACC_5.pdf', 'page': 28}),\n",
       " Document(page_content='History of Cancer Treatments: Targeted\\nTherapy\\xa0 American Cancer Society cancer.org | 1.800.227.2345 ____________________________________________________________________________________\\nReport on Progress Against Cancer. Accessed at\\nwww.cancer.net/patient/Publications%20and%20Resources/Clinical%20Cancer%20Adv\\nances/CCA_2010.pdf on June 8, 2012.\\nAmerican Society of Clinical Oncology. Clinical Cancer Advances 2011: ASCO’s Annual\\nReport on Progress Against Cancer. Accessed at\\nwww.cancer.net/patient/Publications%20and%20Resources/Clinical%20Cancer%20Adv\\nances/CCA_2011.pdf on June 8, 2012.\\nAmerican Society of Clinical Oncology. Progress & Timeline. Accessed at\\nwww.cancerprogress.net/timeline/major-milestones-against-cancer on June 12, 2014.\\nCureToday. Timeline: Milestones in Cancer Treatment. Accessed at\\nwww.curetoday.com/index.cfm/fuseaction/article.show/id/2/article_id/631 on June 7,\\n2012.\\nDevita VT Jr, Rosenberg SA. Two Hundred Years of Cancer Research.\\xa0N Engl J\\nMed.\\xa02012;366(23):2207-2214.\\nHajdu SI, Darvishian F. A Note From History: Landmarks in History of Cancer, Part\\n5.\\xa0Cancer. 2013;119(8):1450-1466.\\nHajdu SI, Vadmal M. A Note From History: Landmarks in History of Cancer, Part\\n6.\\xa0Cancer. 2013;119(23):4058-4082.\\nLast Revised: June 12, 2014\\nGrowth signal inhibitors●\\nAngiogenesis inhibitors●\\nApoptosis-inducing drugs●\\nThe future of targeted therapies●\\nUntil the late 1990s nearly all drugs used in cancer treatment (with the exception of\\n30', metadata={'source': 'C:\\\\Users\\\\Barani\\\\Desktop\\\\local_ollama\\\\pdfs\\\\ACC_5.pdf', 'page': 29}),\n",
       " Document(page_content='American Cancer Society cancer.org | 1.800.227.2345 ____________________________________________________________________________________\\nhormone treatments) worked by killing cells that were in the process of replicating their\\nDNA and dividing to form 2 new cells. These chemotherapy drugs also killed some\\nnormal cells but had a greater effect on cancer cells.\\nTargeted therapies work by influencing the processes that control growth, division, and\\nspread of cancer cells, as well as the signals that cause cancer cells to die naturally (the\\nway normal cells do when they are damaged or old). Targeted therapies work in several\\nways.\\nGrowth signal inhibitors\\xa0\\xa0\\nGrowth factors are hormone-like substances that help tell cells when to grow and divide.\\nTheir role in fetal growth and repair of injured tissue was first recognized in the 1960s.\\nLater it was realized that abnormal forms of growth factors or abnormally high levels of\\ngrowth factors contribute to the growth and spread of cancer cells. Researchers have\\nalso started to understand how cells recognize and respond to these factors, and how\\nthat can lead to signals inside the cells that cause the abnormal features found in\\ncancer cells. Changes in these signal pathways have also been identified as a cause of\\nthe abnormal behavior of cancer cells.\\nDuring the 1980s, scientists found that many of the growth factors and other substances\\nresponsible for recognizing and responding to growth factors are actually products of\\noncogenes. Among the earliest targeted therapies that block growth signals are\\ntrastuzumab (Herceptin), gefitinib (Iressa), imatinib (Gleevec), and cetuximab (Erbitux).\\nMany others are available today.\\nAngiogenesis inhibitors\\xa0\\xa0\\nAngiogenesis is the creation of new blood vessels. The term comes from 2 Greek\\nwords: angio, meaning “blood vessel,” and genesis, meaning “beginning.” Normally, this\\nis a healthy process. New blood vessels, for instance, help the body heal wounds and\\nrepair damaged tissues. But in a person with cancer, this same process creates new,\\nvery small blood vessels that give a tumor its own blood supply and allow it to grow.\\nAnti-angiogenesis agents are types of targeted therapy that use drugs or other\\nsubstances to stop tumors from making the new blood vessels they need to keep\\ngrowing. This concept was first proposed by Judah Folkman in the early 1970s, but it\\nwasn’t until 2004 that the first angiogenesis inhibitor, bevacizumab (Avastin), was\\napproved. Currently used to treat advanced colorectal1, kidney2, and lung cancers3,\\nbevacizumab is being studied as treatment for many other types of cancer, too. And\\nmany new drugs that block angiogenesis have become available since 2004.\\n31', metadata={'source': 'C:\\\\Users\\\\Barani\\\\Desktop\\\\local_ollama\\\\pdfs\\\\ACC_5.pdf', 'page': 30}),\n",
       " Document(page_content='American Cancer Society cancer.org | 1.800.227.2345 ____________________________________________________________________________________\\nApoptosis-inducing drugs\\xa0\\xa0\\nApoptosis is a natural process through which cells with DNA too damaged to repair –\\nsuch as cancer cells – can be forced to die. Many anti-cancer treatments (including\\nradiation and chemo) cause cell changes that eventually lead to apoptosis. But targeted\\ndrugs in this group are different, because they are aimed specifically at the cell\\nsubstances that control cell survival and death.\\nThe future of targeted therapies\\xa0\\xa0\\nAs more is learned about the molecular biology of cancer, researchers will have more\\ntargets for their new drugs. Along with more monoclonal antibodies and small signaling\\npathway inhibitors, researchers are developing new classes of molecules such as\\nantisense oligodeoxynucleotides and small interfering RNA (siRNA). Research is being\\ndone to develop targeted drugs that are aimed at proteins produced by specific gene\\nmutations in cancer cells, too.\\nResearchers are looking for gene mutations that cause some patients to respond better\\nto certain drugs.\\nHyperlinks\\nwww.cancer.org/cancer/types/colon-rectal-cancer.html1.\\nwww.cancer.org/cancer/types/kidney-cancer.html2.\\nwww.cancer.org/cancer/types/lung-cancer.html3.\\nReferences\\nAmerican Society of Clinical Oncology. Clinical Cancer Advances 2009: Major Research\\nAdvances in Cancer Treatment, Prevention and Screening. Accessed at\\nwww.cancer.net/patient/ASCO%20Resources/Research%20and%20Meetings/CCA_20\\n09.pdf on June 8, 2012.\\nAmerican Society of Clinical Oncology. Clinical Cancer Advances 2010: ASCO’s Annual\\nReport on Progress Against Cancer. Accessed at\\nwww.cancer.net/patient/Publications%20and%20Resources/Clinical%20Cancer%20Adv\\nances/CCA_2010.pdf on June 8, 2012.\\nAmerican Society of Clinical Oncology. Clinical Cancer Advances 2011: ASCO’s Annual\\n32', metadata={'source': 'C:\\\\Users\\\\Barani\\\\Desktop\\\\local_ollama\\\\pdfs\\\\ACC_5.pdf', 'page': 31}),\n",
       " Document(page_content='Advancement of Cancer Survivorship\\xa0 American Cancer Society cancer.org | 1.800.227.2345 ____________________________________________________________________________________\\nReport on Progress Against Cancer. Accessed at\\nwww.cancer.net/patient/Publications%20and%20Resources/Clinical%20Cancer%20Adv\\nances/CCA_2011.pdf on June 8, 2012.\\nAmerican Society of Clinical Oncology. Progress & Timeline. Accessed at\\nwww.cancerprogress.net/timeline/major-milestones-against-cancer on June 12, 2014.\\nCureToday. Timeline: Milestones in Cancer Treatment. Accessed at\\nwww.curetoday.com/index.cfm/fuseaction/article.show/id/2/article_id/631 on June 7,\\n2012.\\nDevita VT Jr, Rosenberg SA. Two Hundred Years of Cancer Research.\\xa0N Engl J\\nMed.\\xa02012;366(23):2207-2214.\\nLast Revised: June 12, 2014\\nOnly a few decades ago, the prognosis (outlook) for people facing cancer was not\\nnearly as favorable as it is today. During the 1970s, about 1 of 2 people diagnosed with\\ncancer survived at least 5 years. Now, more than 2 of 3 survive that long. Today there\\nare more than 14 million cancer survivors in the United States alone.\\nBecause more people are surviving cancer, more attention is focused on the quality of\\nlife and long-term outcomes of these cancer survivors. Behavioral researchers are\\nworking to learn more about the problems survivors face. Some of these problems are\\nmedical, such as permanent side effects of treatment, the possibility of second cancers\\ncaused by treatment, and the need for long-term treatment and medical follow-up. Other\\nproblems are emotional or social challenges, like getting health insurance,\\ndiscrimination by employers, relationship changes that may result from life-threatening\\nillness, or learning to live with the possibility of cancer coming back.\\nCancer was once a word that people were afraid to speak in public, and people rarely\\nadmitted to being a cancer survivor. Now, many celebrities and national leaders very\\nopenly discuss and share their cancer experiences. The view that cancer cannot be\\ncured and the fears that have historically been attached to the disease are slowly\\nchanging.\\n33', metadata={'source': 'C:\\\\Users\\\\Barani\\\\Desktop\\\\local_ollama\\\\pdfs\\\\ACC_5.pdf', 'page': 32}),\n",
       " Document(page_content='American Cancer Society cancer.org | 1.800.227.2345 ____________________________________________________________________________________\\nReferences\\nAmerican Society of Clinical Oncology. Clinical Cancer Advances 2009: Major Research\\nAdvances in Cancer Treatment, Prevention and Screening. Accessed at\\nwww.cancer.net/patient/ASCO%20Resources/Research%20and%20Meetings/CCA_20\\n09.pdf on June 8, 2012.\\nAmerican Society of Clinical Oncology. Clinical Cancer Advances 2010: ASCO’s Annual\\nReport on Progress Against Cancer. Accessed at\\nwww.cancer.net/patient/Publications%20and%20Resources/Clinical%20Cancer%20Adv\\nances/CCA_2010.pdf on June 8, 2012.\\nAmerican Society of Clinical Oncology. Clinical Cancer Advances 2011: ASCO’s Annual\\nReport on Progress Against Cancer. Accessed at\\nwww.cancer.net/patient/Publications%20and%20Resources/Clinical%20Cancer%20Adv\\nances/CCA_2011.pdf on June 8, 2012.\\nAmerican Society of Clinical Oncology. Progress & Timeline. Accessed at\\nwww.cancerprogress.net/timeline/major-milestones-against-cancer on June 12, 2014.\\nCureToday. Timeline: Milestones in Cancer Treatment. Accessed at\\nwww.curetoday.com/index.cfm/fuseaction/article.show/id/2/article_id/631 on June 7,\\n2012.\\nDevita VT Jr, Rosenberg SA. Two Hundred Years of Cancer Research.\\xa0N Engl J\\nMed.\\xa02012;366(23):2207-2214.\\nLast Revised: June 12, 2014\\nWritten by\\nThe American Cancer Society medical and editorial content team\\n(https://www.cancer.org/cancer/acs-medical-content-and-news-staff.html)\\nOur team is made up of doctors and\\xa0oncology certified nurses with deep knowledge of\\ncancer care as well as journalists, editors, and translators with extensive experience in\\nmedical writing.\\nAmerican Cancer Society medical information is copyrighted\\xa0material. For reprint\\n34', metadata={'source': 'C:\\\\Users\\\\Barani\\\\Desktop\\\\local_ollama\\\\pdfs\\\\ACC_5.pdf', 'page': 33}),\n",
       " Document(page_content='American Cancer Society cancer.org | 1.800.227.2345 ____________________________________________________________________________________\\nrequests, please see our Content Usage Policy (www.cancer.org/about-\\nus/policies/content-usage.html).\\ncancer.org | 1.800.227.2345\\n35', metadata={'source': 'C:\\\\Users\\\\Barani\\\\Desktop\\\\local_ollama\\\\pdfs\\\\ACC_5.pdf', 'page': 34})]"
      ]
     },
     "execution_count": 51,
     "metadata": {},
     "output_type": "execute_result"
    }
   ],
   "source": [
    "pages"
   ]
  },
  {
   "cell_type": "code",
   "execution_count": 52,
   "metadata": {},
   "outputs": [],
   "source": [
    "text_splitter = CharacterTextSplitter.from_tiktoken_encoder(chunk_size=1000, chunk_overlap=100)\n",
    "doc_splits = text_splitter.split_documents(pages)"
   ]
  },
  {
   "cell_type": "code",
   "execution_count": 53,
   "metadata": {},
   "outputs": [],
   "source": [
    "vectorstore = Chroma.from_documents(\n",
    "            documents=doc_splits,\n",
    "            collection_name=\"rag-chroma\",\n",
    "            embedding=embeddings.ollama.OllamaEmbeddings(model='nomic-embed-text'),\n",
    "        )\n",
    "retriever = vectorstore.as_retriever()"
   ]
  },
  {
   "cell_type": "markdown",
   "metadata": {},
   "source": [
    "Before RAG\n",
    "---"
   ]
  },
  {
   "cell_type": "code",
   "execution_count": 44,
   "metadata": {},
   "outputs": [
    {
     "name": "stdout",
     "output_type": "stream",
     "text": [
      "Before RAG\n",
      "\n"
     ]
    }
   ],
   "source": [
    "# 3. Before RAG\n",
    "print(\"Before RAG\\n\")\n",
    "before_rag_template = \"what is {topic}\"\n",
    "before_rag_prompt = ChatPromptTemplate.from_template(before_rag_template)\n",
    "before_rag_chain = before_rag_prompt | model_local | StrOutputParser()"
   ]
  },
  {
   "cell_type": "code",
   "execution_count": 45,
   "metadata": {},
   "outputs": [
    {
     "name": "stdout",
     "output_type": "stream",
     "text": [
      " In the context of electronics and communication, \"analog\" refers to a continuous signal or system where information is represented by physical quantities that can vary continuously over time or space. This is in contrast to digital systems, where information is represented as discrete binary values (0s and 1s).\n",
      "\n",
      "Analog signals can take various forms such as voltage levels, current flow, or even mechanical displacement. Examples of analog signals include an audio waveform from a microphone, temperature readings from a thermometer, or the position of a joystick in a video game. Analog systems process these signals using various components like amplifiers, filters, and modulators to manipulate and transmit the information they carry.\n",
      "\n",
      "Analog technology has been widely used for decades due to its ability to handle complex and dynamic data, but with the advent of digital technology, many applications have shifted towards digital processing for improved accuracy, reliability, and ease of transmission. However, analog systems still play a crucial role in various fields such as telecommunications, audio recording and reproduction, and control systems.\n"
     ]
    }
   ],
   "source": [
    "print(before_rag_chain.invoke({\"topic\": \"analog?\"}))"
   ]
  },
  {
   "cell_type": "code",
   "execution_count": 32,
   "metadata": {},
   "outputs": [
    {
     "name": "stdout",
     "output_type": "stream",
     "text": [
      " Cancer spreads through the process of metastasis. During this process, cells from the primary tumor break away and travel to other parts of the body. These cells can then form new tumors in these locations, leading to the development of metastatic lesions.\n",
      "\n",
      "There are several ways that cancer cells can spread:\n",
      "\n",
      "1. Through the bloodstream: Cancer cells can enter the bloodstream through the lymphatic system or directly from a blood vessel near the primary tumor. Once in the bloodstream, these cells can travel to any part of the body and form new tumors.\n",
      "2. Through the lymphatic system: The lymphatic system is a network of vessels that helps to filter out waste and bacteria from the body. Cancer cells can enter the lymphatic system near the primary tumor and travel to other parts of the body, forming new tumors in the lymph nodes or other organs.\n",
      "3. Through direct invasion: Some cancers can grow into nearby structures and invade them directly, spreading cancer cells to other areas of the body.\n",
      "4. Through the digestive system: Cancer cells that line the digestive tract can spread through the stool or bile into the liver or other organs.\n",
      "\n",
      "The process of metastasis is complex and involves several steps, including detachment of cancer cells from the primary tumor, survival in the circulation, adhesion to new sites, and growth at the new site. The ability of cancer cells to spread and form metastatic lesions is a major factor in the progression of cancer and contributes to the difficulty of treating advanced stages of the disease.\n"
     ]
    }
   ],
   "source": [
    "print(before_rag_chain.invoke({\"topic\": \"cancer spread?\"}))"
   ]
  },
  {
   "cell_type": "code",
   "execution_count": 49,
   "metadata": {},
   "outputs": [
    {
     "name": "stdout",
     "output_type": "stream",
     "text": [
      " An anastomosis is a surgical connection between two ends of tubular structures, such as intestines or blood vessels. It allows the continuity of the flow of substances, like digestive contents or blood, to be restored after a section has been removed due to injury or disease. The term comes from the Greek word \"anastomosis,\" which means \"re-establishing a connection.\" Anastomoses can be performed using various techniques, including suturing, stapling, or the use of surgical couplers or grafts.\n"
     ]
    }
   ],
   "source": [
    "print(before_rag_chain.invoke({\"topic\": \"anastomosis?\"}))"
   ]
  },
  {
   "cell_type": "code",
   "execution_count": 13,
   "metadata": {},
   "outputs": [
    {
     "name": "stdout",
     "output_type": "stream",
     "text": [
      "Before RAG\n",
      "\n",
      " An alpha blocker is a type of medication used to treat various conditions related to the narrowing or tightening of blood vessels. The primary action of alpha blockers is to block the effects of certain natural chemicals, called alpha-adrenergic agonists, on the body.\n",
      "\n",
      "These medications are commonly prescribed for the following conditions:\n",
      "\n",
      "1. Hypertension (high blood pressure): Alpha blockers help relax and widen the blood vessels, making it easier for blood to flow through them and reducing the pressure in the arteries.\n",
      "2. Benign prostatic hyperplasia (BPH): In this condition, an enlarged prostate gland can obstruct the flow of urine from the bladder. Alpha blockers help relax the muscles in the prostate and bladder neck, making it easier to urinate.\n",
      "3. Raynaud's phenomenon: This is a condition where the small blood vessels in the fingers and toes constrict, reducing blood flow and causing coldness, pain, and discoloration. Alpha blockers help improve blood flow to these areas by relaxing the blood vessels.\n",
      "\n",
      "Some common alpha blocker medications include phentolamine, phenylephrine, brimonidine, timolol, and doxazosin, among others. As with any medication, alpha blockers can have side effects, and it's essential to discuss their use with a healthcare professional to determine if they are right for you.\n"
     ]
    }
   ],
   "source": [
    "\n",
    "print(before_rag_chain.invoke({\"topic\": \"alpha blocker\"}))"
   ]
  },
  {
   "cell_type": "code",
   "execution_count": 14,
   "metadata": {},
   "outputs": [
    {
     "data": {
      "text/plain": [
       "' In the context of electronics and communication, an \"analog\" system or signal represents information as a continuous waveform or stream of data, as opposed to digital systems that represent data as discrete binary values.\\n\\nAnalog signals can take various forms such as voltage levels, current flow, or even mechanical displacement (like in the case of sound waves or seismic activity). These signals can be processed and transmitted using analog circuits, which manipulate the continuous waveform to perform operations like amplification, filtering, or modulation.\\n\\nExamples of analog systems include:\\n\\n1. Telephone lines: Voice calls are transmitted as continuous electrical signals over telephone lines.\\n2. Radio broadcasts: AM and FM radio signals carry audio information as continuous waves.\\n3. Video signals: Television and movie images are represented as continuous electrical or optical signals.\\n4. Analog computers: Early computing devices used analog circuits to perform mathematical calculations using physical systems like motors, gears, and other mechanical components.\\n\\nDigital systems, on the other hand, represent data as discrete binary values (0s and 1s) that can be processed and transmitted using digital circuits. Digital systems are more versatile, reliable, and easier to manipulate than analog systems but may require additional conversion steps when dealing with continuous signals or data.'"
      ]
     },
     "execution_count": 14,
     "metadata": {},
     "output_type": "execute_result"
    }
   ],
   "source": [
    "before_rag_chain.invoke({\"topic\": \"analog\"})"
   ]
  },
  {
   "cell_type": "code",
   "execution_count": 16,
   "metadata": {},
   "outputs": [
    {
     "data": {
      "text/plain": [
       "\" Anesthesia is a medical treatment that helps to prevent or reduce the sensation of pain during a medical procedure. It can also help to induce and maintain unconsciousness, which is called general anesthesia. There are different types of anesthesia, including local anesthesia, which numbs a specific area of the body; regional anesthesia, which numbs a larger area; and general anesthesia, which affects the entire body and causes a deep sleep-like state. Anesthesia is typically administered by an anesthesiologist or nurse anesthetist, who monitors the patient's vital signs and adjusts the level of anesthesia as needed to ensure the patient's safety during the procedure.\""
      ]
     },
     "execution_count": 16,
     "metadata": {},
     "output_type": "execute_result"
    }
   ],
   "source": [
    "before_rag_chain.invoke({\"topic\": \"anesthesia\"})"
   ]
  },
  {
   "cell_type": "markdown",
   "metadata": {},
   "source": [
    "After RAG\n",
    "---"
   ]
  },
  {
   "cell_type": "code",
   "execution_count": 54,
   "metadata": {},
   "outputs": [
    {
     "name": "stdout",
     "output_type": "stream",
     "text": [
      "\n",
      "########\n",
      "After RAG\n",
      "\n"
     ]
    }
   ],
   "source": [
    "# 4. After RAG\n",
    "print(\"\\n########\\nAfter RAG\\n\")\n",
    "after_rag_template = \"\"\"provide the answer for the question only from this given context:\n",
    "{context}\n",
    "Question: {question} and only give the answer from the given context\n",
    "\"\"\"\n",
    "after_rag_prompt = ChatPromptTemplate.from_template(after_rag_template)\n",
    "after_rag_chain = (\n",
    "    {\"context\": retriever, \"question\": RunnablePassthrough()}\n",
    "    | after_rag_prompt\n",
    "    | model_local\n",
    "    | StrOutputParser()\n",
    ")\n"
   ]
  },
  {
   "cell_type": "code",
   "execution_count": 47,
   "metadata": {},
   "outputs": [
    {
     "name": "stdout",
     "output_type": "stream",
     "text": [
      " An analog is a substance that is similar, but not identical to another substance. For example, a man-made version of a naturally occurring substance."
     ]
    }
   ],
   "source": [
    "chunks = []\n",
    "async for chunk in after_rag_chain.astream(\"What is analog?\"):\n",
    "    chunks.append(chunk)\n",
    "    print(chunk, end=\"\", flush=True)"
   ]
  },
  {
   "cell_type": "code",
   "execution_count": 48,
   "metadata": {},
   "outputs": [
    {
     "name": "stdout",
     "output_type": "stream",
     "text": [
      " Anastomosis is a surgical procedure in which a diseased part of a tubular body structure is removed, and the ends of healthy sections are reconnected."
     ]
    }
   ],
   "source": [
    "chunks = []\n",
    "async for chunk in after_rag_chain.astream(\"What is anastomosis?\"):\n",
    "    chunks.append(chunk)\n",
    "    print(chunk, end=\"\", flush=True)"
   ]
  },
  {
   "cell_type": "code",
   "execution_count": 55,
   "metadata": {},
   "outputs": [
    {
     "name": "stdout",
     "output_type": "stream",
     "text": [
      " The future of cancer screening involves the use of advanced technologies such as expression profiling, proteomics, nanotechnology, and hyperlinks to early detection and personalized treatment. Expression profiling allows for determination of relative output of hundreds or thousands of molecules in cells, providing valuable information about cancer behavior and response to drugs. Proteomic methods compare the relative amounts of many proteins to distinguish more aggressive cancers and predict drug responses. Nanotechnology produces tiny particles for accurate tumor imaging and targeted drug delivery. Hyperlinks refer to further resources or information on these topics."
     ]
    }
   ],
   "source": [
    "chunks = []\n",
    "async for chunk in after_rag_chain.astream(\"What is the future of cancer screening?\"):\n",
    "    chunks.append(chunk)\n",
    "    print(chunk, end=\"\", flush=True)"
   ]
  },
  {
   "cell_type": "code",
   "execution_count": 33,
   "metadata": {},
   "outputs": [
    {
     "name": "stdout",
     "output_type": "stream",
     "text": [
      " The cancer stage is determined by examining tissue samples from surgery or a biopsy under a microscope, using systems like the TNM staging system to assess the size of the tumor, whether it has spread to nearby lymph nodes, and if it has metastasized to other organs. Different staging systems are used for various types of cancers."
     ]
    }
   ],
   "source": [
    "chunks = []\n",
    "async for chunk in after_rag_chain.astream(\"What is the cancer stage?\"):\n",
    "    chunks.append(chunk)\n",
    "    print(chunk, end=\"\", flush=True)"
   ]
  },
  {
   "cell_type": "code",
   "execution_count": 16,
   "metadata": {},
   "outputs": [
    {
     "name": "stdout",
     "output_type": "stream",
     "text": [
      " The history of cancer treatments through surgery can be traced back to the late 19th century with the work of surgeons like Bilroth in Germany, Handley in London, and Halsted in Baltimore. Halsted, specifically, developed the radical mastectomy for breast cancer based on the belief that cancer spreads primarily by local invasion rather than through the bloodstream. This belief led to the removal of entire tumors along with nearby lymph nodes, a practice that remained standard for almost a century. However, modern clinical trials in the 1970s demonstrated that less extensive surgery is equally effective for most women with breast cancer, leading to the decline of radical mastectomies and the rise of modified radical mastectomies and lumpectomies with radiation therapy.\n",
      "\n",
      "Additionally, during this time, surgeons like Handley and Halsted were developing radical operations while Stephen Paget was asking questions about metastasis. Paget's hypothesis that cells spread throughout the body but could only grow in certain organs became a key element in recognizing the limitations of cancer surgery and eventually led to the development of systemic treatments used after surgery to destroy cells that had spread throughout the body. Today, these systemic treatments may also be used before surgery."
     ]
    }
   ],
   "source": [
    "chunks = []\n",
    "async for chunk in after_rag_chain.astream(\"give me a brief about History of Cancer Treatments: Surgery?\"):\n",
    "    chunks.append(chunk)\n",
    "    print(chunk, end=\"\", flush=True)"
   ]
  },
  {
   "cell_type": "code",
   "execution_count": 9,
   "metadata": {},
   "outputs": [
    {
     "name": "stdout",
     "output_type": "stream",
     "text": [
      " Genes are segments of DNA that contain the instructions for the production of a specific protein or RNA molecule. In the context of cancer, genes can be altered or mutated in various ways, leading to the development and growth of cancer cells. These genetic changes can be caused by various factors such as inherited gene mutations, environmental exposures, viruses, or errors during DNA replication. Understanding the role of genes in cancer is crucial for developing effective prevention strategies, early detection methods, and targeted treatments. Genomic testing, which involves analyzing the genetic material of cancer cells, plays a significant role in identifying these genetic changes and guiding personalized treatment plans."
     ]
    }
   ],
   "source": [
    "chunks = []\n",
    "async for chunk in after_rag_chain.astream(\"what is Genes and Cancer?\"):\n",
    "    chunks.append(chunk)\n",
    "    print(chunk, end=\"\", flush=True)"
   ]
  },
  {
   "cell_type": "code",
   "execution_count": 10,
   "metadata": {},
   "outputs": [
    {
     "name": "stdout",
     "output_type": "stream",
     "text": [
      " An alpha blocker is a type of medication used to treat certain medical conditions, including high blood pressure and urinary symptoms caused by an enlarged prostate (a condition called benign prostatic hyperplasia or BPH). Alpha blockers work by blocking the action of alpha-adrenergic receptors in the body, which helps relax smooth muscles in the blood vessels and the bladder neck. This can lead to improved blood flow and reduced urinary symptoms. Examples of alpha blockers include phentolamine, phenylephrine, timolol, brimonidine, and doxazosin."
     ]
    }
   ],
   "source": [
    "chunks = []\n",
    "async for chunk in after_rag_chain.astream(\"what is alpha blocker?\"):\n",
    "    chunks.append(chunk)\n",
    "    print(chunk, end=\"\", flush=True)"
   ]
  },
  {
   "cell_type": "code",
   "execution_count": 15,
   "metadata": {},
   "outputs": [
    {
     "name": "stdout",
     "output_type": "stream",
     "text": [
      " An analog is a substance that is similar, but not identical to another substance. For example, a man-made version of a naturally occurring substance."
     ]
    }
   ],
   "source": [
    "chunks = []\n",
    "async for chunk in after_rag_chain.astream(\"what is analog?\"):\n",
    "    chunks.append(chunk)\n",
    "    print(chunk, end=\"\", flush=True)"
   ]
  },
  {
   "cell_type": "code",
   "execution_count": 19,
   "metadata": {},
   "outputs": [
    {
     "name": "stdout",
     "output_type": "stream",
     "text": [
      " Anesthesia refers to the use of medications or techniques to prevent pain during a medical procedure. In the provided context, there are mentions of two types of anesthesia:\n",
      "\n",
      "1. Local anesthesia: This type of anesthesia numbs a specific area of the body, blocking the transmission of pain signals to the brain. It is typically administered through injections or creams applied directly to the skin. Examples include lidocaine and novocaine.\n",
      "2. General anesthesia: This type of anesthesia renders the patient unconscious during a surgical procedure, preventing them from feeling pain or being aware of their surroundings. It is typically administered through intravenous (IV) lines or inhalation of gases. Examples include propofol and sevoflurane.\n",
      "\n",
      "It's important to note that there are other types of anesthesia as well, such as regional anesthesia (which numbs a larger area than local anesthesia but leaves the patient conscious) and monitored anesthesia care (MAC; which involves administering sedatives and analgesics to keep the patient comfortable during a procedure while they remain awake). However, these types were not mentioned in the provided context."
     ]
    }
   ],
   "source": [
    "chunks = []\n",
    "async for chunk in after_rag_chain.astream(\"what is anesthesia and its types given in the context?\"):\n",
    "    chunks.append(chunk)\n",
    "    print(chunk, end=\"\", flush=True)"
   ]
  },
  {
   "cell_type": "code",
   "execution_count": 24,
   "metadata": {},
   "outputs": [
    {
     "name": "stdout",
     "output_type": "stream",
     "text": [
      " Anesthesia refers to the use of medications or other methods to prevent pain during a medical procedure. The types mentioned in the context are:\n",
      "\n",
      "1. Local anesthesia: numbs a specific area of the body, allowing for the performance of a surgical procedure without causing pain to that area.\n",
      "2. Regional anesthesia: numbs a larger area than local anesthesia, often used for surgeries on limbs or abdominal procedures.\n",
      "3. General anesthesia: puts the patient in a deep sleep, making them unaware of the procedure and unable to feel pain throughout their body."
     ]
    }
   ],
   "source": [
    "chunks = []\n",
    "async for chunk in after_rag_chain.astream(\"what is anesthesia and its types?\"):\n",
    "    chunks.append(chunk)\n",
    "    print(chunk, end=\"\", flush=True)"
   ]
  },
  {
   "cell_type": "code",
   "execution_count": 25,
   "metadata": {},
   "outputs": [],
   "source": [
    "# print(chunks)"
   ]
  },
  {
   "cell_type": "code",
   "execution_count": 26,
   "metadata": {},
   "outputs": [],
   "source": [
    "# topic = {\"question\": \" What is the difference between a benign and a malignant tumor?\"}\n",
    "\n",
    "# for chunks in after_rag_chain.stream(topic):\n",
    "#     print(chunks)"
   ]
  },
  {
   "cell_type": "code",
   "execution_count": 27,
   "metadata": {},
   "outputs": [],
   "source": [
    "# after_rag_chain.invoke(\"What Is Cancer?\")"
   ]
  },
  {
   "cell_type": "code",
   "execution_count": null,
   "metadata": {},
   "outputs": [],
   "source": []
  }
 ],
 "metadata": {
  "kernelspec": {
   "display_name": "ollama_2",
   "language": "python",
   "name": "python3"
  },
  "language_info": {
   "codemirror_mode": {
    "name": "ipython",
    "version": 3
   },
   "file_extension": ".py",
   "mimetype": "text/x-python",
   "name": "python",
   "nbconvert_exporter": "python",
   "pygments_lexer": "ipython3",
   "version": "3.11.5"
  }
 },
 "nbformat": 4,
 "nbformat_minor": 2
}
