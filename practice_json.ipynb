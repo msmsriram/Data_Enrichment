{
 "cells": [
  {
   "cell_type": "code",
   "execution_count": 1,
   "metadata": {},
   "outputs": [],
   "source": [
    "import os\n",
    "import pandas as pd\n",
    "from langchain_community.document_loaders import WebBaseLoader\n",
    "from langchain_community.document_loaders import PyPDFLoader\n",
    "from langchain_community.vectorstores import Chroma\n",
    "from langchain_community import embeddings\n",
    "from langchain_community.chat_models import ChatOllama\n",
    "from langchain_core.runnables import RunnablePassthrough\n",
    "from langchain_core.output_parsers import StrOutputParser\n",
    "from langchain_core.prompts import ChatPromptTemplate\n",
    "from langchain.output_parsers import PydanticOutputParser\n",
    "from langchain.text_splitter import CharacterTextSplitter\n",
    "from langchain_community.document_loaders import BSHTMLLoader\n",
    "from langchain_core.output_parsers import JsonOutputParser\n",
    "from langchain_core.pydantic_v1 import BaseModel, Field"
   ]
  },
  {
   "cell_type": "code",
   "execution_count": 53,
   "metadata": {},
   "outputs": [],
   "source": [
    "df = pd.DataFrame(columns=[\"organization_name\",\"address\", \"email_address\", \"contact_number\"])\n",
    "pd.set_option('display.max_columns', None)\n",
    "pd.set_option('display.max_rows', None)\n",
    "pd.set_option('display.max_colwidth', None)"
   ]
  },
  {
   "cell_type": "code",
   "execution_count": 16,
   "metadata": {},
   "outputs": [],
   "source": [
    "model_local = ChatOllama(model=\"mistral\")\n"
   ]
  },
  {
   "cell_type": "code",
   "execution_count": 8,
   "metadata": {},
   "outputs": [],
   "source": [
    "directory = \"C:\\\\Users\\\\Barani\\\\Desktop\\\\local_ollama\\\\test\\\\test_1.html\""
   ]
  },
  {
   "cell_type": "code",
   "execution_count": 9,
   "metadata": {},
   "outputs": [
    {
     "data": {
      "text/plain": [
       "[Document(page_content=\"\\n\\n\\n\\n\\n\\n\\n\\n\\n\\n\\n\\n\\n\\n\\n\\n\\n\\n\\n\\n\\n\\n\\n\\n\\n\\n   Addresses and phone numbers - About Us - Mayo Clinic\\n  \\n\\n\\n\\n\\n\\n\\n\\n\\n\\n\\n\\n\\n\\n\\n\\n\\n\\n\\n\\n\\n\\n\\n\\n\\n\\n\\n\\n\\n\\n\\n\\n\\n\\n\\n\\n\\n\\n\\n\\n\\n\\n\\n\\n\\n\\n\\n\\n\\n\\n\\n\\n\\n\\n\\n\\n\\n\\n\\n\\n\\n\\n\\n\\n\\n\\n\\n\\n\\n\\n\\n\\n\\n\\n\\n\\n\\n\\n\\n\\n\\n\\n\\n\\n\\n\\n\\n\\n     This content does not have an English version.\\n    \\n\\n\\n\\n\\n\\n     This content does not have an Arabic version.\\n    \\n\\n\\n\\n\\n\\n\\n\\n\\n\\n\\n\\n\\n\\n\\n\\n\\n\\n\\n\\n\\n\\n\\n\\n\\n\\n\\n\\n\\n          Skip to content\\n         \\n\\n\\n\\n\\n\\n\\n\\n\\n\\n\\n\\n\\n\\n\\n\\n\\n\\n\\n\\n\\n\\n\\n\\n\\n\\n\\n\\n\\n\\n\\n\\n\\n\\n\\n\\n\\n\\n\\n\\n\\n\\n\\n\\n\\n\\n\\n\\n                          Care at \\n Mayo Clinic\\n                         \\n\\n\\n\\n\\n\\n\\n\\n\\n\\n\\n\\n\\n\\n\\n\\n\\n\\n\\n\\n\\n\\n\\n\\n\\n\\n\\n\\n\\n\\n\\n\\n\\n\\n                                  Patient-Centered Care\\n                                 \\n\\n\\n\\n\\n\\n\\n\\n\\n\\n\\n\\n\\n\\n\\n\\n\\n\\n\\n\\n\\n                                  About Mayo Clinic\\n                                 \\n\\n\\n\\n\\n\\n\\n\\n\\n\\n\\n\\n\\n\\n\\n\\n\\n\\n\\n\\n\\n                                  Request Appointment\\n                                 \\n\\n\\n\\n\\n\\n\\n\\n\\n\\n\\n\\n\\n\\n\\n\\n\\n\\n\\n\\n\\n                                  Find a Doctor\\n                                 \\n\\n\\n\\n\\n\\n\\n\\n\\n\\n\\n\\n\\n\\n\\n\\n\\n\\n\\n\\n\\n                                  Locations\\n                                 \\n\\n\\n\\n\\n\\n\\n\\n\\n\\n\\n\\n\\n\\n\\n\\n\\n\\n\\n\\n\\n                                  Clinical Trials\\n                                 \\n\\n\\n\\n\\n\\n\\n\\n\\n\\n\\n\\n\\n\\n\\n\\n\\n\\n\\n\\n\\n\\n\\n\\n\\n\\n\\n\\n\\n\\n\\n                                  Connect to Support Groups\\n                                 \\n\\n\\n\\n\\n\\n\\n\\n\\n\\n\\n\\n\\n\\n\\n\\n\\n\\n\\n\\n\\n                                  Patient & Visitor Guide\\n                                 \\n\\n\\n\\n\\n\\n\\n\\n\\n\\n\\n\\n\\n\\n\\n\\n\\n\\n\\n\\n\\n                                  Insurance & Billing\\n                                 \\n\\n\\n\\n\\n\\n\\n\\n\\n\\n\\n\\n\\n\\n\\n\\n\\n\\n\\n\\n\\n                                  Departments & Centers\\n                                 \\n\\n\\n\\n\\n\\n\\n\\n\\n\\n\\n\\n\\n\\n\\n\\n\\n\\n\\n\\n\\n                                  International Services\\n                                 \\n\\n\\n\\n\\n\\n\\n\\n\\n\\n\\n\\n\\n\\n\\n\\n\\n\\n\\n\\n\\n                                  Contact Us\\n                                 \\n\\n\\n\\n\\n\\n\\n\\n\\n\\n\\n\\n\\n\\n\\n\\n\\n\\n\\n\\n\\n\\n\\n\\n\\n\\n\\n\\n\\n\\n\\n\\n\\n                                     Patient & Visitor\\n                                     \\n\\n                                      Guide\\n                                      \\n\\n\\n\\n\\n\\n\\n\\n\\n\\n\\n\\n\\n\\n\\n\\n\\n\\n\\n\\n\\n\\n\\n\\n\\n\\n\\n\\n\\n\\n\\n\\n\\n\\n\\n\\n\\n\\n\\n\\n\\n\\n\\n\\n\\n\\n\\n\\n\\n                          Health \\n Library\\n                         \\n\\n\\n\\n\\n\\n\\n\\n\\n\\n\\n\\n\\n\\n\\n\\n\\n\\n\\n\\n\\n\\n\\n\\n\\n\\n\\n\\n\\n\\n\\n\\n\\n\\n                                  Diseases & Conditions\\n                                 \\n\\n\\n\\n\\n\\n\\n\\n\\n\\n\\n\\n\\n\\n\\n\\n\\n\\n\\n\\n\\n                                  Symptoms\\n                                 \\n\\n\\n\\n\\n\\n\\n\\n\\n\\n\\n\\n\\n\\n\\n\\n\\n\\n\\n\\n\\n                                  Tests & Procedures\\n                                 \\n\\n\\n\\n\\n\\n\\n\\n\\n\\n\\n\\n\\n\\n\\n\\n\\n\\n\\n\\n\\n\\n\\n\\n\\n\\n\\n\\n\\n\\n\\n                                  Drugs & Supplements\\n                                 \\n\\n\\n\\n\\n\\n\\n\\n\\n\\n\\n\\n\\n\\n\\n\\n\\n\\n\\n\\n\\n                                  Healthy Lifestyle\\n                                 \\n\\n\\n\\n\\n\\n\\n\\n\\n\\n\\n\\n\\n\\n\\n\\n\\n\\n\\n\\n\\n                                  Books & Subscriptions\\n                                 \\n\\n\\n\\n\\n\\n\\n\\n\\n\\n\\n\\n\\n\\n\\n\\n\\n\\n\\n\\n\\n\\n\\n\\n\\n\\n\\n\\n\\n\\n\\n\\n\\n                                     Diseases &\\n                                     \\n\\n                                      Conditions\\n                                      \\n\\n\\n\\n\\n\\n\\n\\n\\n\\n\\n\\n\\n\\n\\n\\n\\n\\n\\n\\n\\n\\n\\n\\n\\n\\n\\n\\n\\n\\n\\n\\n\\n\\n\\n\\n\\n\\n\\n\\n\\n\\n\\n\\n\\n\\n\\n\\n\\n                          For Medical \\n Professionals\\n                         \\n\\n\\n\\n\\n\\n\\n\\n\\n\\n\\n\\n\\n\\n\\n\\n\\n\\n\\n\\n\\n\\n\\n\\n\\n\\n\\n\\n\\n\\n\\n\\n\\n\\n                                  Medical Professional Resources\\n                                 \\n\\n\\n\\n\\n\\n\\n\\n\\n\\n\\n\\n\\n\\n\\n\\n\\n\\n\\n\\n\\n                                  Refer a Patient\\n                                 \\n\\n\\n\\n\\n\\n\\n\\n\\n\\n\\n\\n\\n\\n\\n\\n\\n\\n\\n\\n\\n                                  Continuing Medical Education\\n                                 \\n\\n\\n\\n\\n\\n\\n\\n\\n\\n\\n\\n\\n\\n\\n\\n\\n\\n\\n\\n\\n                                  AskMayoExpert\\n                                 \\n\\n\\n\\n\\n\\n\\n\\n\\n\\n\\n\\n\\n\\n\\n\\n\\n\\n\\n\\n\\n\\n\\n\\n\\n\\n\\n\\n\\n\\n\\n                                  Mayo Clinic Laboratories\\n                                 \\n\\n\\n\\n\\n\\n\\n\\n\\n\\n\\n\\n\\n\\n\\n\\n\\n\\n\\n\\n\\n                                  Video Center\\n                                 \\n\\n\\n\\n\\n\\n\\n\\n\\n\\n\\n\\n\\n\\n\\n\\n\\n\\n\\n\\n\\n                                  Journals & Publications\\n                                 \\n\\n\\n\\n\\n\\n\\n\\n\\n\\n\\n\\n\\n\\n\\n\\n\\n\\n\\n\\n\\n                                  Mayo Clinic Alumni Association\\n                                 \\n\\n\\n\\n\\n\\n\\n\\n\\n\\n\\n\\n\\n\\n\\n\\n\\n\\n\\n\\n\\n\\n\\n\\n\\n\\n\\n\\n\\n\\n\\n\\n\\n                                     Continuing Medical\\n                                     \\n\\n                                      Education\\n                                      \\n\\n\\n\\n\\n\\n\\n\\n\\n\\n\\n\\n\\n\\n\\n\\n\\n\\n\\n\\n\\n\\n\\n\\n\\n\\n\\n\\n\\n\\n\\n\\n\\n\\n\\n\\n\\n\\n\\n\\n\\n\\n\\n\\n\\n\\n\\n\\n\\n                          Research & Education \\n at Mayo Clinic\\n                         \\n\\n\\n\\n\\n\\n\\n\\n\\n\\n\\n\\n\\n\\n\\n\\n\\n\\n\\n\\n\\n\\n\\n\\n\\n\\n\\n\\n\\n                              Research\\n                             \\n\\n\\n\\n\\n\\n\\n\\n\\n\\n\\n                                  Research at Mayo Clinic\\n                                 \\n\\n\\n\\n\\n\\n\\n\\n\\n\\n\\n\\n\\n\\n\\n\\n\\n\\n\\n\\n\\n                                  Research Faculty\\n                                 \\n\\n\\n\\n\\n\\n\\n\\n\\n\\n\\n\\n\\n\\n\\n\\n\\n\\n\\n\\n\\n                                  Laboratories\\n                                 \\n\\n\\n\\n\\n\\n\\n\\n\\n\\n\\n\\n\\n\\n\\n\\n\\n\\n\\n\\n\\n                                  Core Facilities\\n                                 \\n\\n\\n\\n\\n\\n\\n\\n\\n\\n\\n\\n\\n\\n\\n\\n\\n\\n\\n\\n\\n                                  Centers & Programs\\n                                 \\n\\n\\n\\n\\n\\n\\n\\n\\n\\n\\n\\n\\n\\n\\n\\n\\n\\n\\n\\n\\n                                  Departments & Divisions\\n                                 \\n\\n\\n\\n\\n\\n\\n\\n\\n\\n\\n\\n\\n\\n\\n\\n\\n\\n\\n\\n\\n                                  Clinical Trials\\n                                 \\n\\n\\n\\n\\n\\n\\n\\n\\n\\n\\n\\n\\n\\n\\n\\n\\n\\n\\n\\n\\n                                  Institutional Review Board\\n                                 \\n\\n\\n\\n\\n\\n\\n\\n\\n\\n\\n\\n\\n\\n\\n\\n\\n\\n\\n\\n\\n                                  Postdoctoral Fellowships\\n                                 \\n\\n\\n\\n\\n\\n\\n\\n\\n\\n\\n\\n\\n\\n\\n\\n\\n\\n\\n\\n\\n                                  Training Grant Programs\\n                                 \\n\\n\\n\\n\\n\\n\\n\\n\\n\\n\\n\\n\\n\\n\\n\\n\\n\\n\\n\\n\\n\\n\\n\\n\\n\\n                              Education\\n                             \\n\\n\\n\\n\\n\\n\\n\\n\\n\\n\\n                                  Mayo Clinic College of Medicine and Science\\n                                 \\n\\n\\n\\n\\n\\n\\n\\n\\n\\n\\n\\n\\n\\n\\n\\n\\n\\n\\n\\n\\n                                  Mayo Clinic Graduate School of Biomedical Sciences\\n                                 \\n\\n\\n\\n\\n\\n\\n\\n\\n\\n\\n\\n\\n\\n\\n\\n\\n\\n\\n\\n\\n                                  Mayo Clinic Alix School of Medicine\\n                                 \\n\\n\\n\\n\\n\\n\\n\\n\\n\\n\\n\\n\\n\\n\\n\\n\\n\\n\\n\\n\\n                                  Mayo Clinic School of Graduate Medical Education\\n                                 \\n\\n\\n\\n\\n\\n\\n\\n\\n\\n\\n\\n\\n\\n\\n\\n\\n\\n\\n\\n\\n                                  Mayo Clinic School of Health Sciences\\n                                 \\n\\n\\n\\n\\n\\n\\n\\n\\n\\n\\n\\n\\n\\n\\n\\n\\n\\n\\n\\n\\n                                  Mayo Clinic School of Continuous Professional Development\\n                                 \\n\\n\\n\\n\\n\\n\\n\\n\\n\\n\\n\\n\\n\\n\\n\\n\\n\\n\\n\\n\\n\\n\\n\\n\\n\\n\\n\\n\\n\\n\\n\\n\\n                                     Mayo Clinic College of Medicine and\\n                                     \\n\\n                                      Science\\n                                      \\n\\n\\n\\n\\n\\n\\n\\n\\n\\n\\n\\n\\n\\n\\n\\n\\n\\n\\n\\n\\n\\n\\n\\n\\n\\n\\n\\n\\n\\n\\n\\n\\n\\n\\n\\n\\n\\n\\n\\n\\n\\n\\n\\n\\n\\n\\n\\n\\n                          Giving to \\n Mayo Clinic\\n                         \\n\\n\\n\\n\\n\\n\\n\\n\\n\\n\\n\\n\\n\\n\\n\\n\\n\\n\\n\\n\\n\\n\\n\\n\\n\\n\\n\\n\\n\\n\\n\\n\\n\\n                                  Give Now\\n                                 \\n\\n\\n\\n\\n\\n\\n\\n\\n\\n\\n\\n\\n\\n\\n\\n\\n\\n\\n\\n\\n                                  Giving to Mayo Clinic\\n                                 \\n\\n\\n\\n\\n\\n\\n\\n\\n\\n\\n\\n\\n\\n\\n\\n\\n\\n\\n\\n\\n\\n\\n\\n\\n\\n\\n\\n\\n\\n\\n                                  Frequently Asked Questions\\n                                 \\n\\n\\n\\n\\n\\n\\n\\n\\n\\n\\n\\n\\n\\n\\n\\n\\n\\n\\n\\n\\n                                  Contact Us to Give\\n                                 \\n\\n\\n\\n\\n\\n\\n\\n\\n\\n\\n\\n\\n\\n\\n\\n\\n\\n\\n\\n\\n\\n\\n\\n\\n\\n\\n\\n\\n\\n\\n\\n\\n                                     Make a\\n                                     \\n\\n                                      Donation\\n                                      \\n\\n\\n\\n\\n\\n\\n\\n\\n\\n\\n\\n\\n\\n\\n\\n\\n\\n\\n\\n\\n\\n\\n\\n\\n\\n\\n\\n\\n\\n\\n\\n\\n\\n\\n\\n\\n\\n\\n\\n\\n\\n\\n\\n\\n\\n\\n\\n\\n\\n\\n\\n\\n\\n\\n\\n\\n\\n\\n\\n\\n\\n\\n\\n\\n\\n\\n\\n\\n\\n\\n\\n                             Request appointment\\n                            \\n\\n\\n\\n\\n\\n\\n\\n\\n\\n\\n\\n\\n\\n\\n\\n\\n\\n\\n\\n\\n\\n\\n\\n\\n\\n\\n\\n\\n                             Log in\\n                            \\n\\n\\n\\n\\n\\n\\n\\n\\n\\n\\n\\n\\n\\n\\n\\n\\n\\n\\n\\n\\n\\n\\n\\n\\n\\n\\n\\n                            Search\\n                           \\n\\n\\n\\n\\n\\n\\n\\n\\n\\n\\n\\n\\n\\n\\n\\n\\n\\n\\n\\n\\n\\n\\n                            Menu\\n                           \\n\\n\\n\\n\\n\\n\\n\\n\\n\\n\\n\\n\\n\\n\\n\\n\\n\\n\\n\\n\\n\\n\\n\\n\\n\\n\\n\\n\\n\\n                                      Request appointment\\n                                     \\n\\n\\n\\n\\n\\n\\n\\n\\n\\n\\n\\n\\n\\n\\n\\n\\n\\n\\n\\n\\n\\n\\n                                      Donate\\n                                     \\n\\n\\n\\n\\n\\n\\n\\n\\n\\n\\n\\n\\n\\n\\n\\n\\n\\n\\n\\n\\n\\n\\n                                      Diseases & conditions\\n                                     \\n\\n\\n\\n\\n\\n\\n\\n\\n\\n\\n\\n\\n\\n\\n\\n\\n\\n\\n\\n\\n\\n\\n                                      Find a doctor\\n                                     \\n\\n\\n\\n\\n\\n\\n\\n\\n\\n\\n\\n\\n\\n\\n\\n\\n\\n\\n\\n\\n\\n\\n\\n\\n                                    Care at Mayo Clinic\\n                                   \\n\\n\\n\\n\\n\\n\\n\\n\\n\\n\\n\\n\\n\\n\\n\\n\\n\\n\\n\\n\\n\\n\\n\\n\\n\\n\\n\\n\\n\\n                                           Patient-Centered Care\\n                                          \\n\\n\\n\\n\\n\\n\\n\\n\\n\\n\\n\\n\\n\\n\\n\\n\\n\\n\\n\\n\\n                                           About Mayo Clinic\\n                                          \\n\\n\\n\\n\\n\\n\\n\\n\\n\\n\\n\\n\\n\\n\\n\\n\\n\\n\\n\\n\\n                                           Request Appointment\\n                                          \\n\\n\\n\\n\\n\\n\\n\\n\\n\\n\\n\\n\\n\\n\\n\\n\\n\\n\\n\\n\\n                                           Find a Doctor\\n                                          \\n\\n\\n\\n\\n\\n\\n\\n\\n\\n\\n\\n\\n\\n\\n\\n\\n\\n\\n\\n\\n                                           Locations\\n                                          \\n\\n\\n\\n\\n\\n\\n\\n\\n\\n\\n\\n\\n\\n\\n\\n\\n\\n\\n\\n\\n                                           Clinical Trials\\n                                          \\n\\n\\n\\n\\n\\n\\n\\n\\n\\n\\n\\n\\n\\n\\n\\n\\n\\n\\n\\n\\n\\n\\n\\n\\n\\n\\n\\n\\n\\n\\n                                           Connect to Support Groups\\n                                          \\n\\n\\n\\n\\n\\n\\n\\n\\n\\n\\n\\n\\n\\n\\n\\n\\n\\n\\n\\n\\n                                           Patient & Visitor Guide\\n                                          \\n\\n\\n\\n\\n\\n\\n\\n\\n\\n\\n\\n\\n\\n\\n\\n\\n\\n\\n\\n\\n                                           Insurance & Billing\\n                                          \\n\\n\\n\\n\\n\\n\\n\\n\\n\\n\\n\\n\\n\\n\\n\\n\\n\\n\\n\\n\\n                                           Departments & Centers\\n                                          \\n\\n\\n\\n\\n\\n\\n\\n\\n\\n\\n\\n\\n\\n\\n\\n\\n\\n\\n\\n\\n                                           International Services\\n                                          \\n\\n\\n\\n\\n\\n\\n\\n\\n\\n\\n\\n\\n\\n\\n\\n\\n\\n\\n\\n\\n                                           Contact Us\\n                                          \\n\\n\\n\\n\\n\\n\\n\\n\\n\\n\\n\\n\\n\\n\\n\\n\\n\\n\\n\\n\\n\\n\\n\\n\\n\\n\\n\\n\\n\\n\\n\\n\\n                                              Patient & Visitor\\n                                              \\n\\n                                               Guide\\n                                               \\n\\n\\n\\n\\n\\n\\n\\n\\n\\n\\n\\n\\n\\n\\n\\n\\n\\n\\n\\n\\n\\n\\n\\n\\n\\n\\n\\n\\n\\n\\n\\n\\n\\n\\n\\n\\n\\n\\n\\n\\n                                    Health Library\\n                                   \\n\\n\\n\\n\\n\\n\\n\\n\\n\\n\\n\\n\\n\\n\\n\\n\\n\\n\\n\\n\\n\\n\\n\\n\\n\\n\\n\\n\\n\\n                                           Diseases & Conditions\\n                                          \\n\\n\\n\\n\\n\\n\\n\\n\\n\\n\\n\\n\\n\\n\\n\\n\\n\\n\\n\\n\\n                                           Symptoms\\n                                          \\n\\n\\n\\n\\n\\n\\n\\n\\n\\n\\n\\n\\n\\n\\n\\n\\n\\n\\n\\n\\n                                           Tests & Procedures\\n                                          \\n\\n\\n\\n\\n\\n\\n\\n\\n\\n\\n\\n\\n\\n\\n\\n\\n\\n\\n\\n\\n\\n\\n\\n\\n\\n\\n\\n\\n\\n\\n                                           Drugs & Supplements\\n                                          \\n\\n\\n\\n\\n\\n\\n\\n\\n\\n\\n\\n\\n\\n\\n\\n\\n\\n\\n\\n\\n                                           Healthy Lifestyle\\n                                          \\n\\n\\n\\n\\n\\n\\n\\n\\n\\n\\n\\n\\n\\n\\n\\n\\n\\n\\n\\n\\n                                           Books & Subscriptions\\n                                          \\n\\n\\n\\n\\n\\n\\n\\n\\n\\n\\n\\n\\n\\n\\n\\n\\n\\n\\n\\n\\n\\n\\n\\n\\n\\n\\n\\n\\n\\n\\n\\n\\n                                              Diseases &\\n                                              \\n\\n                                               Conditions\\n                                               \\n\\n\\n\\n\\n\\n\\n\\n\\n\\n\\n\\n\\n\\n\\n\\n\\n\\n\\n\\n\\n\\n\\n\\n\\n\\n\\n\\n\\n\\n\\n\\n\\n\\n\\n\\n\\n\\n\\n\\n\\n                                    For Medical Professionals\\n                                   \\n\\n\\n\\n\\n\\n\\n\\n\\n\\n\\n\\n\\n\\n\\n\\n\\n\\n\\n\\n\\n\\n\\n\\n\\n\\n\\n\\n\\n\\n                                           Medical Professional Resources\\n                                          \\n\\n\\n\\n\\n\\n\\n\\n\\n\\n\\n\\n\\n\\n\\n\\n\\n\\n\\n\\n\\n                                           Refer a Patient\\n                                          \\n\\n\\n\\n\\n\\n\\n\\n\\n\\n\\n\\n\\n\\n\\n\\n\\n\\n\\n\\n\\n                                           Continuing Medical Education\\n                                          \\n\\n\\n\\n\\n\\n\\n\\n\\n\\n\\n\\n\\n\\n\\n\\n\\n\\n\\n\\n\\n                                           AskMayoExpert\\n                                          \\n\\n\\n\\n\\n\\n\\n\\n\\n\\n\\n\\n\\n\\n\\n\\n\\n\\n\\n\\n\\n\\n\\n\\n\\n\\n\\n\\n\\n\\n\\n                                           Mayo Clinic Laboratories\\n                                          \\n\\n\\n\\n\\n\\n\\n\\n\\n\\n\\n\\n\\n\\n\\n\\n\\n\\n\\n\\n\\n                                           Video Center\\n                                          \\n\\n\\n\\n\\n\\n\\n\\n\\n\\n\\n\\n\\n\\n\\n\\n\\n\\n\\n\\n\\n                                           Journals & Publications\\n                                          \\n\\n\\n\\n\\n\\n\\n\\n\\n\\n\\n\\n\\n\\n\\n\\n\\n\\n\\n\\n\\n                                           Mayo Clinic Alumni Association\\n                                          \\n\\n\\n\\n\\n\\n\\n\\n\\n\\n\\n\\n\\n\\n\\n\\n\\n\\n\\n\\n\\n\\n\\n\\n\\n\\n\\n\\n\\n\\n\\n\\n\\n                                              Continuing Medical\\n                                              \\n\\n                                               Education\\n                                               \\n\\n\\n\\n\\n\\n\\n\\n\\n\\n\\n\\n\\n\\n\\n\\n\\n\\n\\n\\n\\n\\n\\n\\n\\n\\n\\n\\n\\n\\n\\n\\n\\n\\n\\n\\n\\n\\n\\n\\n\\n                                    Research & Education at Mayo Clinic\\n                                   \\n\\n\\n\\n\\n\\n\\n\\n\\n\\n\\n\\n\\n\\n\\n\\n\\n\\n\\n\\n\\n\\n\\n\\n\\n                                       Research\\n                                      \\n\\n\\n\\n\\n\\n\\n\\n\\n\\n\\n                                           Research at Mayo Clinic\\n                                          \\n\\n\\n\\n\\n\\n\\n\\n\\n\\n\\n\\n\\n\\n\\n\\n\\n\\n\\n\\n\\n                                           Research Faculty\\n                                          \\n\\n\\n\\n\\n\\n\\n\\n\\n\\n\\n\\n\\n\\n\\n\\n\\n\\n\\n\\n\\n                                           Laboratories\\n                                          \\n\\n\\n\\n\\n\\n\\n\\n\\n\\n\\n\\n\\n\\n\\n\\n\\n\\n\\n\\n\\n                                           Core Facilities\\n                                          \\n\\n\\n\\n\\n\\n\\n\\n\\n\\n\\n\\n\\n\\n\\n\\n\\n\\n\\n\\n\\n                                           Centers & Programs\\n                                          \\n\\n\\n\\n\\n\\n\\n\\n\\n\\n\\n\\n\\n\\n\\n\\n\\n\\n\\n\\n\\n                                           Departments & Divisions\\n                                          \\n\\n\\n\\n\\n\\n\\n\\n\\n\\n\\n\\n\\n\\n\\n\\n\\n\\n\\n\\n\\n                                           Clinical Trials\\n                                          \\n\\n\\n\\n\\n\\n\\n\\n\\n\\n\\n\\n\\n\\n\\n\\n\\n\\n\\n\\n\\n                                           Institutional Review Board\\n                                          \\n\\n\\n\\n\\n\\n\\n\\n\\n\\n\\n\\n\\n\\n\\n\\n\\n\\n\\n\\n\\n                                           Postdoctoral Fellowships\\n                                          \\n\\n\\n\\n\\n\\n\\n\\n\\n\\n\\n\\n\\n\\n\\n\\n\\n\\n\\n\\n\\n                                           Training Grant Programs\\n                                          \\n\\n\\n\\n\\n\\n\\n\\n\\n\\n\\n\\n\\n\\n\\n\\n\\n\\n\\n\\n\\n\\n\\n\\n\\n\\n                                       Education\\n                                      \\n\\n\\n\\n\\n\\n\\n\\n\\n\\n\\n                                           Mayo Clinic College of Medicine and Science\\n                                          \\n\\n\\n\\n\\n\\n\\n\\n\\n\\n\\n\\n\\n\\n\\n\\n\\n\\n\\n\\n\\n                                           Mayo Clinic Graduate School of Biomedical Sciences\\n                                          \\n\\n\\n\\n\\n\\n\\n\\n\\n\\n\\n\\n\\n\\n\\n\\n\\n\\n\\n\\n\\n                                           Mayo Clinic Alix School of Medicine\\n                                          \\n\\n\\n\\n\\n\\n\\n\\n\\n\\n\\n\\n\\n\\n\\n\\n\\n\\n\\n\\n\\n                                           Mayo Clinic School of Graduate Medical Education\\n                                          \\n\\n\\n\\n\\n\\n\\n\\n\\n\\n\\n\\n\\n\\n\\n\\n\\n\\n\\n\\n\\n                                           Mayo Clinic School of Health Sciences\\n                                          \\n\\n\\n\\n\\n\\n\\n\\n\\n\\n\\n\\n\\n\\n\\n\\n\\n\\n\\n\\n\\n                                           Mayo Clinic School of Continuous Professional Development\\n                                          \\n\\n\\n\\n\\n\\n\\n\\n\\n\\n\\n\\n\\n\\n\\n\\n\\n\\n\\n\\n\\n\\n\\n\\n\\n\\n\\n\\n\\n\\n\\n\\n\\n                                              Mayo Clinic College of Medicine and\\n                                              \\n\\n                                               Science\\n                                               \\n\\n\\n\\n\\n\\n\\n\\n\\n\\n\\n\\n\\n\\n\\n\\n\\n\\n\\n\\n\\n\\n\\n\\n\\n\\n\\n\\n\\n\\n\\n\\n\\n\\n\\n\\n\\n\\n\\n\\n\\n                                    Giving to Mayo Clinic\\n                                   \\n\\n\\n\\n\\n\\n\\n\\n\\n\\n\\n\\n\\n\\n\\n\\n\\n\\n\\n\\n\\n\\n\\n\\n\\n\\n\\n\\n\\n\\n                                           Give Now\\n                                          \\n\\n\\n\\n\\n\\n\\n\\n\\n\\n\\n\\n\\n\\n\\n\\n\\n\\n\\n\\n\\n                                           Giving to Mayo Clinic\\n                                          \\n\\n\\n\\n\\n\\n\\n\\n\\n\\n\\n\\n\\n\\n\\n\\n\\n\\n\\n\\n\\n\\n\\n\\n\\n\\n\\n\\n\\n\\n\\n                                           Frequently Asked Questions\\n                                          \\n\\n\\n\\n\\n\\n\\n\\n\\n\\n\\n\\n\\n\\n\\n\\n\\n\\n\\n\\n\\n                                           Contact Us to Give\\n                                          \\n\\n\\n\\n\\n\\n\\n\\n\\n\\n\\n\\n\\n\\n\\n\\n\\n\\n\\n\\n\\n\\n\\n\\n\\n\\n\\n\\n\\n\\n\\n\\n\\n                                              Make a\\n                                              \\n\\n                                               Donation\\n                                               \\n\\n\\n\\n\\n\\n\\n\\n\\n\\n\\n\\n\\n\\n\\n\\n\\n\\n\\n\\n\\n\\n\\n\\n\\n\\n\\n\\n\\n\\n\\n\\n\\n\\n\\n\\n\\n\\n\\n\\n\\n\\n\\n\\n\\n\\n\\n\\n\\n\\n\\n\\n\\n\\n\\n\\n\\n\\n\\n\\n\\n\\n\\n\\n\\n\\n\\n\\n\\n\\n\\n\\n\\n\\n\\n\\n\\n\\n\\n                        Search for a disease or condition\\n                        \\n                         . Type 3 or more letters to display suggested search options.\\n                        \\n\\n\\n\\n\\n\\n\\n\\n\\n\\n\\n\\n\\n\\n\\n\\n\\n\\n\\n\\n\\n\\n                        When results are available, use up and down arrow keys to navigate. Press space key to fill the input with the suggestion or enter key to search with the suggestion.\\n                       \\n\\n                        Search by keyword or phrase\\n                       \\n\\n\\n\\n\\n\\n\\n\\n\\n\\n\\n                         Search\\n                        \\n\\n\\n\\n\\n\\n\\n\\n\\n\\n\\n\\n\\n\\n\\n\\n\\n\\n\\n\\n\\n\\n\\n\\n\\n\\n\\n\\n\\n\\n\\n\\n\\n\\n\\n\\n\\n\\n\\n\\n\\n\\n\\n\\n\\n\\n\\n\\n\\n\\n\\n\\n\\n\\n\\n\\n\\n\\n\\n\\n\\n\\n\\n\\n\\n\\n\\n\\n         Appointments at Mayo Clinic\\n        \\n\\n         Mayo Clinic offers appointments in Arizona, Florida and Minnesota and at Mayo Clinic Health System locations.\\n        \\n\\n         Request Appointment\\n        \\n\\n\\n\\n\\n\\n\\n\\n        About Mayo Clinic\\n       \\n\\n\\n         Contact Mayo Clinic\\n        \\n\\n\\n\\n\\n        Print\\n       \\n\\n\\n\\n\\n\\n\\n\\n\\n\\n\\n        Addresses and phone numbers\\n       \\n\\n\\n\\n\\n         Arizona â€” Scottsdale/Phoenix\\n        \\n\\n\\n\\n         Florida â€” Jacksonville\\n        \\n\\n\\n\\n         Minnesota â€” Rochester\\n        \\n\\n\\n\\n         Staff phone and email directories\\n        \\n\\n\\n\\n\\n\\n       Arizona â€” Scottsdale/Phoenix\\n      \\n\\n\\n        Mayo Clinic\\n       \\n\\n\\n       13400 E. Shea Blvd.\\n       \\n       Scottsdale, AZ 85259\\n      \\n\\n\\n\\n\\n          Contact\\n         \\n\\n          Number\\n         \\n\\n\\n\\n\\n\\n          General number\\n         \\n\\n\\n\\n\\n             480-301-8000\\n            \\n\\n\\n\\n\\n\\n\\n\\n           Appointment Office\\n          \\n\\n\\n\\n\\n\\n\\n\\n               480-301-8484\\n              \\n\\n\\n\\n\\n\\n\\n\\n\\n\\n           Insurance and billing\\n          \\n\\n\\n\\n\\n\\n\\n\\n               844-217-9591\\n              \\n\\n\\n            (toll-free)\\n           \\n\\n\\n\\n\\n               507-266-0909\\n              \\n\\n\\n            for international callers\\n           \\n\\n\\n\\n\\n\\n\\n           International Patients Center\\n          \\n\\n\\n\\n\\n\\n             480-301-7101\\n            \\n\\n\\n\\n\\n\\n\\n\\n           Medical records and imaging requests\\n          \\n\\n\\n\\n\\n\\n             507-284-4594\\n            \\n\\n\\n\\n\\n\\n\\n          Medical records requests fax\\n         \\n\\n\\n\\n            507-284-0161\\n           \\n\\n\\n\\n\\n\\n          Scottsdale/Phoenix Office of Patient Experience\\n         \\n\\n\\n\\n\\n             844-544-0036\\n            \\n\\n\\n          (toll-free)\\n         \\n\\n\\n\\n\\n\\n        Records request form (PDF)\\n       \\n\\n\\n\\n        Mayo Clinic Hospital\\n       \\n\\n\\n       5777 E. Mayo Blvd.\\n       \\n       Phoenix, AZ 85054\\n      \\n\\n\\n\\n\\n          Contact\\n         \\n\\n          Number\\n         \\n\\n\\n\\n\\n\\n          General numbers\\n         \\n\\n\\n\\n\\n\\n\\n               480-515-6296\\n              \\n\\n\\n\\n\\n\\n\\n\\n               480-342-2000\\n              \\n\\n\\n\\n\\n\\n\\n\\n\\n          Scottsdale/Phoenix Office of Patient Experience\\n         \\n\\n\\n\\n\\n             844-544-0036\\n            \\n\\n\\n          (toll-free)\\n         \\n\\n\\n\\n\\n\\n        Back to top\\n       \\n\\n\\n\\n\\n       Florida â€” Jacksonville\\n      \\n\\n\\n        Mayo Clinic\\n       \\n\\n\\n       4500 San Pablo Road\\n       \\n       Jacksonville, FL 32224\\n      \\n\\n\\n\\n\\n          Contact\\n         \\n\\n          Number\\n         \\n\\n\\n\\n\\n\\n          General number\\n         \\n\\n\\n\\n\\n             904-953-2000\\n            \\n\\n\\n\\n\\n\\n\\n\\n           Appointment Office\\n          \\n\\n\\n\\n\\n\\n             904-953-0853\\n            \\n\\n\\n\\n\\n\\n\\n          Appointment Office fax\\n         \\n\\n\\n\\n            904-953-2898\\n           \\n\\n\\n\\n\\n\\n\\n           Billing\\n          \\n\\n\\n\\n\\n\\n\\n\\n               844-217-9591\\n              \\n\\n\\n            (toll-free)\\n           \\n\\n\\n\\n\\n               507-266-0909\\n              \\n\\n\\n            for international callers\\n           \\n\\n\\n\\n\\n\\n          Hospital-to-hospital patient transfers (Admission Transfer Center â€” 24 hours a day)\\n         \\n\\n\\n\\n\\n             904-953-1111\\n            \\n\\n\\n\\n\\n\\n\\n\\n           Insurance\\n          \\n\\n\\n\\n\\n\\n             904-953-1395\\n            \\n\\n\\n          or\\n          \\n\\n\\n\\n              877-956-1820\\n             \\n\\n\\n           , then option 1 (toll-free outside Jacksonville)\\n          \\n\\n\\n\\n\\n\\n           International Services\\n          \\n\\n\\n\\n\\n\\n             904-953-7000\\n            \\n\\n\\n\\n\\n\\n\\n          International Services fax\\n         \\n\\n\\n\\n            904-953-7329\\n           \\n\\n\\n\\n\\n\\n\\n           Medical records and imaging requests\\n          \\n\\n\\n\\n\\n\\n             507-284-4594\\n            \\n\\n\\n\\n\\n\\n\\n          Medical records requests fax\\n         \\n\\n\\n\\n            507-284-0161\\n           \\n\\n\\n\\n\\n\\n\\n\\n        Records request form (PDF)\\n       \\n\\n\\n\\n        Mayo Building and Hospital\\n       \\n\\n\\n       4500 San Pablo Road\\n       \\n       Jacksonville, FL 32224\\n      \\n\\n\\n\\n\\n          Contact\\n         \\n\\n          Number\\n         \\n\\n\\n\\n\\n\\n          General number\\n         \\n\\n\\n\\n\\n             904-953-2000\\n            \\n\\n\\n\\n\\n\\n\\n          Jacksonville Office of Patient Experience\\n         \\n\\n\\n\\n\\n             844-544-0036\\n            \\n\\n\\n          (toll-free)\\n         \\n\\n\\n\\n\\n\\n        Back to top\\n       \\n\\n\\n\\n\\n       Minnesota â€” Rochester\\n      \\n\\n\\n        Mayo Clinic\\n       \\n\\n\\n       200 First St. SW\\n       \\n       Rochester, MN 55905\\n      \\n\\n\\n\\n\\n          Contact\\n         \\n\\n          Number\\n         \\n\\n\\n\\n\\n\\n          General number\\n         \\n\\n\\n\\n\\n             507-284-2511\\n            \\n\\n\\n\\n\\n\\n\\n\\n           Appointment Office\\n          \\n\\n\\n\\n\\n\\n             507-538-3270\\n            \\n\\n\\n\\n\\n\\n\\n\\n           Insurance and billing\\n          \\n\\n\\n\\n\\n\\n\\n\\n               844-217-9591\\n              \\n\\n\\n            (toll free)\\n           \\n\\n\\n\\n\\n               507-266-0909\\n              \\n\\n\\n            for international callers\\n           \\n\\n\\n\\n\\n\\n\\n           International Appointment Office\\n          \\n\\n\\n\\n\\n\\n             507-284-8884\\n            \\n\\n\\n\\n\\n\\n\\n          International Appointment Office fax\\n         \\n\\n\\n\\n            507-538-7802\\n           \\n\\n\\n\\n\\n\\n\\n           Medical records and imaging requests\\n          \\n\\n\\n\\n\\n            507-284-4594\\n           \\n\\n\\n\\n\\n\\n          Medical records requests fax\\n         \\n\\n\\n\\n            507-284-0161\\n           \\n\\n\\n\\n\\n\\n\\n\\n        Records request form (PDF)\\n       \\n\\n\\n\\n        Mayo Clinic Hospital, Methodist Campus\\n       \\n\\n\\n       201 W. Center St.\\n       \\n       Rochester, MN 55902\\n      \\n\\n\\n\\n\\n          Contact\\n         \\n\\n          Number\\n         \\n\\n\\n\\n\\n\\n          General number\\n         \\n\\n\\n\\n\\n             507-266-7890\\n            \\n\\n\\n\\n\\n\\n\\n\\n\\n        Mayo Clinic Hospital, Saint Marys Campus\\n       \\n\\n\\n       including\\n       \\n        Mayo Eugenio Litta Children's Hospital\\n       \\n\\n\\n       1216 Second St. SW\\n       \\n       Rochester, MN 55902\\n      \\n\\n\\n\\n\\n          Contact\\n         \\n\\n          Number\\n         \\n\\n\\n\\n\\n\\n          General number\\n         \\n\\n\\n\\n\\n             507-255-5123\\n            \\n\\n\\n\\n\\n\\n\\n          Rochester, Minnesota, Office of Patient Experience\\n         \\n\\n\\n\\n\\n             844-544-0036\\n            \\n\\n\\n          (toll-free)\\n         \\n\\n\\n\\n\\n\\n        Back to top\\n       \\n\\n\\n\\n\\n       Staff phone and email directories\\n      \\n\\n       Mayo Clinic doesn't have a public directory of staff phone numbers or email addresses. To contact someone, call the general telephone number at a Mayo Clinic location and the operator will connect you.\\n      \\n\\n       You may find biographical information about Mayo Clinic staff doctors on the\\n       \\n        Doctors and Medical Staff\\n       \\n       pages.\\n      \\n\\n       You may view research profiles of Mayo Clinic faculty in the\\n       \\n        research staff directory\\n       \\n       .\\n      \\n\\n\\n        Back to top\\n       \\n\\n\\n\\n\\n\\n\\n          Share\\n         \\n\\n\\n\\n          Tweet\\n         \\n\\n\\n\\n\\n\\n\\n\\n        Contact Patient Experience\\n       \\n\\n        If youâ€™d like to share a compliment or  concern about your care at Mayo Clinic, please contact Mayo Clinic's Office of  Patient Experience.\\n       \\n\\n\\n\\n\\n\\n\\n\\n\\n\\n\\n\\n\\n\\n\\n\\n\\n\\n\\n\\n\\n\\n\\n\\n\\n\\n\\n\\n      .\\n     \\n\\n\\n\\n      ART-20057639\\n     \\n\\n\\n\\n        About Mayo Clinic\\n       \\n\\n\\n\\n        Contact Mayo Clinic\\n       \\n\\n\\n\\n\\n\\n\\n\\n\\n\\n\\n\\n\\n\\n\\n\\n\\n\\n\\n\\n\\n\\n\\n\\n\\n             Your gift holds great power â€“ donate today!\\n            \\n\\n\\n\\n\\n\\n\\n\\n\\n\\n\\n                 Donate\\n                \\n\\n\\n\\n\\n\\n\\n\\n\\n\\n\\n\\n\\n\\n\\n\\n\\n              Make your tax-deductible gift and be a part of the cutting-edge research and care that's changing medicine.\\n             \\n\\n\\n\\n\\n\\n\\n\\n\\n\\n\\n\\n                 Donate\\n                \\n\\n\\n\\n\\n\\n\\n\\n\\n\\n\\n\\n\\n\\n\\n\\n\\n\\n\\n\\n\\n\\n\\n\\n\\n\\n\\n\\n\\n\\n\\n\\n\\n\\n\\n\\n\\n\\n\\n\\n\\n\\n\\n\\n\\n\\n\\n\\n\\n\\n\\n\\n\\n\\n\\n\\n\\n\\n\\n\\n\\n                        Find a doctor\\n                       \\n\\n\\n\\n\\n\\n\\n\\n\\n\\n\\n\\n\\n\\n\\n\\n\\n\\n\\n\\n\\n\\n\\n                        Explore careers\\n                       \\n\\n\\n\\n\\n\\n\\n\\n\\n\\n\\n\\n\\n\\n\\n\\n\\n\\n\\n\\n\\n\\n\\n                        Sign up for free e-newsletters\\n                       \\n\\n\\n\\n\\n\\n\\n\\n\\n\\n\\n\\n\\n\\n\\n\\n\\n\\n\\n\\n\\n\\n\\n\\n\\n\\n\\n\\n\\n\\n\\n\\n\\n\\n                     About Mayo Clinic\\n                     \\n\\n\\n\\n\\n\\n\\n\\n\\n\\n\\n\\n\\n\\n\\n\\n\\n\\n\\n\\n\\n\\n\\n\\n\\n\\n\\n\\n                        About this Site\\n                       \\n\\n\\n\\n\\n\\n\\n\\n\\n\\n\\n\\n\\n\\n\\n\\n\\n\\n\\n\\n\\n                        Contact Us\\n                       \\n\\n\\n\\n\\n\\n\\n\\n\\n\\n\\n\\n\\n\\n\\n\\n\\n\\n\\n\\n\\n                        Locations\\n                       \\n\\n\\n\\n\\n\\n\\n\\n\\n\\n\\n\\n\\n\\n\\n\\n\\n\\n\\n\\n\\n                        Health Information Policy\\n                       \\n\\n\\n\\n\\n\\n\\n\\n\\n\\n\\n\\n\\n\\n\\n\\n\\n\\n\\n\\n\\n                        Media Requests\\n                       \\n\\n\\n\\n\\n\\n\\n\\n\\n\\n\\n\\n\\n\\n\\n\\n\\n\\n\\n\\n\\n                        News Network\\n                       \\n\\n\\n\\n\\n\\n\\n\\n\\n\\n\\n\\n\\n\\n\\n\\n\\n\\n\\n\\n\\n                        Price Transparency\\n                       \\n\\n\\n\\n\\n\\n\\n\\n\\n\\n\\n\\n\\n\\n\\n\\n\\n\\n\\n\\n\\n\\n\\n\\n\\n\\n\\n\\n\\n\\n\\n\\n\\n\\n                     Medical\\n                     \\n\\n                      Professionals\\n                      \\n\\n\\n\\n\\n\\n\\n\\n\\n\\n\\n\\n\\n\\n\\n\\n\\n\\n\\n\\n\\n\\n\\n\\n\\n\\n\\n                        AskMayoExpert\\n                       \\n\\n\\n\\n\\n\\n\\n\\n\\n\\n\\n\\n\\n\\n\\n\\n\\n\\n\\n\\n\\n                        Clinical Trials\\n                       \\n\\n\\n\\n\\n\\n\\n\\n\\n\\n\\n\\n\\n\\n\\n\\n\\n\\n\\n\\n\\n                        Mayo Clinic Alumni Association\\n                       \\n\\n\\n\\n\\n\\n\\n\\n\\n\\n\\n\\n\\n\\n\\n\\n\\n\\n\\n\\n\\n                        Refer a Patient\\n                       \\n\\n\\n\\n\\n\\n\\n\\n\\n\\n\\n\\n\\n\\n\\n\\n\\n\\n\\n\\n\\n\\n\\n\\n\\n\\n\\n\\n\\n\\n\\n\\n\\n\\n                     Businesses\\n                     \\n\\n\\n\\n\\n\\n\\n\\n\\n\\n\\n\\n\\n\\n\\n\\n\\n\\n\\n\\n\\n\\n\\n\\n\\n\\n\\n\\n                        Executive Health Program\\n                       \\n\\n\\n\\n\\n\\n\\n\\n\\n\\n\\n\\n\\n\\n\\n\\n\\n\\n\\n\\n\\n                        International Business Collaborations\\n                       \\n\\n\\n\\n\\n\\n\\n\\n\\n\\n\\n\\n\\n\\n\\n\\n\\n\\n\\n\\n\\n                        Facilities & Real Estate\\n                       \\n\\n\\n\\n\\n\\n\\n\\n\\n\\n\\n\\n\\n\\n\\n\\n\\n\\n\\n\\n\\n                        Supplier Information\\n                       \\n\\n\\n\\n\\n\\n\\n\\n\\n\\n\\n\\n\\n\\n\\n\\n\\n\\n\\n\\n\\n\\n\\n\\n\\n\\n\\n\\n\\n\\n\\n\\n\\n\\n\\n\\n\\n\\n\\n\\n\\n\\n\\n\\n                     Medical\\n                     \\n\\n                      Professionals\\n                      \\n\\n\\n\\n\\n\\n\\n\\n\\n\\n\\n\\n\\n\\n\\n\\n\\n\\n\\n\\n\\n\\n\\n\\n\\n\\n\\n                        AskMayoExpert\\n                       \\n\\n\\n\\n\\n\\n\\n\\n\\n\\n\\n\\n\\n\\n\\n\\n\\n\\n\\n\\n\\n                        Clinical Trials\\n                       \\n\\n\\n\\n\\n\\n\\n\\n\\n\\n\\n\\n\\n\\n\\n\\n\\n\\n\\n\\n\\n                        Mayo Clinic Alumni Association\\n                       \\n\\n\\n\\n\\n\\n\\n\\n\\n\\n\\n\\n\\n\\n\\n\\n\\n\\n\\n\\n\\n                        Refer a Patient\\n                       \\n\\n\\n\\n\\n\\n\\n\\n\\n\\n\\n\\n\\n\\n\\n\\n\\n\\n\\n\\n\\n\\n\\n\\n\\n\\n\\n\\n\\n\\n\\n\\n\\n\\n                     Businesses\\n                     \\n\\n\\n\\n\\n\\n\\n\\n\\n\\n\\n\\n\\n\\n\\n\\n\\n\\n\\n\\n\\n\\n\\n\\n\\n\\n\\n\\n                        Executive Health Program\\n                       \\n\\n\\n\\n\\n\\n\\n\\n\\n\\n\\n\\n\\n\\n\\n\\n\\n\\n\\n\\n\\n                        International Business Collaborations\\n                       \\n\\n\\n\\n\\n\\n\\n\\n\\n\\n\\n\\n\\n\\n\\n\\n\\n\\n\\n\\n\\n                        Facilities & Real Estate\\n                       \\n\\n\\n\\n\\n\\n\\n\\n\\n\\n\\n\\n\\n\\n\\n\\n\\n\\n\\n\\n\\n                        Supplier Information\\n                       \\n\\n\\n\\n\\n\\n\\n\\n\\n\\n\\n\\n\\n\\n\\n\\n\\n\\n\\n\\n\\n\\n\\n\\n\\n\\n\\n\\n\\n\\n\\n\\n\\n\\n                     Students\\n                     \\n\\n\\n\\n\\n\\n\\n\\n\\n\\n\\n\\n\\n\\n\\n\\n\\n\\n\\n\\n\\n\\n\\n\\n\\n\\n\\n\\n                        Admissions Requirements\\n                       \\n\\n\\n\\n\\n\\n\\n\\n\\n\\n\\n\\n\\n\\n\\n\\n\\n\\n\\n\\n\\n                        Degree Programs\\n                       \\n\\n\\n\\n\\n\\n\\n\\n\\n\\n\\n\\n\\n\\n\\n\\n\\n\\n\\n\\n\\n                        Student & Faculty Portal\\n                       \\n\\n\\n\\n\\n\\n\\n\\n\\n\\n\\n\\n\\n\\n\\n\\n\\n\\n\\n\\n\\n\\n\\n\\n\\n\\n\\n\\n\\n\\n\\n\\n\\n\\n\\n\\n\\n\\n\\n\\n\\n\\n\\n\\n                     Students\\n                     \\n\\n\\n\\n\\n\\n\\n\\n\\n\\n\\n\\n\\n\\n\\n\\n\\n\\n\\n\\n\\n\\n\\n\\n\\n\\n\\n\\n                        Degree Programs\\n                       \\n\\n\\n\\n\\n\\n\\n\\n\\n\\n\\n\\n\\n\\n\\n\\n\\n\\n\\n\\n\\n                        Admissions Requirements\\n                       \\n\\n\\n\\n\\n\\n\\n\\n\\n\\n\\n\\n\\n\\n\\n\\n\\n\\n\\n\\n\\n                        Student & Faculty Portal\\n                       \\n\\n\\n\\n\\n\\n\\n\\n\\n\\n\\n\\n\\n\\n\\n\\n\\n\\n\\n\\n\\n\\n\\n\\n\\n\\n\\n\\n\\n\\n\\n\\n\\n\\n                     Researchers\\n                     \\n\\n\\n\\n\\n\\n\\n\\n\\n\\n\\n\\n\\n\\n\\n\\n\\n\\n\\n\\n\\n\\n\\n\\n\\n\\n\\n\\n                        Research Faculty\\n                       \\n\\n\\n\\n\\n\\n\\n\\n\\n\\n\\n\\n\\n\\n\\n\\n\\n\\n\\n\\n\\n                        Laboratories\\n                       \\n\\n\\n\\n\\n\\n\\n\\n\\n\\n\\n\\n\\n\\n\\n\\n\\n\\n\\n\\n\\n\\n\\n\\n\\n\\n\\n\\n\\n\\n\\n\\n\\n\\n                     International\\n                     \\n\\n                      Patients\\n                      \\n\\n\\n\\n\\n\\n\\n\\n\\n\\n\\n\\n\\n\\n\\n\\n\\n\\n\\n\\n\\n\\n\\n\\n\\n\\n\\n                        Appointments\\n                       \\n\\n\\n\\n\\n\\n\\n\\n\\n\\n\\n\\n\\n\\n\\n\\n\\n\\n\\n\\n\\n                        Financial Services\\n                       \\n\\n\\n\\n\\n\\n\\n\\n\\n\\n\\n\\n\\n\\n\\n\\n\\n\\n\\n\\n\\n                        International Locations & Offices\\n                       \\n\\n\\n\\n\\n\\n\\n\\n\\n\\n\\n\\n\\n\\n\\n\\n\\n\\n\\n\\n\\n\\n\\n\\n\\n\\n\\n\\n\\n\\n\\n\\n\\n\\n                     Charitable Care & Financial\\n                     \\n\\n                      Assistance\\n                      \\n\\n\\n\\n\\n\\n\\n\\n\\n\\n\\n\\n\\n\\n\\n\\n\\n\\n\\n\\n\\n\\n                      Community Health Needs Assessment\\n                     \\n\\n\\n\\n\\n\\n\\n\\n\\n\\n\\n\\n\\n\\n\\n\\n\\n\\n\\n\\n\\n\\n\\n\\n\\n\\n                        Financial Assistance Documents â€“ Arizona\\n                       \\n\\n\\n\\n\\n\\n\\n\\n\\n\\n\\n\\n\\n\\n\\n\\n\\n\\n\\n\\n\\n                        Financial Assistance Documents â€“ Florida\\n                       \\n\\n\\n\\n\\n\\n\\n\\n\\n\\n\\n\\n\\n\\n\\n\\n\\n\\n\\n\\n\\n                        Financial Assistance Documents â€“ Minnesota\\n                       \\n\\n\\n\\n\\n\\n\\n\\n\\n\\n\\n\\n\\n\\n\\n\\n\\n\\n\\n\\n\\n\\n\\n\\n\\n\\n\\n\\n\\n\\n\\n\\n\\n\\n\\n\\n\\n\\n\\n\\n\\n\\n\\n\\n\\n\\n                  Follow Mayo Clinic\\n                 \\n\\n\\n\\n\\n\\n\\n\\n\\n\\n\\n\\n\\n\\n\\n\\n\\n\\n\\n\\n\\n\\n                        X\\n                       \\n\\n\\n\\n\\n\\n\\n\\n\\n\\n\\n\\n\\n\\n\\n\\n\\n\\n\\n\\n\\n\\n\\n\\n\\n\\n\\n                        Youtube\\n                       \\n\\n\\n\\n\\n\\n\\n\\n\\n\\n\\n\\n\\n\\n\\n\\n\\n\\n\\n\\n\\n\\n\\n\\n\\n\\n\\n                        Facebook\\n                       \\n\\n\\n\\n\\n\\n\\n\\n\\n\\n\\n\\n\\n\\n\\n\\n\\n\\n\\n\\n\\n\\n\\n\\n\\n\\n\\n                        Linkedin\\n                       \\n\\n\\n\\n\\n\\n\\n\\n\\n\\n\\n\\n\\n\\n\\n\\n\\n\\n\\n\\n\\n\\n\\n\\n\\n\\n\\n\\n\\n\\n\\n                        Instagram\\n                       \\n\\n\\n\\n\\n\\n\\n\\n\\n\\n\\n\\n\\n\\n\\n\\n\\n\\n\\n\\n\\n\\n\\n\\n\\n\\n\\n\\n\\n\\n\\n\\n\\n\\n\\n\\n\\n\\n\\n\\n\\n                  Get the Mayo Clinic app\\n                 \\n\\n\\n\\n\\n\\n\\n\\n\\n\\n\\n\\n\\n\\n\\n\\n\\n\\n\\n\\n\\n\\n\\n\\n\\n\\n\\n\\n\\n\\n\\n\\n\\n\\n\\n\\n\\n\\n\\n\\n\\n\\n\\n\\n\\n\\n\\n\\n\\n\\n\\n\\n\\n\\n\\n\\n\\n\\n\\n\\n\\n\\n\\n\\n\\n\\n\\n\\n\\n\\n\\n\\n\\n\\n\\n\\n\\n\\n\\n\\n\\n\\n\\n\\n\\n\\n\\n                       Terms & Conditions\\n                      \\n\\n\\n\\n\\n\\n\\n\\n\\n\\n\\n\\n\\n\\n\\n\\n\\n\\n\\n\\n\\n                       Privacy Policy\\n                      \\n\\n\\n\\n\\n\\n\\n\\n\\n\\n\\n\\n\\n\\n\\n\\n\\n\\n\\n\\n\\n                       Notice of Privacy Practices\\n                      \\n\\n\\n\\n\\n\\n\\n\\n\\n\\n\\n\\n\\n\\n\\n\\n\\n\\n\\n\\n\\n                       Notice of Nondiscrimination\\n                      \\n\\n\\n\\n\\n\\n\\n\\n\\n\\n\\n\\n\\n\\n\\n\\n\\n\\n\\n\\n\\n                       Accessibility Statement\\n                      \\n\\n\\n\\n\\n\\n\\n\\n\\n\\n\\n\\n\\n\\n\\n\\n\\n\\n\\n\\n\\n                       Advertising & Sponsorship Policy\\n                      \\n\\n\\n\\n\\n\\n\\n\\n\\n\\n\\n\\n\\n\\n\\n\\n\\n\\n\\n\\n\\n                       Site Map\\n                      \\n\\n\\n\\n\\n\\n\\n\\n\\n\\n\\n\\n\\n\\n\\n\\n\\n\\n\\n\\n\\n                       Manage Cookies\\n                      \\n\\n\\n\\n\\n\\n\\n\\n\\n\\n\\n\\n\\n\\n\\n\\n\\n\\n\\n\\n\\n\\n\\n\\n\\n\\n\\n\\n\\n\\n\\n                       Terms and Conditions\\n                      \\n\\n\\n\\n\\n\\n\\n\\n\\n\\n\\n\\n\\n\\n\\n\\n\\n\\n\\n\\n\\n                       Privacy Policy\\n                      \\n\\n\\n\\n\\n\\n\\n\\n\\n\\n\\n\\n\\n\\n\\n\\n\\n\\n\\n\\n\\n                       Notice of Privacy Practices\\n                      \\n\\n\\n\\n\\n\\n\\n\\n\\n\\n\\n\\n\\n\\n\\n\\n\\n\\n\\n\\n\\n                       Notice of Nondiscrimination\\n                      \\n\\n\\n\\n\\n\\n\\n\\n\\n\\n\\n\\n\\n\\n\\n\\n\\n\\n\\n\\n\\n                       Accessibility Statement\\n                      \\n\\n\\n\\n\\n\\n\\n\\n\\n\\n\\n\\n\\n\\n\\n\\n\\n\\n\\n\\n\\n                       Advertising and Sponsorship Policy\\n                      \\n\\n\\n\\n\\n\\n\\n\\n\\n\\n\\n\\n\\n\\n\\n\\n\\n\\n\\n\\n\\n                       Site Map\\n                      \\n\\n\\n\\n\\n\\n\\n\\n\\n\\n\\n\\n\\n\\n\\n\\n\\n\\n\\n\\n\\n                       Manage Cookies\\n                      \\n\\n\\n\\n\\n\\n\\n\\n\\n\\n\\n\\n\\n\\n\\n\\n\\n\\n\\n\\n\\n\\n\\n\\n\\n\\n\\n\\n\\n\\n\\n\\n\\n\\n\\n\\n\\n\\n\\n\\n\\n\\n\\n\\n\\n\\n\\n\\n                 Language:\\n                \\n\\n\\n\\n                   English\\n                  \\n\\n\\n\\n\\n\\n\\n\\n\\n\\n\\n\\n\\n\\n\\n\\n\\n\\n\\n                         English\\n                        \\n\\n\\n\\n\\n\\n\\n\\n\\n\\n\\n\\n\\n\\n\\n\\n\\n\\n\\n\\n\\n                         EspaÃ±ol\\n                        \\n\\n\\n\\n\\n\\n\\n\\n\\n\\n\\n\\n\\n\\n\\n\\n\\n\\n\\n\\n\\n                         Ø§Ù„Ø¹Ø±Ø¨ÙŠØ©\\n                        \\n\\n\\n\\n\\n\\n\\n\\n\\n\\n\\n\\n\\n\\n\\n\\n\\n\\n\\n\\n\\n                         ç®€ä½“ä¸\\xadæ–‡\\n                        \\n\\n\\n\\n\\n\\n\\n\\n\\n\\n\\n\\n\\n\\n\\n\\n\\n\\n\\n\\n\\n\\n\\n\\n                 Â© 1998-2024 Mayo Foundation for Medical Education and Research (MFMER). All rights reserved.\\n                \\n\\n\\n\\n\\n\\n\\n\\n                 Language:\\n                \\n\\n\\n\\n                   English\\n                  \\n\\n\\n\\n\\n\\n\\n\\n\\n\\n\\n\\n\\n\\n\\n\\n\\n\\n\\n                         English\\n                        \\n\\n\\n\\n\\n\\n\\n\\n\\n\\n\\n\\n\\n\\n\\n\\n\\n\\n\\n\\n\\n                         EspaÃ±ol\\n                        \\n\\n\\n\\n\\n\\n\\n\\n\\n\\n\\n\\n\\n\\n\\n\\n\\n\\n\\n\\n\\n                         Ø§Ù„Ø¹Ø±Ø¨ÙŠØ©\\n                        \\n\\n\\n\\n\\n\\n\\n\\n\\n\\n\\n\\n\\n\\n\\n\\n\\n\\n\\n\\n\\n                         ç®€ä½“ä¸\\xadæ–‡\\n                        \\n\\n\\n\\n\\n\\n\\n\\n\\n\\n\\n\\n\\n\\n\\n\\n\\n\\n\\n\\n\\n\\n\\n\\n\\n\\n\\n\\n\\n\\n\\n\\n\\n\\n\\n\\n\\n\\n\\n\\n\\n\\n\\n\\n\\n\\n\\n\\n\\n\\n\\n\\n\\n\\n\\n    Mayo Clinic Privacy Policy\\n   \\n\\n    Mayo Clinic and our partners use technologies such as cookies to collect information from your browser to deliver relevant advertising on our site, in emails and across the Internet, personalize content and perform site analytics. Please visit our\\n    \\n     Privacy Policy\\n    \\n    for more information about our use of data and your rights.\\n   \\n\\n\\n     Click here to update your preferences\\n    \\n\\n\\n\\n     I Agree\\n    \\n\\n\\n\\n\\n    x\\n   \\n\\n    Customize Cookie Settings\\n   \\n\\n\\n\\n      Trusted\\n     \\n\\n      These technologies are used in operating the site, including remembering your preferences, ensuring security and providing certain features. They do not track your activity online.\\n     \\n\\n\\n\\n\\n\\n\\n\\n\\n      Website Analytics\\n     \\n\\n      These technologies collect information to help us understand how our websites are being used and to make improvements.\\n     \\n\\n\\n\\n\\n\\n\\n\\n\\n      Advertising\\n     \\n\\n      These technologies are used to make advertising messages more relevant to you. They perform functions like preventing the same ad from continuously reappearing, ensuring that ads are properly displayed for advertisers and selecting advertisements that are based on your interests.\\n     \\n\\n\\n\\n\\n     Save\\n    \\n\\n\\n\\n\\n\\n\\n\\n\\n\\n\\n\\n\\n\", metadata={'source': 'C:\\\\Users\\\\Barani\\\\Desktop\\\\local_ollama\\\\test\\\\test_1.html', 'title': '\\n   Addresses and phone numbers - About Us - Mayo Clinic\\n  '})]"
      ]
     },
     "execution_count": 9,
     "metadata": {},
     "output_type": "execute_result"
    }
   ],
   "source": [
    "loader = BSHTMLLoader(directory, bs_kwargs={\"features\": \"html.parser\"})\n",
    "data = loader.load()\n",
    "data"
   ]
  },
  {
   "cell_type": "code",
   "execution_count": 40,
   "metadata": {},
   "outputs": [],
   "source": [
    "text_splitter = CharacterTextSplitter.from_tiktoken_encoder(chunk_size=1000, chunk_overlap=100)\n",
    "\n",
    "doc_splits = text_splitter.split_documents(data)"
   ]
  },
  {
   "cell_type": "code",
   "execution_count": 41,
   "metadata": {},
   "outputs": [
    {
     "name": "stdout",
     "output_type": "stream",
     "text": [
      "23\n"
     ]
    }
   ],
   "source": [
    "print(len(doc_splits))"
   ]
  },
  {
   "cell_type": "code",
   "execution_count": 42,
   "metadata": {},
   "outputs": [],
   "source": [
    "vectorstore = Chroma.from_documents(\n",
    "            documents=doc_splits,\n",
    "            collection_name=\"rag-chroma\",\n",
    "            embedding=embeddings.ollama.OllamaEmbeddings(model='nomic-embed-text'),\n",
    "        )\n",
    "retriever = vectorstore.as_retriever()"
   ]
  },
  {
   "cell_type": "code",
   "execution_count": 43,
   "metadata": {},
   "outputs": [],
   "source": [
    "class format_json(BaseModel):\n",
    "    organization_name : str = Field(description=\"organization name from the given context\")\n",
    "    address: str = Field(description=\"address from the given context\")\n",
    "    email_address: str = Field(description=\"email address from the given context\")\n",
    "    contact_number: str = Field(description=\"contact number from the given context\")"
   ]
  },
  {
   "cell_type": "code",
   "execution_count": 58,
   "metadata": {},
   "outputs": [],
   "source": [
    "after_rag_template = \"\"\"Answer the question based only on the following context:\n",
    "        {context} and only provide these details in this order only and the response will always will be containing these informations only such as organization_name,address,contact_number,email_address in a json format and make sure that each entitly you providing make sense i mean the context of each entity has to be checked\n",
    "        {format_instructions}\n",
    "        Question: {question}\n",
    "        \"\"\"\n",
    "parser = JsonOutputParser(pydantic_object=format_json)\n",
    "after_rag_prompt = ChatPromptTemplate.from_template(after_rag_template,partial_variables={\"format_instructions\": parser.get_format_instructions()},)\n",
    "after_rag_chain = (\n",
    "            {\"context\": retriever, \"question\": RunnablePassthrough()}\n",
    "            | after_rag_prompt\n",
    "            | model_local\n",
    "            | parser\n",
    "        )"
   ]
  },
  {
   "cell_type": "code",
   "execution_count": 59,
   "metadata": {},
   "outputs": [],
   "source": [
    "json_output = after_rag_chain.invoke(\"provide the organization_name,address,email_address,contact_number from the context and make sure you providing them from the given context\")"
   ]
  },
  {
   "cell_type": "code",
   "execution_count": 48,
   "metadata": {},
   "outputs": [
    {
     "data": {
      "text/plain": [
       "{'organization_name': 'Mayo Clinic',\n",
       " 'address': 'Mayo Clinic Hospital, Methodist Campus\\n201 W. Center St.\\nRochester, MN 55902',\n",
       " 'email_address': '844-544-0036 (toll-free)',\n",
       " 'contact_number': '507-255-5123'}"
      ]
     },
     "execution_count": 48,
     "metadata": {},
     "output_type": "execute_result"
    }
   ],
   "source": [
    "json_output"
   ]
  },
  {
   "cell_type": "code",
   "execution_count": 54,
   "metadata": {},
   "outputs": [],
   "source": [
    "dff = pd.json_normalize(json_output)"
   ]
  },
  {
   "cell_type": "code",
   "execution_count": 55,
   "metadata": {},
   "outputs": [
    {
     "data": {
      "text/html": [
       "<div>\n",
       "<style scoped>\n",
       "    .dataframe tbody tr th:only-of-type {\n",
       "        vertical-align: middle;\n",
       "    }\n",
       "\n",
       "    .dataframe tbody tr th {\n",
       "        vertical-align: top;\n",
       "    }\n",
       "\n",
       "    .dataframe thead th {\n",
       "        text-align: right;\n",
       "    }\n",
       "</style>\n",
       "<table border=\"1\" class=\"dataframe\">\n",
       "  <thead>\n",
       "    <tr style=\"text-align: right;\">\n",
       "      <th></th>\n",
       "      <th>organization_name</th>\n",
       "      <th>address</th>\n",
       "      <th>email_address</th>\n",
       "      <th>contact_number</th>\n",
       "    </tr>\n",
       "  </thead>\n",
       "  <tbody>\n",
       "    <tr>\n",
       "      <th>0</th>\n",
       "      <td>Mayo Clinic</td>\n",
       "      <td>Mayo Clinic Hospital, Methodist Campus\\n201 W. Center St.\\nRochester, MN 55902</td>\n",
       "      <td>844-544-0036 (toll-free)</td>\n",
       "      <td>507-255-5123</td>\n",
       "    </tr>\n",
       "  </tbody>\n",
       "</table>\n",
       "</div>"
      ],
      "text/plain": [
       "  organization_name  \\\n",
       "0       Mayo Clinic   \n",
       "\n",
       "                                                                          address  \\\n",
       "0  Mayo Clinic Hospital, Methodist Campus\\n201 W. Center St.\\nRochester, MN 55902   \n",
       "\n",
       "              email_address contact_number  \n",
       "0  844-544-0036 (toll-free)   507-255-5123  "
      ]
     },
     "execution_count": 55,
     "metadata": {},
     "output_type": "execute_result"
    }
   ],
   "source": [
    "dff"
   ]
  },
  {
   "cell_type": "code",
   "execution_count": 56,
   "metadata": {},
   "outputs": [],
   "source": [
    "df = pd.concat([df, dff], ignore_index=True)"
   ]
  },
  {
   "cell_type": "code",
   "execution_count": 57,
   "metadata": {},
   "outputs": [
    {
     "data": {
      "text/html": [
       "<div>\n",
       "<style scoped>\n",
       "    .dataframe tbody tr th:only-of-type {\n",
       "        vertical-align: middle;\n",
       "    }\n",
       "\n",
       "    .dataframe tbody tr th {\n",
       "        vertical-align: top;\n",
       "    }\n",
       "\n",
       "    .dataframe thead th {\n",
       "        text-align: right;\n",
       "    }\n",
       "</style>\n",
       "<table border=\"1\" class=\"dataframe\">\n",
       "  <thead>\n",
       "    <tr style=\"text-align: right;\">\n",
       "      <th></th>\n",
       "      <th>organization_name</th>\n",
       "      <th>address</th>\n",
       "      <th>email_address</th>\n",
       "      <th>contact_number</th>\n",
       "    </tr>\n",
       "  </thead>\n",
       "  <tbody>\n",
       "    <tr>\n",
       "      <th>0</th>\n",
       "      <td>Mayo Clinic</td>\n",
       "      <td>Mayo Clinic Hospital, Methodist Campus\\n201 W. Center St.\\nRochester, MN 55902</td>\n",
       "      <td>844-544-0036 (toll-free)</td>\n",
       "      <td>507-255-5123</td>\n",
       "    </tr>\n",
       "  </tbody>\n",
       "</table>\n",
       "</div>"
      ],
      "text/plain": [
       "  organization_name  \\\n",
       "0       Mayo Clinic   \n",
       "\n",
       "                                                                          address  \\\n",
       "0  Mayo Clinic Hospital, Methodist Campus\\n201 W. Center St.\\nRochester, MN 55902   \n",
       "\n",
       "              email_address contact_number  \n",
       "0  844-544-0036 (toll-free)   507-255-5123  "
      ]
     },
     "execution_count": 57,
     "metadata": {},
     "output_type": "execute_result"
    }
   ],
   "source": [
    "df"
   ]
  },
  {
   "cell_type": "code",
   "execution_count": 9,
   "metadata": {},
   "outputs": [
    {
     "name": "stdout",
     "output_type": "stream",
     "text": [
      "page_content=\"American Cancer Society cancer.org | 1.800.227.2345 ____________________________________________________________________________________\\ntimes, there is no obvious cause.\\nWhat is the cancer stage?\\xa0\\xa0\\nWhen a cancer is found, tests are done to see how big the cancer is and whether it has\\nspread from where it started. This is called the cancer's stage2.\\nA lower stage (such as a stage 1 or 2) means that the cancer has not spread very\\nmuch. A higher number (such as a stage 3 or 4) means it has spread more. Stage 4 is\\nthe highest stage.\\nThe stage of the cancer is very important in choosing the best treatment for a person.\\nAsk your doctor about your cancer's stage and what it means for you.\\nHow does cancer spread?\\xa0\\xa0\\nCancer can spread from where it started (the primary site) to other parts of the body.\\nWhen cancer cells break away from a tumor, they can travel to other areas of the body\\nthrough either the bloodstream or the lymph system. Cancer cells that travel through the\\nbloodstream may to reach distant organs. If they travel through the lymph system, the\\ncancer cells may end up in lymph nodes. Either way, most of the escaped cancer cells\\ndie or are killed before they can start growing somewhere else. But one or two might\\nsettle in a new area, begin to grow, and form new tumors. This spread of cancer to a\\nnew part of the body is called\\xa0metastasis.\\nCells that make up a metastasis are the same type of cells as in the primary cancer.\\nThey are not a new type of cancer. For instance, breast cancer cells that spread to the\\nlungs are still breast cancer and NOT lung cancer. And colon cancer cells that spread to\\nthe liver are still colon cancer.\\nIn order for cancer cells to spread to new parts of the body, they have to go through\\nseveral changes. They first have to become able to break away from the original tumor\\nand then attach to the outside wall of a lymph vessel or blood vessel. Then they must\\nmove through the vessel wall to flow with the blood or lymph to a new organ or lymph\\nnode.\\nHyperlinks\\n3\" metadata={'source': 'C:\\\\Users\\\\Barani\\\\Desktop\\\\local_ollama\\\\pdfs\\\\ACC_Data_merged.pdf', 'page': 2}\n"
     ]
    }
   ],
   "source": [
    "from langchain_community.document_loaders import WebBaseLoader\n",
    "from langchain_community.document_loaders import PyPDFLoader\n",
    "from langchain_community.vectorstores import Chroma\n",
    "from langchain_community import embeddings\n",
    "from langchain_community.embeddings import GPT4AllEmbeddings\n",
    "from langchain_community.chat_models import ChatOllama\n",
    "from langchain_core.runnables import RunnablePassthrough\n",
    "from langchain_core.output_parsers import StrOutputParser\n",
    "from langchain_core.prompts import ChatPromptTemplate\n",
    "from langchain_core.prompts import PromptTemplate\n",
    "\n",
    "from langchain.output_parsers import PydanticOutputParser\n",
    "from langchain.text_splitter import CharacterTextSplitter\n",
    "from langchain_community.document_loaders import BSHTMLLoader\n",
    "from langchain.callbacks.streaming_stdout import StreamingStdOutCallbackHandler\n",
    "\n",
    "model_local = ChatOllama(model=\"mistral\",temperature=0)\n",
    "\n",
    "from langchain_community.document_loaders import PyPDFLoader\n",
    "\n",
    "loader = PyPDFLoader(\"C:\\\\Users\\\\Barani\\\\Desktop\\\\local_ollama\\\\pdfs\\\\ACC_Data_merged.pdf\")\n",
    "pages = loader.load()\n",
    "\n",
    "text_splitter = CharacterTextSplitter.from_tiktoken_encoder(chunk_size=2000, chunk_overlap=200)\n",
    "doc_splits = text_splitter.split_documents(pages)\n",
    "print(doc_splits[2])"
   ]
  },
  {
   "cell_type": "code",
   "execution_count": 7,
   "metadata": {},
   "outputs": [
    {
     "data": {
      "text/plain": [
       "168"
      ]
     },
     "execution_count": 7,
     "metadata": {},
     "output_type": "execute_result"
    }
   ],
   "source": [
    "len(pages)"
   ]
  },
  {
   "cell_type": "code",
   "execution_count": 8,
   "metadata": {},
   "outputs": [
    {
     "data": {
      "text/plain": [
       "168"
      ]
     },
     "execution_count": 8,
     "metadata": {},
     "output_type": "execute_result"
    }
   ],
   "source": [
    "len(doc_splits)"
   ]
  },
  {
   "cell_type": "code",
   "execution_count": null,
   "metadata": {},
   "outputs": [],
   "source": []
  }
 ],
 "metadata": {
  "kernelspec": {
   "display_name": "ollama_2",
   "language": "python",
   "name": "python3"
  },
  "language_info": {
   "codemirror_mode": {
    "name": "ipython",
    "version": 3
   },
   "file_extension": ".py",
   "mimetype": "text/x-python",
   "name": "python",
   "nbconvert_exporter": "python",
   "pygments_lexer": "ipython3",
   "version": "3.11.5"
  }
 },
 "nbformat": 4,
 "nbformat_minor": 2
}
