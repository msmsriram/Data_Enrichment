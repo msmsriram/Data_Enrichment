{
 "cells": [
  {
   "cell_type": "code",
   "execution_count": 1,
   "metadata": {},
   "outputs": [],
   "source": [
    "import pandas as pd\n",
    "from langchain_community.document_loaders import WebBaseLoader\n",
    "from langchain_community.document_loaders import PyPDFLoader\n",
    "from langchain_community.vectorstores import Chroma\n",
    "from langchain_community import embeddings\n",
    "from langchain_community.chat_models import ChatOllama\n",
    "from langchain_core.runnables import RunnablePassthrough\n",
    "from langchain_core.output_parsers import StrOutputParser\n",
    "from langchain_core.prompts import ChatPromptTemplate\n",
    "from langchain.output_parsers import PydanticOutputParser\n",
    "from langchain.text_splitter import CharacterTextSplitter\n",
    "from langchain_community.document_loaders import BSHTMLLoader\n",
    "from langchain_core.output_parsers import JsonOutputParser\n",
    "from langchain_core.pydantic_v1 import BaseModel, Field\n",
    "from langchain_community.vectorstores import FAISS"
   ]
  },
  {
   "cell_type": "code",
   "execution_count": 2,
   "metadata": {},
   "outputs": [],
   "source": [
    "model_local = ChatOllama(model=\"mistral\",temperature=0)"
   ]
  },
  {
   "cell_type": "code",
   "execution_count": 3,
   "metadata": {},
   "outputs": [],
   "source": [
    "df = pd.DataFrame(columns=[\"address\", \"email_address\", \"contact_number\"])"
   ]
  },
  {
   "cell_type": "code",
   "execution_count": 18,
   "metadata": {},
   "outputs": [],
   "source": [
    "directory = \"C:\\\\Users\\\\Barani\\\\Desktop\\\\local_ollama\\\\llm_testing_urls\\\\aiims.html\""
   ]
  },
  {
   "cell_type": "code",
   "execution_count": 19,
   "metadata": {},
   "outputs": [
    {
     "data": {
      "text/plain": [
       "[Document(page_content=\"\\n\\n\\nAIIMS - All India Institute Of Medical Science\\n\\n\\n\\n\\n\\n\\n\\n\\n\\n\\n\\n\\n\\n\\n\\n\\n\\n\\n\\n\\n\\n\\n\\n\\n\\n\\n\\n\\n\\n\\n\\n\\n\\n\\n\\n\\n\\n\\n\\n\\n\\n\\n\\n\\n\\n\\n\\n\\n\\n\\n\\n\\n\\n\\n\\n\\n\\n\\n\\n\\n\\n\\n\\n\\n\\n\\n\\n\\n\\nDefault Theme\\n\\n \\n\\n\\n\\n\\n\\n\\n\\n\\n\\n\\n\\n\\n\\n\\n\\nIntranet Access\\n@gsuite.aiims.edu\\nSkip to main\\n\\n\\n\\n\\n\\n\\n\\n\\n\\n\\n\\n\\n\\n\\n\\n\\n\\nScreen Reader Access\\nहिन्दी\\n\\n\\n\\n\\n\\n\\n\\n\\n\\n\\n\\n\\n\\n\\n\\n\\n\\n\\n\\n\\n\\n\\n\\n\\n\\n\\n\\n\\n\\n\\n\\n\\n\\n\\n\\n\\n\\n\\n\\n\\n\\n\\n\\n\\n\\n\\n  \\n\\n\\n\\n\\nअखिल भारतीय आयुर्विज्ञान संस्थान, नई दिल्ली All India Institute Of Medical Sciences, New Delhi\\n\\n\\n\\n\\nOPD Appointment\\nAIIMS Dashboard\\xa0\\nORBO Donor Pledge Form\\n48th Convocation 2023--- Photos\\xa0\\n\\xa0\\n\\xa0\\n\\n\\n \\n\\n\\n\\n\\n\\n\\n\\n\\n\\n\\n\\n\\n\\n\\nHomeAbout UsIntroductionAbout AIIMSAIIMS Act, Rules & RegulationsAIIMS BillTeachingResearchResearch Output of AIIMSPatient CareDirectorCurrent DirectorFirst DirectorEx-DirectorsManagementOrganisational StructureAdministrationInstitute Body (IB)Governing Body (GB)Finance CommitteeAcademic CommitteeSelection CommitteeEstate CommitteeHospital Affairs CommitteeOthers CommitteeInstitutional Biosafety CommitteeAnnual ReportsMinutes of MeetingAIIMS Online DonationAIIMS DocumentaryDepartments & CentersSpecialty CentersDepartmentsCentral FacilitiesTendersAIIMS TendersAward LetterE-Tendering At AIIMSTender ArchiveShort Rate /Limited EnquiryProprietary TenderGlobal/ Open TenderAppointmentsOnline OPD AppointmentCall Centre DetailsCardiac Emergency -Ph. 14430 Mission DelhiNPICResearchResearch Output of AIIMSResearch Section websiteResearch SubmissionIntellectual Property Rights and Technology Transfer DivisionClinical Research Unit (CRU)Ethics Committee RegistrationCARE -(Centre for Advanced Research & Excellence in Neuromodulation)LibrarySingle Point SearchEventsConference & WorkshopsCurrent  EventsArchive EventsPast EventsConference & Workshops ArchivePublic LectureInstitute Day 2023NoticesNoticesGazette NotificationRecruitmentAIIMS RecruitmentRecruitment  ResultArchive RecruitmentResident's CornerAcademic SectionNIRFAttendance DashboardReservation Roaster\\n\\n\\nMenuMain Menu\\nHomeAbout UscollapseIntroductionAbout AIIMScollapseAIIMS Act, Rules & RegulationsAIIMS BillTeachingResearchcollapseResearch Output of AIIMSPatient CareDirectorcollapseCurrent DirectorFirst DirectorEx-DirectorsManagementcollapseOrganisational StructureAdministrationInstitute Body (IB)Governing Body (GB)Finance CommitteeAcademic CommitteeSelection CommitteeEstate CommitteeHospital Affairs CommitteeOthers CommitteeInstitutional Biosafety CommitteeAnnual ReportsMinutes of MeetingAIIMS Online DonationAIIMS DocumentaryDepartments & CenterscollapseSpecialty CentersDepartmentsCentral FacilitiesTenderscollapseAIIMS TendersAward LetterE-Tendering At AIIMSTender ArchivecollapseShort Rate /Limited EnquiryProprietary TenderGlobal/ Open TenderAppointmentscollapseOnline OPD AppointmentCall Centre DetailsCardiac Emergency -Ph. 14430 Mission DelhiNPICResearchcollapseResearch Output of AIIMSResearch Section websiteResearch SubmissionIntellectual Property Rights and Technology Transfer DivisionClinical Research Unit (CRU)Ethics Committee RegistrationCARE -(Centre for Advanced Research & Excellence in Neuromodulation)LibrarycollapseSingle Point SearchEventscollapseConference & WorkshopsCurrent  EventsArchive EventscollapsePast EventsConference & Workshops ArchivePublic LectureInstitute Day 2023NoticescollapseNoticesGazette NotificationRecruitmentcollapseAIIMS RecruitmentRecruitment  ResultArchive RecruitmentResident's CornerAcademic SectionNIRFAttendance DashboardReservation Roaster\\n\\n\\n\\n\\n\\n\\n\\n\\n\\n\\n\\n\\n\\n\\n\\n\\n\\n\\n\\n\\n\\n\\n\\n\\n\\n\\n\\n\\n\\n\\n\\n\\n\\n\\n\\n\\n\\n\\n\\n\\n\\n\\n\\n\\n\\n\\n\\n\\n\\n\\n\\n \\nFaculty\\n\\n\\n\\n\\n\\n\\n\\n\\n\\n\\n\\n\\n\\n\\n \\nPatient\\n\\n\\n\\n\\n\\n\\n\\n\\n\\n\\n\\n\\n\\n\\n \\nStudent\\n\\n\\n\\n\\n\\n\\n\\n\\n\\n\\n\\n\\n\\n\\n \\nEmployee\\n\\n\\n\\n\\n\\n\\n\\n\\n\\n\\n\\n\\n\\n\\n \\nVendor\\n\\n\\n\\n\\n\\n\\n\\n\\n\\n\\n\\n\\n\\n\\n \\nVisitor\\n\\n\\n\\n\\n\\n\\n\\n\\n\\n\\n\\n\\n\\n\\n\\n\\n\\n\\n\\n\\n\\nMinister of Health and Family Welfare\\n\\n\\n\\n\\n\\n\\n\\xa0 \\xa0 \\xa0\\n\\n\\n\\n\\n\\xa0 \\xa0 \\xa0 \\xa0 \\xa0 \\xa0 \\xa0 \\xa0 \\xa0\\xa0\\n\\n\\n\\n\\n\\n\\xa0\\n\\xa0 \\xa0 \\xa0 \\xa0\\xa0\\n\\n\\n\\n\\n\\xa0\\nDr. Mansukh Mandaviya\\xa0 \\xa0 \\xa0 \\xa0 \\xa0 \\xa0 \\xa0 \\xa0 \\xa0 \\xa0 \\xa0 \\xa0 \\xa0 \\xa0 \\xa0 \\xa0\\xa0\\n\\xa0\\nMinister of Health and Family Welfare\\xa0\\n\\xa0\\n\\n\\n\\xa0Prof. S. P. Singh Baghel\\nHon'ble Minister of State\\n\\n\\n\\xa0\\nDr. Bharati Pravin Pawar\\xa0 \\xa0 \\xa0 \\xa0 \\xa0 \\xa0 \\xa0 \\xa0 \\xa0 \\xa0 \\xa0 \\xa0 \\xa0 \\xa0 \\xa0\\nHon'ble Minister of State\\n\\xa0\\n\\n\\n\\n\\xa0\\n\\xa0\\n\\n\\n\\n\\nDirector AIIMS\\n\\xa0 \\xa0 \\xa0 \\xa0 \\xa0 \\xa0 \\xa0 \\xa0 \\xa0 \\xa0 \\xa0 \\xa0 \\xa0 \\xa0 \\xa0 \\xa0 \\xa0 \\xa0 \\xa0Dr. M Srinivas\\xa0\\n\\n\\n\\n\\n\\n\\n\\n\\n\\n\\n\\n\\n\\n\\n\\n\\n\\n\\n\\n\\n\\n\\n\\n\\n\\nWhat's New\\nINFORMATION RELATED TO COVID-19\\nPatient Care\\n\\n\\n\\n\\n\\n\\n\\n\\n\\xa0Telemedicine Practice Guidelines\\xa0Frequently Asked Question(FAQs) on Telemedicine Practice Guidelines\\xa0NABL Certification Microbiology\\xa0Mobile App for AIIMS Antibiotic Policy\\xa0Online Application for Newly Joined Postgraduates\\xa0Online Application for Undergraduates\\xa0Launch of the Healthy Smile APP\\xa0PRAKASHMAY Training\\xa0Centre for Advanced Research and Excellence in Neuromodulation ( CARE )\\xa0AIIMS INITIATIVE INTO NABL ACCREDITATION\\xa0AIIMS Swachhata Wall\\n\\n\\n\\n\\n\\n\\xa0Covid-19 in Children - Case based Interactive Session by AIIMS, New Delhi\\n\\xa0National Grand Rounds on COVID-19 on 27th January 2021(21/01/2021)\\n\\xa0National Grand Rounds on COVID-19 on 06th January 2021(02/01/2021)\\n\\n\\n\\n\\n\\n\\xa0Prevention of transmission of infection in a healthcare setting:for 2019-nCoV\\n\\xa0OPD Appointment Booking on Telephone : 011-26589142\\n\\xa0CONTROL ROOM-MSSO(Emergency) for information on availability of beds with ventilator in emergency on Telephone : 011-26596428\\n\\xa0Patient Portal\\n\\xa0Patient Appointment Dashboard\\n\\xa0National Poison Information Centre (24x7)\\n\\n\\n\\n\\n\\n\\n\\n\\n\\n\\n\\n\\n\\n\\n\\n\\n\\n\\n\\n\\n\\n\\n\\n\\n\\n\\nAIIMS Channel\\nLegacy of Excellence\\nNews\\nEHS\\n\\n\\n\\n\\n\\n\\n\\n\\n\\n\\n\\n\\n\\n\\n\\xa0Medical No.1, All India Institute of Medical Sciences, New Delhi\\n\\xa0The world's smallest and cheapest ventilator can help millions of patients\\n\\xa0Hoping against hope\\n\\xa0Best Medical Schools in the World for 2021\\n\\n\\n\\n\\n\\n\\n\\n\\xa0EHS \\nSelf Prescription Facility\\n\\n\\n\\xa0CGHS list of hospital and rates\\n\\n\\n\\xa0EHS Application HELP MANUAL\\n\\n\\n\\xa0EHS \\nCell\\n\\n\\n\\n\\n\\n\\n\\n\\n\\n\\n\\n\\n\\n\\n\\n\\n\\n\\n\\n\\n\\n\\n\\n\\n\\n\\n\\n\\n\\n\\n\\nGallery\\n\\n\\n\\n\\n\\n\\n\\n\\n\\n\\n\\nVintage Photos\\n\\n\\n\\n\\n\\n\\n\\n\\nAIIMS at a Glance\\n\\n\\n\\n\\n\\n\\n\\n\\nAIIMS Swachatta \\n\\n\\n\\n\\n\\n\\n\\n\\nInstitute Day\\n\\n\\n\\n\\n\\n\\n\\n\\nImportant Visits/Events\\n\\n\\n\\n\\n\\n\\n\\n\\nVintage Photos\\n\\n\\n\\n\\n\\n\\n\\n\\nAIIMS at a Glance\\n\\n\\n\\n\\n\\n\\n\\n\\nAIIMS Swachatta \\n\\n\\n\\n\\n\\n\\n\\n\\nInstitute Day\\n\\n\\n\\n\\n\\n\\n\\n\\nImportant Visits/Events\\n\\n\\n\\n\\n\\n\\n\\n\\nVintage Photos\\n\\n\\n\\n\\n\\n\\n\\n\\n\\n\\n\\n\\n\\n\\n\\n\\n\\n\\n\\n\\n\\n\\n\\n\\n\\n\\nContact Us\\n\\nAll India Institute of Medical Sciences\\nAnsari Nagar, New Delhi - 110029\\nBoard Number : +91-11-26588500 / 26588700\\nFax : +91-11-26588663 / 26588641\\n Important E-mail Addresses at AIIMS \\n\\n\\n\\n\\n\\n\\n\\n\\n\\n\\n\\nImportant Links\\n\\n\\nCitizen CharterAIIMS Online DonationAIIMS Offline DonationRight To Information Act 2005Proactive DisclosureMoHFWNGOs Associated with AIIMSMission DelhiMera AspataalHamara AIIMS \\n\\n\\n\\n\\n\\n\\n\\n\\n\\n\\n\\n\\n\\n\\n\\n\\n\\n\\n\\n\\n\\n\\nOther AIIMS\\n\\n\\nAIIMS BhubaneswarAIIMS JodhpurAIIMS PatnaAIIMS RaipurAIIMS RishikeshAIIMS BhopalAIIMS Kalyani \\n\\n\\n\\n\\n\\n\\n\\n\\n\\n\\n\\n\\n\\n\\n\\n\\n\\n \\xa0\\xa0\\n\\n\\n\\n\\n\\nCopyright ©  AIIMS, New Delhi,  All rights reserved. DisclaimerWebsite PolicyPrivacy Policy for Mobile Apps\\n\\n\\n\\n\\n\\n\\n\\n\\n\\n\\n\\n\\n\\n\\n\\n\\nZo2 Framework Settings\\n\\n\\nSelect one of sample color schemes\\n\\n \\nGoogle Font\\nMenu Font\\n\\n\\nDefault\\n Abel\\nAbril Fatface\\nAclonica\\nAcme\\nActor\\nAdamina\\nAguafina Script\\nAladin\\nAldrich\\nAlegreya\\nAlegreya SC\\nAlex Brush\\nAlfa Slab One\\nAlice\\nAlike\\nAlike Angular\\nAllan\\nAllerta\\nAllerta Stencil\\nAllura\\nAlmendra\\nAlmendra SC\\nAmaranth\\nAmatic SC\\nAmethysta\\nAndada\\nAndika\\nAnnie Use Your Telescope\\nAnonymous Pro\\nAntic\\nAnton\\nArapey\\nArbutus\\nArchitects Daughter\\nArimo\\nArizonia\\nArmata\\nArtifika\\nArvo\\nAsap\\nAsset\\nAstloch\\nAsul\\nAtomic Age\\nAubrey\\nBad Script\\nBalthazar\\nBangers\\nBasic\\nBaumans\\nBelgrano\\nBentham\\nBevan\\nBigshot One\\nBilbo\\nBilbo Swash Caps\\nBitter\\nBlack Ops One\\nBonbon\\nBoogaloo\\nBowlby One\\nBowlby One SC\\nBrawler\\nBree Serif\\nBubblegum Sans\\nBuda\\nBuenard\\nButcherman\\nButterfly Kids\\nCabin\\nCabin Condensed\\nCabin Sketch\\nCaesar Dressing\\nCagliostro\\nCalligraffitti\\nCambo\\nCandal\\nCantarell\\nCardo\\nCarme\\nCarter One\\nCaudex\\nCedarville Cursive\\nCeviche One\\nChanga One\\nChango\\nChelsea Market\\nCherry Cream Soda\\nChewy\\nChicle\\nChivo\\nCoda\\nCoda Caption\\nComfortaa\\nComing Soon\\nConcert One\\nCondiment\\nContrail One\\nConvergence\\nCookie\\nCopse\\nCorben\\nCousine\\nCoustard\\nCovered By Your Grace\\nCrafty Girls\\nCreepster\\nCrete Round\\nCrimson Text\\nCrushed\\nCuprum\\nDamion\\nDancing Script\\nDawning of a New Day\\nDays One\\nDelius\\nDelius Swash Caps\\nDelius Unicase\\nDevonshire\\nDidact Gothic\\nDiplomata\\nDiplomata SC\\nDorsa\\nDr Sugiyama\\nDroid Sans\\nDroid Sans Mono\\nDroid Serif\\nDuru Sans\\nDynalight\\nEB Garamond\\nEater\\nElectrolize\\nEmblema One\\nEngagement\\nEnriqueta\\nErica One\\nEsteban\\nEuphoria Script\\nEwert\\nExo\\nExpletus Sans\\nFanwood Text\\nFascinate\\nFascinate Inline\\nFederant\\nFedero\\nFelipa\\nFjord One\\nFlamenco\\nFlavors\\nFondamento\\nFontdiner Swanky\\nForum\\nFrancois One\\nFredericka the Great\\nFresca\\nFrijole\\nFugaz One\\nGaldeano\\nGentium Basic\\nGentium Book Basic\\nGeo\\nGeostar\\nGeostar Fill\\nGermania One\\nGive You Glory\\nGlegoo\\nGloria Hallelujah\\nGoblin One\\nGochi Hand\\nGoudy Bookletter 1911\\nGravitas One\\nGruppo\\nGudea\\nHabibi\\nHammersmith One\\nHandlee\\nHerr Von Muellerhoff\\nHoltwood One SC\\nHomemade Apple\\nHomenaje\\nIM Fell DW Pica\\nIM Fell DW Pica SC\\nIM Fell Double Pica\\nIM Fell Double Pica SC\\nIM Fell English\\nIM Fell English SC\\nIM Fell French Canon\\nIM Fell French Canon SC\\nIM Fell Great Primer\\nIM Fell Great Primer SC\\nIceberg\\nIceland\\nInconsolata\\nInder\\nIndie Flower\\nInika\\nIrish Grover\\nIstok Web\\nItalianno\\nJim Nightshade\\nJockey One\\nJosefin Sans\\nJosefin Slab\\nJudson\\nJulee\\nJunge\\nJura\\nJust Another Hand\\nJust Me Again Down Here\\nKameron\\nKaushan Script\\nKelly Slab\\nKenia\\nKnewave\\nKotta One\\nKranky\\nKreon\\nKristi\\nLa Belle Aurore\\nLancelot\\nLato\\nLeague Script\\nLeckerli One\\nLekton\\nLemon\\nLilita One\\nLimelight\\nLinden Hill\\nLobster\\nLobster Two\\nLora\\nLove Ya Like A Sister\\nLoved by the King\\nLuckiest Guy\\nLusitana\\nLustria\\nMacondo\\nMacondo Swash Caps\\nMagra\\nMaiden Orange\\nMako\\nMarck Script\\nMarko One\\nMarmelad\\nMarvel\\nMate\\nMate SC\\nMaven Pro\\nMeddon\\nMedievalSharp\\nMedula One\\nMegrim\\nMerienda One\\nMerriweather\\nMetamorphous\\nMetrophobic\\nMichroma\\nMiltonian\\nMiltonian Tattoo\\nMiniver\\nMiss Fajardose\\nModern Antiqua\\nMolengo\\nMonofett\\nMonoton\\nMonsieur La Doulaise\\nMontaga\\nMontez\\nMontserrat\\nMountains of Christmas\\nMr Bedfort\\nMr Dafoe\\nMr De Haviland\\nMrs Saint Delafield\\nMrs Sheppards\\nMuli\\nNeucha\\nNeuton\\nNews Cycle\\nNiconne\\nNixie One\\nNobile\\nNorican\\nNosifer\\nNothing You Could Do\\nNoticia Text\\nNova Cut\\nNova Flat\\nNova Mono\\nNova Oval\\nNova Round\\nNova Script\\nNova Slim\\nNova Square\\nNumans\\nNunito\\nOld Standard TT\\nOldenburg\\nOpen Sans\\nOpen Sans Condensed\\nOrbitron\\nOriginal Surfer\\nOswald\\nOver the Rainbow\\nOverlock\\nOverlock SC\\nOvo\\nPT Sans\\nPT Sans Caption\\nPT Sans Narrow\\nPT Serif\\nPT Serif Caption\\nPacifico\\nParisienne\\nPassero One\\nPassion One\\nPatrick Hand\\nPatua One\\nPaytone One\\nPermanent Marker\\nPetrona\\nPhilosopher\\nPiedra\\nPinyon Script\\nPlaster\\nPlay\\nPlayball\\nPlayfair Display\\nPodkova\\nPoller One\\nPoly\\nPompiere\\nPort Lligat Sans\\nPort Lligat Slab\\nPrata\\nPrincess Sofia\\nProciono\\nPuritan\\nQuantico\\nQuattrocento\\nQuattrocento Sans\\nQuestrial\\nQuicksand\\nQwigley\\nRadley\\nRaleway\\nRammetto One\\nRancho\\nRationale\\nRedressed\\nReenie Beanie\\nRibeye\\nRibeye Marrow\\nRighteous\\nRochester\\nRock Salt\\nRokkitt\\nRopa Sans\\nRosario\\nRouge Script\\nRuda\\nRuge Boogie\\nRuluko\\nRuslan Display\\nRuthie\\nSail\\nSalsa\\nSancreek\\nSansita One\\nSarina\\nSatisfy\\nSchoolbell\\nShadows Into Light\\nShanti\\nShare\\nShojumaru\\nShort Stack\\nSigmar One\\nSignika\\nSignika Negative\\nSirin Stencil\\nSix Caps\\nSlackey\\nSmokum\\nSmythe\\nSniglet\\nSnippet\\nSofia\\nSonsie One\\nSorts Mill Goudy\\nSpecial Elite\\nSpicy Rice\\nSpinnaker\\nSpirax\\nSquada One\\nStardos Stencil\\nStint Ultra Condensed\\nStint Ultra Expanded\\nStoke\\nSue Ellen Francisco\\nSunshiney\\nSupermercado One\\nSwanky and Moo Moo\\nSyncopate\\nTangerine\\nTelex\\nTenor Sans\\nTerminal Dosis\\nThe Girl Next Door\\nTienne\\nTinos\\nTitan One\\nTrade Winds\\nTrochut\\nTrykker\\nTulpen One\\nUbuntu\\nUbuntu Condensed\\nUbuntu Mono\\nUltra\\nUncial Antiqua\\nUnifrakturCook\\nUnifrakturMaguntia\\nUnkempt\\nUnlock\\nUnna\\nVT323\\nVarela\\nVarela Round\\nVast Shadow\\nVibur\\nVidaloka\\nViga\\nVolkhov\\nVollkorn\\nVoltaire\\nWaiting for the Sunrise\\nWallpoet\\nWalter Turncoat\\nWellfleet\\nWire One\\nYanone Kaffeesatz\\nYellowtail\\nYeseva One\\nYesteryear\\nZeyada\\n\\n\\n\\nBody Font\\n\\n\\nDefault\\n Abel\\nAbril Fatface\\nAclonica\\nAcme\\nActor\\nAdamina\\nAguafina Script\\nAladin\\nAldrich\\nAlegreya\\nAlegreya SC\\nAlex Brush\\nAlfa Slab One\\nAlice\\nAlike\\nAlike Angular\\nAllan\\nAllerta\\nAllerta Stencil\\nAllura\\nAlmendra\\nAlmendra SC\\nAmaranth\\nAmatic SC\\nAmethysta\\nAndada\\nAndika\\nAnnie Use Your Telescope\\nAnonymous Pro\\nAntic\\nAnton\\nArapey\\nArbutus\\nArchitects Daughter\\nArimo\\nArizonia\\nArmata\\nArtifika\\nArvo\\nAsap\\nAsset\\nAstloch\\nAsul\\nAtomic Age\\nAubrey\\nBad Script\\nBalthazar\\nBangers\\nBasic\\nBaumans\\nBelgrano\\nBentham\\nBevan\\nBigshot One\\nBilbo\\nBilbo Swash Caps\\nBitter\\nBlack Ops One\\nBonbon\\nBoogaloo\\nBowlby One\\nBowlby One SC\\nBrawler\\nBree Serif\\nBubblegum Sans\\nBuda\\nBuenard\\nButcherman\\nButterfly Kids\\nCabin\\nCabin Condensed\\nCabin Sketch\\nCaesar Dressing\\nCagliostro\\nCalligraffitti\\nCambo\\nCandal\\nCantarell\\nCardo\\nCarme\\nCarter One\\nCaudex\\nCedarville Cursive\\nCeviche One\\nChanga One\\nChango\\nChelsea Market\\nCherry Cream Soda\\nChewy\\nChicle\\nChivo\\nCoda\\nCoda Caption\\nComfortaa\\nComing Soon\\nConcert One\\nCondiment\\nContrail One\\nConvergence\\nCookie\\nCopse\\nCorben\\nCousine\\nCoustard\\nCovered By Your Grace\\nCrafty Girls\\nCreepster\\nCrete Round\\nCrimson Text\\nCrushed\\nCuprum\\nDamion\\nDancing Script\\nDawning of a New Day\\nDays One\\nDelius\\nDelius Swash Caps\\nDelius Unicase\\nDevonshire\\nDidact Gothic\\nDiplomata\\nDiplomata SC\\nDorsa\\nDr Sugiyama\\nDroid Sans\\nDroid Sans Mono\\nDroid Serif\\nDuru Sans\\nDynalight\\nEB Garamond\\nEater\\nElectrolize\\nEmblema One\\nEngagement\\nEnriqueta\\nErica One\\nEsteban\\nEuphoria Script\\nEwert\\nExo\\nExpletus Sans\\nFanwood Text\\nFascinate\\nFascinate Inline\\nFederant\\nFedero\\nFelipa\\nFjord One\\nFlamenco\\nFlavors\\nFondamento\\nFontdiner Swanky\\nForum\\nFrancois One\\nFredericka the Great\\nFresca\\nFrijole\\nFugaz One\\nGaldeano\\nGentium Basic\\nGentium Book Basic\\nGeo\\nGeostar\\nGeostar Fill\\nGermania One\\nGive You Glory\\nGlegoo\\nGloria Hallelujah\\nGoblin One\\nGochi Hand\\nGoudy Bookletter 1911\\nGravitas One\\nGruppo\\nGudea\\nHabibi\\nHammersmith One\\nHandlee\\nHerr Von Muellerhoff\\nHoltwood One SC\\nHomemade Apple\\nHomenaje\\nIM Fell DW Pica\\nIM Fell DW Pica SC\\nIM Fell Double Pica\\nIM Fell Double Pica SC\\nIM Fell English\\nIM Fell English SC\\nIM Fell French Canon\\nIM Fell French Canon SC\\nIM Fell Great Primer\\nIM Fell Great Primer SC\\nIceberg\\nIceland\\nInconsolata\\nInder\\nIndie Flower\\nInika\\nIrish Grover\\nIstok Web\\nItalianno\\nJim Nightshade\\nJockey One\\nJosefin Sans\\nJosefin Slab\\nJudson\\nJulee\\nJunge\\nJura\\nJust Another Hand\\nJust Me Again Down Here\\nKameron\\nKaushan Script\\nKelly Slab\\nKenia\\nKnewave\\nKotta One\\nKranky\\nKreon\\nKristi\\nLa Belle Aurore\\nLancelot\\nLato\\nLeague Script\\nLeckerli One\\nLekton\\nLemon\\nLilita One\\nLimelight\\nLinden Hill\\nLobster\\nLobster Two\\nLora\\nLove Ya Like A Sister\\nLoved by the King\\nLuckiest Guy\\nLusitana\\nLustria\\nMacondo\\nMacondo Swash Caps\\nMagra\\nMaiden Orange\\nMako\\nMarck Script\\nMarko One\\nMarmelad\\nMarvel\\nMate\\nMate SC\\nMaven Pro\\nMeddon\\nMedievalSharp\\nMedula One\\nMegrim\\nMerienda One\\nMerriweather\\nMetamorphous\\nMetrophobic\\nMichroma\\nMiltonian\\nMiltonian Tattoo\\nMiniver\\nMiss Fajardose\\nModern Antiqua\\nMolengo\\nMonofett\\nMonoton\\nMonsieur La Doulaise\\nMontaga\\nMontez\\nMontserrat\\nMountains of Christmas\\nMr Bedfort\\nMr Dafoe\\nMr De Haviland\\nMrs Saint Delafield\\nMrs Sheppards\\nMuli\\nNeucha\\nNeuton\\nNews Cycle\\nNiconne\\nNixie One\\nNobile\\nNorican\\nNosifer\\nNothing You Could Do\\nNoticia Text\\nNova Cut\\nNova Flat\\nNova Mono\\nNova Oval\\nNova Round\\nNova Script\\nNova Slim\\nNova Square\\nNumans\\nNunito\\nOld Standard TT\\nOldenburg\\nOpen Sans\\nOpen Sans Condensed\\nOrbitron\\nOriginal Surfer\\nOswald\\nOver the Rainbow\\nOverlock\\nOverlock SC\\nOvo\\nPT Sans\\nPT Sans Caption\\nPT Sans Narrow\\nPT Serif\\nPT Serif Caption\\nPacifico\\nParisienne\\nPassero One\\nPassion One\\nPatrick Hand\\nPatua One\\nPaytone One\\nPermanent Marker\\nPetrona\\nPhilosopher\\nPiedra\\nPinyon Script\\nPlaster\\nPlay\\nPlayball\\nPlayfair Display\\nPodkova\\nPoller One\\nPoly\\nPompiere\\nPort Lligat Sans\\nPort Lligat Slab\\nPrata\\nPrincess Sofia\\nProciono\\nPuritan\\nQuantico\\nQuattrocento\\nQuattrocento Sans\\nQuestrial\\nQuicksand\\nQwigley\\nRadley\\nRaleway\\nRammetto One\\nRancho\\nRationale\\nRedressed\\nReenie Beanie\\nRibeye\\nRibeye Marrow\\nRighteous\\nRochester\\nRock Salt\\nRokkitt\\nRopa Sans\\nRosario\\nRouge Script\\nRuda\\nRuge Boogie\\nRuluko\\nRuslan Display\\nRuthie\\nSail\\nSalsa\\nSancreek\\nSansita One\\nSarina\\nSatisfy\\nSchoolbell\\nShadows Into Light\\nShanti\\nShare\\nShojumaru\\nShort Stack\\nSigmar One\\nSignika\\nSignika Negative\\nSirin Stencil\\nSix Caps\\nSlackey\\nSmokum\\nSmythe\\nSniglet\\nSnippet\\nSofia\\nSonsie One\\nSorts Mill Goudy\\nSpecial Elite\\nSpicy Rice\\nSpinnaker\\nSpirax\\nSquada One\\nStardos Stencil\\nStint Ultra Condensed\\nStint Ultra Expanded\\nStoke\\nSue Ellen Francisco\\nSunshiney\\nSupermercado One\\nSwanky and Moo Moo\\nSyncopate\\nTangerine\\nTelex\\nTenor Sans\\nTerminal Dosis\\nThe Girl Next Door\\nTienne\\nTinos\\nTitan One\\nTrade Winds\\nTrochut\\nTrykker\\nTulpen One\\nUbuntu\\nUbuntu Condensed\\nUbuntu Mono\\nUltra\\nUncial Antiqua\\nUnifrakturCook\\nUnifrakturMaguntia\\nUnkempt\\nUnlock\\nUnna\\nVT323\\nVarela\\nVarela Round\\nVast Shadow\\nVibur\\nVidaloka\\nViga\\nVolkhov\\nVollkorn\\nVoltaire\\nWaiting for the Sunrise\\nWallpoet\\nWalter Turncoat\\nWellfleet\\nWire One\\nYanone Kaffeesatz\\nYellowtail\\nYeseva One\\nYesteryear\\nZeyada\\n\\n\\n\\nHeading Font\\n\\n\\nDefault\\n Abel\\nAbril Fatface\\nAclonica\\nAcme\\nActor\\nAdamina\\nAguafina Script\\nAladin\\nAldrich\\nAlegreya\\nAlegreya SC\\nAlex Brush\\nAlfa Slab One\\nAlice\\nAlike\\nAlike Angular\\nAllan\\nAllerta\\nAllerta Stencil\\nAllura\\nAlmendra\\nAlmendra SC\\nAmaranth\\nAmatic SC\\nAmethysta\\nAndada\\nAndika\\nAnnie Use Your Telescope\\nAnonymous Pro\\nAntic\\nAnton\\nArapey\\nArbutus\\nArchitects Daughter\\nArimo\\nArizonia\\nArmata\\nArtifika\\nArvo\\nAsap\\nAsset\\nAstloch\\nAsul\\nAtomic Age\\nAubrey\\nBad Script\\nBalthazar\\nBangers\\nBasic\\nBaumans\\nBelgrano\\nBentham\\nBevan\\nBigshot One\\nBilbo\\nBilbo Swash Caps\\nBitter\\nBlack Ops One\\nBonbon\\nBoogaloo\\nBowlby One\\nBowlby One SC\\nBrawler\\nBree Serif\\nBubblegum Sans\\nBuda\\nBuenard\\nButcherman\\nButterfly Kids\\nCabin\\nCabin Condensed\\nCabin Sketch\\nCaesar Dressing\\nCagliostro\\nCalligraffitti\\nCambo\\nCandal\\nCantarell\\nCardo\\nCarme\\nCarter One\\nCaudex\\nCedarville Cursive\\nCeviche One\\nChanga One\\nChango\\nChelsea Market\\nCherry Cream Soda\\nChewy\\nChicle\\nChivo\\nCoda\\nCoda Caption\\nComfortaa\\nComing Soon\\nConcert One\\nCondiment\\nContrail One\\nConvergence\\nCookie\\nCopse\\nCorben\\nCousine\\nCoustard\\nCovered By Your Grace\\nCrafty Girls\\nCreepster\\nCrete Round\\nCrimson Text\\nCrushed\\nCuprum\\nDamion\\nDancing Script\\nDawning of a New Day\\nDays One\\nDelius\\nDelius Swash Caps\\nDelius Unicase\\nDevonshire\\nDidact Gothic\\nDiplomata\\nDiplomata SC\\nDorsa\\nDr Sugiyama\\nDroid Sans\\nDroid Sans Mono\\nDroid Serif\\nDuru Sans\\nDynalight\\nEB Garamond\\nEater\\nElectrolize\\nEmblema One\\nEngagement\\nEnriqueta\\nErica One\\nEsteban\\nEuphoria Script\\nEwert\\nExo\\nExpletus Sans\\nFanwood Text\\nFascinate\\nFascinate Inline\\nFederant\\nFedero\\nFelipa\\nFjord One\\nFlamenco\\nFlavors\\nFondamento\\nFontdiner Swanky\\nForum\\nFrancois One\\nFredericka the Great\\nFresca\\nFrijole\\nFugaz One\\nGaldeano\\nGentium Basic\\nGentium Book Basic\\nGeo\\nGeostar\\nGeostar Fill\\nGermania One\\nGive You Glory\\nGlegoo\\nGloria Hallelujah\\nGoblin One\\nGochi Hand\\nGoudy Bookletter 1911\\nGravitas One\\nGruppo\\nGudea\\nHabibi\\nHammersmith One\\nHandlee\\nHerr Von Muellerhoff\\nHoltwood One SC\\nHomemade Apple\\nHomenaje\\nIM Fell DW Pica\\nIM Fell DW Pica SC\\nIM Fell Double Pica\\nIM Fell Double Pica SC\\nIM Fell English\\nIM Fell English SC\\nIM Fell French Canon\\nIM Fell French Canon SC\\nIM Fell Great Primer\\nIM Fell Great Primer SC\\nIceberg\\nIceland\\nInconsolata\\nInder\\nIndie Flower\\nInika\\nIrish Grover\\nIstok Web\\nItalianno\\nJim Nightshade\\nJockey One\\nJosefin Sans\\nJosefin Slab\\nJudson\\nJulee\\nJunge\\nJura\\nJust Another Hand\\nJust Me Again Down Here\\nKameron\\nKaushan Script\\nKelly Slab\\nKenia\\nKnewave\\nKotta One\\nKranky\\nKreon\\nKristi\\nLa Belle Aurore\\nLancelot\\nLato\\nLeague Script\\nLeckerli One\\nLekton\\nLemon\\nLilita One\\nLimelight\\nLinden Hill\\nLobster\\nLobster Two\\nLora\\nLove Ya Like A Sister\\nLoved by the King\\nLuckiest Guy\\nLusitana\\nLustria\\nMacondo\\nMacondo Swash Caps\\nMagra\\nMaiden Orange\\nMako\\nMarck Script\\nMarko One\\nMarmelad\\nMarvel\\nMate\\nMate SC\\nMaven Pro\\nMeddon\\nMedievalSharp\\nMedula One\\nMegrim\\nMerienda One\\nMerriweather\\nMetamorphous\\nMetrophobic\\nMichroma\\nMiltonian\\nMiltonian Tattoo\\nMiniver\\nMiss Fajardose\\nModern Antiqua\\nMolengo\\nMonofett\\nMonoton\\nMonsieur La Doulaise\\nMontaga\\nMontez\\nMontserrat\\nMountains of Christmas\\nMr Bedfort\\nMr Dafoe\\nMr De Haviland\\nMrs Saint Delafield\\nMrs Sheppards\\nMuli\\nNeucha\\nNeuton\\nNews Cycle\\nNiconne\\nNixie One\\nNobile\\nNorican\\nNosifer\\nNothing You Could Do\\nNoticia Text\\nNova Cut\\nNova Flat\\nNova Mono\\nNova Oval\\nNova Round\\nNova Script\\nNova Slim\\nNova Square\\nNumans\\nNunito\\nOld Standard TT\\nOldenburg\\nOpen Sans\\nOpen Sans Condensed\\nOrbitron\\nOriginal Surfer\\nOswald\\nOver the Rainbow\\nOverlock\\nOverlock SC\\nOvo\\nPT Sans\\nPT Sans Caption\\nPT Sans Narrow\\nPT Serif\\nPT Serif Caption\\nPacifico\\nParisienne\\nPassero One\\nPassion One\\nPatrick Hand\\nPatua One\\nPaytone One\\nPermanent Marker\\nPetrona\\nPhilosopher\\nPiedra\\nPinyon Script\\nPlaster\\nPlay\\nPlayball\\nPlayfair Display\\nPodkova\\nPoller One\\nPoly\\nPompiere\\nPort Lligat Sans\\nPort Lligat Slab\\nPrata\\nPrincess Sofia\\nProciono\\nPuritan\\nQuantico\\nQuattrocento\\nQuattrocento Sans\\nQuestrial\\nQuicksand\\nQwigley\\nRadley\\nRaleway\\nRammetto One\\nRancho\\nRationale\\nRedressed\\nReenie Beanie\\nRibeye\\nRibeye Marrow\\nRighteous\\nRochester\\nRock Salt\\nRokkitt\\nRopa Sans\\nRosario\\nRouge Script\\nRuda\\nRuge Boogie\\nRuluko\\nRuslan Display\\nRuthie\\nSail\\nSalsa\\nSancreek\\nSansita One\\nSarina\\nSatisfy\\nSchoolbell\\nShadows Into Light\\nShanti\\nShare\\nShojumaru\\nShort Stack\\nSigmar One\\nSignika\\nSignika Negative\\nSirin Stencil\\nSix Caps\\nSlackey\\nSmokum\\nSmythe\\nSniglet\\nSnippet\\nSofia\\nSonsie One\\nSorts Mill Goudy\\nSpecial Elite\\nSpicy Rice\\nSpinnaker\\nSpirax\\nSquada One\\nStardos Stencil\\nStint Ultra Condensed\\nStint Ultra Expanded\\nStoke\\nSue Ellen Francisco\\nSunshiney\\nSupermercado One\\nSwanky and Moo Moo\\nSyncopate\\nTangerine\\nTelex\\nTenor Sans\\nTerminal Dosis\\nThe Girl Next Door\\nTienne\\nTinos\\nTitan One\\nTrade Winds\\nTrochut\\nTrykker\\nTulpen One\\nUbuntu\\nUbuntu Condensed\\nUbuntu Mono\\nUltra\\nUncial Antiqua\\nUnifrakturCook\\nUnifrakturMaguntia\\nUnkempt\\nUnlock\\nUnna\\nVT323\\nVarela\\nVarela Round\\nVast Shadow\\nVibur\\nVidaloka\\nViga\\nVolkhov\\nVollkorn\\nVoltaire\\nWaiting for the Sunrise\\nWallpoet\\nWalter Turncoat\\nWellfleet\\nWire One\\nYanone Kaffeesatz\\nYellowtail\\nYeseva One\\nYesteryear\\nZeyada\\n\\n\\nBody\\nBackground Color\\n\\n\\n\\n\\nText Color\\n\\n\\n\\n\\nLink Color\\n\\n\\n\\n\\nBackground Image\\n\\n\\n\\n\\n\\n\\n\\n\\n\\n\\n\\n\\n\\n\\n\\n\\n\\n\\n\\n\\nHeader Wrapper\\nBackground Color\\n\\n\\n\\n\\nModules Title\\n\\n\\n\\n\\nText Color\\n\\n\\n\\n\\nLink Color\\n\\n\\n\\n\\nBackground Image\\n\\n\\n\\n\\n\\n\\n\\n\\n\\n\\n\\n\\n\\n\\n\\n\\n\\n\\n\\n\\nMenu Wrapper\\nBackground Color\\n\\n\\n\\n\\nModules Title\\n\\n\\n\\n\\nText Color\\n\\n\\n\\n\\nLink Color\\n\\n\\n\\n\\nBackground Image\\n\\n\\n\\n\\n\\n\\n\\n\\n\\n\\n\\n\\n\\n\\n\\n\\n\\n\\n\\n\\nMain Wrapper\\nBackground Color\\n\\n\\n\\n\\nModules Title\\n\\n\\n\\n\\nText Color\\n\\n\\n\\n\\nLink Color\\n\\n\\n\\n\\nBackground Image\\n\\n\\n\\n\\n\\n\\n\\n\\n\\n\\n\\n\\n\\n\\n\\n\\n\\n\\n\\n\\nInset Wrapper\\nBackground Color\\n\\n\\n\\n\\nModules Title\\n\\n\\n\\n\\nText Color\\n\\n\\n\\n\\nLink Color\\n\\n\\n\\n\\nBackground Image\\n\\n\\n\\n\\n\\n\\n\\n\\n\\n\\n\\n\\n\\n\\n\\n\\n\\n\\n\\n\\nBottom Wrapper\\nBackground Color\\n\\n\\n\\n\\nModules Title\\n\\n\\n\\n\\nText Color\\n\\n\\n\\n\\nLink Color\\n\\n\\n\\n\\nBackground Image\\n\\n\\n\\n\\n\\n\\n\\n\\n\\n\\n\\n\\n\\n\\n\\n\\n\\n\\n\\n\\nFooter Wrapper\\nBackground Color\\n\\n\\n\\n\\nModules Title\\n\\n\\n\\n\\nText Color\\n\\n\\n\\n\\nLink Color\\n\\n\\n\\n\\nBackground Image\\n\\n\\n\\n\\n\\n\\n\\n\\n\\n\\n\\n\\n\\n\\n\\n\\n\\n\\n\\n\\n \\n\\n\\n\\n\\n\\n\\n\\xa0\\nTop of Page\\n\\n\\n\\n\\n\\nBCMath lib not installed. RSA encryption unavailable\\n\\xa0\\xa0\\xa0\\xa0\\xa0\\xa0\\xa0\\xa0\\xa0\\xa0Back to top\", metadata={'source': 'C:\\\\Users\\\\Barani\\\\Desktop\\\\local_ollama\\\\llm_testing_urls\\\\aiims.html', 'title': 'AIIMS - All India Institute Of Medical Science'})]"
      ]
     },
     "execution_count": 19,
     "metadata": {},
     "output_type": "execute_result"
    }
   ],
   "source": [
    "loader = BSHTMLLoader(directory, bs_kwargs={\"features\": \"html.parser\"},open_encoding=\"utf-8\")\n",
    "data = loader.load()\n",
    "data"
   ]
  },
  {
   "cell_type": "code",
   "execution_count": 20,
   "metadata": {},
   "outputs": [],
   "source": [
    "text_splitter = CharacterTextSplitter.from_tiktoken_encoder(chunk_size=7500, chunk_overlap=100)\n",
    "\n",
    "doc_splits = text_splitter.split_documents(data)"
   ]
  },
  {
   "cell_type": "code",
   "execution_count": 21,
   "metadata": {},
   "outputs": [
    {
     "name": "stdout",
     "output_type": "stream",
     "text": [
      "1\n"
     ]
    }
   ],
   "source": [
    "\n",
    "embedding = embeddings.OllamaEmbeddings(model='nomic-embed-text')\n",
    "db = FAISS.from_documents(doc_splits, embedding)\n",
    "print(db.index.ntotal)\n"
   ]
  },
  {
   "cell_type": "code",
   "execution_count": 22,
   "metadata": {},
   "outputs": [],
   "source": [
    "db.save_local(\"db_demos/aiims\")"
   ]
  },
  {
   "cell_type": "code",
   "execution_count": 23,
   "metadata": {},
   "outputs": [],
   "source": [
    "retriever = db.as_retriever()"
   ]
  },
  {
   "cell_type": "code",
   "execution_count": 24,
   "metadata": {},
   "outputs": [],
   "source": [
    "class format_json(BaseModel):\n",
    "    university_name : str = Field(description=\"organization name from the given context\")\n",
    "    address: str = Field(description=\"address from the given context\")\n",
    "    email_address: str = Field(description=\"email address from the given context\")\n",
    "    contact_number: str = Field(description=\"contact number from the given context\")"
   ]
  },
  {
   "cell_type": "code",
   "execution_count": 25,
   "metadata": {},
   "outputs": [],
   "source": [
    "# # 4. After RAG\n",
    "# print(\"\\n########\\nAfter RAG\\n\")\n",
    "# after_rag_template = \"\"\"provide the answer for the question only from this given context:\n",
    "# {context}\n",
    "# Question: {question}\n",
    "# \"\"\"\n",
    "# after_rag_prompt = ChatPromptTemplate.from_template(after_rag_template)\n",
    "# after_rag_chain = (\n",
    "#     {\"context\": retriever, \"question\": RunnablePassthrough()}\n",
    "#     | after_rag_prompt\n",
    "#     | model_local\n",
    "#     | StrOutputParser()\n",
    "# )\n",
    "after_rag_template = \"\"\"Answer the question based only on the following context:\n",
    "        {context} and only provide these details in this order only and the response will always will be containing these informations only such as address,contact number,email address in a json format\n",
    "        {format_instructions}\n",
    "        Question: {question}\n",
    "        \"\"\"\n",
    "parser = JsonOutputParser(pydantic_object=format_json)\n",
    "after_rag_prompt = ChatPromptTemplate.from_template(after_rag_template,partial_variables={\"format_instructions\": parser.get_format_instructions()},)\n",
    "after_rag_chain = (\n",
    "            {\"context\": retriever, \"question\": RunnablePassthrough()}\n",
    "            | after_rag_prompt\n",
    "            | model_local\n",
    "            | parser\n",
    "        )"
   ]
  },
  {
   "cell_type": "code",
   "execution_count": 26,
   "metadata": {},
   "outputs": [
    {
     "data": {
      "text/plain": [
       "{'university_name': 'AIIMS - All India Institute Of Medical Science',\n",
       " 'address': 'Sector-12, RML Avenue, Anand Parbat, New Delhi, Delhi 110021, India',\n",
       " 'email_address': 'mail@aiims.edu',\n",
       " 'contact_number': '+91 11 2658 8500'}"
      ]
     },
     "execution_count": 26,
     "metadata": {},
     "output_type": "execute_result"
    }
   ],
   "source": [
    "json_output = after_rag_chain.invoke(\"provide the metioned details from the context and make sure you providing them from the given context\")\n",
    "json_output"
   ]
  },
  {
   "cell_type": "code",
   "execution_count": 27,
   "metadata": {},
   "outputs": [
    {
     "data": {
      "text/html": [
       "<div>\n",
       "<style scoped>\n",
       "    .dataframe tbody tr th:only-of-type {\n",
       "        vertical-align: middle;\n",
       "    }\n",
       "\n",
       "    .dataframe tbody tr th {\n",
       "        vertical-align: top;\n",
       "    }\n",
       "\n",
       "    .dataframe thead th {\n",
       "        text-align: right;\n",
       "    }\n",
       "</style>\n",
       "<table border=\"1\" class=\"dataframe\">\n",
       "  <thead>\n",
       "    <tr style=\"text-align: right;\">\n",
       "      <th></th>\n",
       "      <th>university_name</th>\n",
       "      <th>address</th>\n",
       "      <th>email_address</th>\n",
       "      <th>contact_number</th>\n",
       "    </tr>\n",
       "  </thead>\n",
       "  <tbody>\n",
       "    <tr>\n",
       "      <th>0</th>\n",
       "      <td>Makerere University College Of Health Sciences</td>\n",
       "      <td>Office of the Principal,\\n               Maker...</td>\n",
       "      <td>pr.chs[at]mak.ac.ug or the College Principal d...</td>\n",
       "      <td>+256 41 4530 020</td>\n",
       "    </tr>\n",
       "  </tbody>\n",
       "</table>\n",
       "</div>"
      ],
      "text/plain": [
       "                                  university_name  \\\n",
       "0  Makerere University College Of Health Sciences   \n",
       "\n",
       "                                             address  \\\n",
       "0  Office of the Principal,\\n               Maker...   \n",
       "\n",
       "                                       email_address    contact_number  \n",
       "0  pr.chs[at]mak.ac.ug or the College Principal d...  +256 41 4530 020  "
      ]
     },
     "execution_count": 27,
     "metadata": {},
     "output_type": "execute_result"
    }
   ],
   "source": [
    "dff = pd.json_normalize(json_output)\n",
    "dff"
   ]
  },
  {
   "cell_type": "code",
   "execution_count": null,
   "metadata": {},
   "outputs": [],
   "source": []
  }
 ],
 "metadata": {
  "kernelspec": {
   "display_name": "ollama",
   "language": "python",
   "name": "python3"
  },
  "language_info": {
   "codemirror_mode": {
    "name": "ipython",
    "version": 3
   },
   "file_extension": ".py",
   "mimetype": "text/x-python",
   "name": "python",
   "nbconvert_exporter": "python",
   "pygments_lexer": "ipython3",
   "version": "3.11.5"
  }
 },
 "nbformat": 4,
 "nbformat_minor": 2
}
