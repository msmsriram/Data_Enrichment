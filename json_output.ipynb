{
 "cells": [
  {
   "cell_type": "code",
   "execution_count": 1,
   "metadata": {},
   "outputs": [],
   "source": [
    "from langchain_community.document_loaders import WebBaseLoader\n",
    "from langchain_community.document_loaders import PyPDFLoader\n",
    "from langchain_community.vectorstores import Chroma\n",
    "from langchain_community import embeddings\n",
    "from langchain_community.chat_models import ChatOllama\n",
    "from langchain_core.runnables import RunnablePassthrough\n",
    "from langchain_core.output_parsers import StrOutputParser\n",
    "from langchain_core.prompts import ChatPromptTemplate\n",
    "from langchain.output_parsers import PydanticOutputParser\n",
    "from langchain.text_splitter import CharacterTextSplitter\n",
    "from langchain_community.document_loaders import BSHTMLLoader\n",
    "from langchain_community.document_loaders import DirectoryLoader\n",
    "\n"
   ]
  },
  {
   "cell_type": "code",
   "execution_count": 2,
   "metadata": {},
   "outputs": [],
   "source": [
    "model_local = ChatOllama(model=\"mistral\")"
   ]
  },
  {
   "cell_type": "code",
   "execution_count": 3,
   "metadata": {},
   "outputs": [
    {
     "name": "stdout",
     "output_type": "stream",
     "text": [
      "[Document(page_content=\"\\n\\n      Addresses and phone numbers - About Us - Mayo Clinic\\n  \\n\\n\\n\\n\\n\\n\\n\\n\\n\\n\\n\\n\\n\\n\\n\\n\\n\\n\\n\\n\\n\\n\\n\\n\\n\\n\\n\\n\\n\\n\\n\\n\\n\\n\\n\\n\\n\\n\\n\\n\\n\\n\\n\\n\\n\\n\\n\\n\\n\\n\\n\\n\\n\\n\\n\\nThis content does not have an English version.\\nThis content does not have an Arabic version.\\n\\n\\n\\nSkip to contentCare at \\n   Mayo Clinic Patient-Centered Care About Mayo Clinic Request Appointment Find a Doctor Locations Clinical Trials Connect to Support Groups Patient & Visitor Guide Insurance & Billing Departments & Centers International Services Contact UsPatient & Visitor Guide Health \\n   Library Diseases & Conditions Symptoms Tests & Procedures Drugs & Supplements Healthy Lifestyle Books & SubscriptionsDiseases & Conditions For Medical \\n   Professionals Medical Professional Resources Refer a Patient Continuing Medical Education AskMayoExpert Mayo Clinic Laboratories Video Center Journals & Publications Mayo Clinic Alumni AssociationContinuing Medical Education Research & Education \\n   at Mayo ClinicResearch Research at Mayo Clinic Research Faculty Laboratories Core Facilities Centers & Programs Departments & Divisions Clinical Trials Institutional Review Board Postdoctoral Fellowships Training Grant ProgramsEducation Mayo Clinic College of Medicine and Science Mayo Clinic Graduate School of Biomedical Sciences Mayo Clinic Alix School of Medicine Mayo Clinic School of Graduate Medical Education Mayo Clinic School of Health Sciences Mayo Clinic School of Continuous Professional DevelopmentMayo Clinic College of Medicine and Science Giving to \\n   Mayo Clinic Give Now Giving to Mayo Clinic Frequently Asked Questions Contact Us to GiveMake a Donation  Request appointment Log inSearchMenu Request appointment Donate Diseases & conditions Find a doctorCare at Mayo Clinic Patient-Centered Care About Mayo Clinic Request Appointment Find a Doctor Locations Clinical Trials Connect to Support Groups Patient & Visitor Guide Insurance & Billing Departments & Centers International Services Contact UsPatient & Visitor Guide Health Library Diseases & Conditions Symptoms Tests & Procedures Drugs & Supplements Healthy Lifestyle Books & SubscriptionsDiseases & Conditions For Medical Professionals Medical Professional Resources Refer a Patient Continuing Medical Education AskMayoExpert Mayo Clinic Laboratories Video Center Journals & Publications Mayo Clinic Alumni AssociationContinuing Medical Education Research & Education at Mayo ClinicResearch Research at Mayo Clinic Research Faculty Laboratories Core Facilities Centers & Programs Departments & Divisions Clinical Trials Institutional Review Board Postdoctoral Fellowships Training Grant ProgramsEducation Mayo Clinic College of Medicine and Science Mayo Clinic Graduate School of Biomedical Sciences Mayo Clinic Alix School of Medicine Mayo Clinic School of Graduate Medical Education Mayo Clinic School of Health Sciences Mayo Clinic School of Continuous Professional DevelopmentMayo Clinic College of Medicine and Science Giving to Mayo Clinic Give Now Giving to Mayo Clinic Frequently Asked Questions Contact Us to GiveMake a Donation Search for a disease or condition . Type 3 or more letters to display suggested search options.When results are available, use up and down arrow keys to navigate. Press space key to fill the input with the suggestion or enter key to search with the suggestion.Search by keyword or phraseSearch\\n\\n\\n\\n\\n\\n\\n\\n\\n\\n\\n\\n\\n\\n  Appointments at Mayo Clinic\\n  \\nMayo Clinic offers appointments in Arizona, Florida and Minnesota and at Mayo Clinic Health System locations.\\nRequest Appointment\\n\\n\\n\\n\\n\\nAbout Mayo ClinicContact Mayo Clinic\\nPrint\\n\\n\\n\\n\\n\\n\\n\\nAddresses and phone numbers\\n\\nArizona â€” Scottsdale/Phoenix\\nFlorida â€” Jacksonville\\nMinnesota â€” Rochester\\nStaff phone and email directories\\n\\nArizona â€” Scottsdale/PhoenixMayo Clinic\\n13400 E. Shea Blvd.\\n  Scottsdale, AZ 85259\\n\\n\\n\\nContact\\nNumber\\n\\n\\n\\n\\nGeneral number\\n480-301-8000\\n\\n\\nAppointment Office\\n\\n\\n480-301-8484\\n\\n\\n\\n\\nInsurance and billing\\n\\n\\n844-217-9591 (toll-free)\\n507-266-0909 for international callers\\n\\n\\n\\n\\nInternational Patients Center\\n480-301-7101\\n\\n\\nMedical records and imaging requests\\n507-284-4594\\n\\n\\nMedical records requests fax\\n507-284-0161\\n\\n\\nScottsdale/Phoenix Office of Patient Experience\\n844-544-0036 (toll-free)\\n\\n\\n\\nRecords request form (PDF)\\nMayo Clinic Hospital\\n5777 E. Mayo Blvd.\\n  Phoenix, AZ 85054\\n\\n\\n\\nContact\\nNumber\\n\\n\\n\\n\\nGeneral numbers\\n\\n\\n480-515-6296\\n480-342-2000\\n\\n\\n\\n\\nScottsdale/Phoenix Office of Patient Experience\\n844-544-0036 (toll-free)\\n\\n\\nBack to topFlorida â€” JacksonvilleMayo Clinic\\n4500 San Pablo Road\\n  Jacksonville, FL 32224\\n\\n\\n\\nContact\\nNumber\\n\\n\\n\\n\\nGeneral number\\n904-953-2000\\n\\n\\nAppointment Office\\n904-953-0853\\n\\n\\nAppointment Office fax\\n904-953-2898\\n\\n\\nBilling\\n\\n\\n844-217-9591 (toll-free)\\n507-266-0909 for international callers\\n\\n\\n\\n\\nHospital-to-hospital patient transfers (Admission Transfer Center â€” 24 hours a day)\\n904-953-1111\\n\\n\\nInsurance\\n904-953-1395 or 877-956-1820, then option 1 (toll-free outside Jacksonville)\\n\\n\\nInternational Services\\n904-953-7000\\n\\n\\nInternational Services fax\\n904-953-7329\\n\\n\\nMedical records and imaging requests\\n507-284-4594\\n\\n\\nMedical records requests fax\\n507-284-0161\\n\\n\\n\\nRecords request form (PDF)\\nMayo Building and Hospital\\n4500 San Pablo Road\\n  Jacksonville, FL 32224\\n\\n\\n\\nContact\\nNumber\\n\\n\\n\\n\\nGeneral number\\n904-953-2000\\n\\n\\nJacksonville Office of Patient Experience\\n844-544-0036 (toll-free)\\n\\n\\nBack to topMinnesota â€” RochesterMayo Clinic\\n200 First St. SW\\n  Rochester, MN 55905\\n\\n\\n\\nContact\\nNumber\\n\\n\\n\\n\\nGeneral number\\n507-284-2511\\n\\n\\nAppointment Office\\n507-538-3270\\n\\n\\nInsurance and billing\\n\\n\\n844-217-9591 (toll free)\\n507-266-0909 for international callers\\n\\n\\n\\n\\nInternational Appointment Office\\n507-284-8884\\n\\n\\nInternational Appointment Office fax\\n507-538-7802\\n\\n\\nMedical records and imaging requests\\n507-284-4594\\n\\n\\nMedical records requests fax\\n507-284-0161\\n\\n\\n\\nRecords request form (PDF)\\nMayo Clinic Hospital, Methodist Campus\\n201 W. Center St.\\n  Rochester, MN 55902\\n\\n\\n\\nContact\\nNumber\\n\\n\\n\\n\\nGeneral number\\n507-266-7890\\n\\n\\n\\nMayo Clinic Hospital, Saint Marys Campus\\nincluding Mayo Eugenio Litta Children's Hospital\\n1216 Second St. SW\\n  Rochester, MN 55902\\n\\n\\n\\nContact\\nNumber\\n\\n\\n\\n\\nGeneral number\\n507-255-5123\\n\\n\\nRochester, Minnesota, Office of Patient Experience\\n844-544-0036 (toll-free)\\n\\n\\nBack to topStaff phone and email directoriesMayo Clinic doesn't have a public directory of staff phone numbers or email addresses. To contact someone, call the general telephone number at a Mayo Clinic location and the operator will connect you.\\nYou may find biographical information about Mayo Clinic staff doctors on the Doctors and Medical Staff pages.\\nYou may view research profiles of Mayo Clinic faculty in the research staff directory.Back to top\\n\\nShareTweet\\n\\n\\n\\n\\n  Contact Patient Experience\\n  \\nIf youâ€™d like to share a compliment or  concern about your care at Mayo Clinic, please contact Mayo Clinic's Office of  Patient Experience.\\n\\n\\n\\n\\n\\n\\n\\n\\n\\n\\n\\n\\n\\n\\n\\n\\n\\n\\n\\n\\n\\n                      .\\n                  \\n\\n\\nART-20057639\\n\\nAbout Mayo Clinic\\nContact Mayo Clinic\\n\\n\\n\\n\\n\\n\\nYour gift holds great power â€“ donate today! DonateMake your tax-deductible gift and be a part of the cutting-edge research and care that's changing medicine.\\n Donate\\n\\n Find a doctor Explore careers Sign up for free e-newslettersAbout Mayo Clinic   About this Site Contact Us Locations Health Information Policy Media Requests News Network Price TransparencyMedical Professionals  AskMayoExpert Clinical Trials Mayo Clinic Alumni Association Refer a PatientBusinesses   Executive Health Program International Business Collaborations Facilities & Real Estate Supplier InformationMedical Professionals  AskMayoExpert Clinical Trials Mayo Clinic Alumni Association Refer a PatientBusinesses   Executive Health Program International Business Collaborations Facilities & Real Estate Supplier InformationStudents    Admissions Requirements Degree Programs Student & Faculty PortalStudents   Degree Programs Admissions Requirements Student & Faculty PortalResearchers   Research Faculty LaboratoriesInternational Patients  Appointments Financial Services International Locations & OfficesCharitable Care & Financial Assistance  Community Health Needs Assessment Financial Assistance Documents â€“ Arizona Financial Assistance Documents â€“ Florida Financial Assistance Documents â€“ MinnesotaFollow Mayo Clinic X Youtube Facebook Linkedin InstagramGet the Mayo Clinic app\\n\\n Terms & Conditions Privacy Policy Notice of Privacy Practices Notice of Nondiscrimination Accessibility Statement Advertising & Sponsorship Policy Site Map Manage Cookies Terms and Conditions Privacy Policy Notice of Privacy Practices Notice of Nondiscrimination Accessibility Statement Advertising and Sponsorship Policy Site Map Manage CookiesLanguage:English English EspaÃ±ol Ø§Ù„Ø¹Ø±Ø¨ÙŠØ© ç®€ä½“ä¸\\xadæ–‡Â© 1998-2024 Mayo Foundation for Medical Education and Research (MFMER). All rights reserved.\\nLanguage:English English EspaÃ±ol Ø§Ù„Ø¹Ø±Ø¨ÙŠØ© ç®€ä½“ä¸\\xadæ–‡\\n\\n\\n\\n\\n\\n\\n\\n\\n\\n\\n\\n\\n\\n Mayo Clinic Privacy Policy  Mayo Clinic and our partners use technologies such as cookies to collect information from your browser to deliver relevant advertising on our site, in emails and across the Internet, personalize content and perform site analytics. Please visit our Privacy Policy for more information about our use of data and your rights. Click here to update your preferences  I Agree   x Customize Cookie Settings   Trusted These technologies are used in operating the site, including remembering your preferences, ensuring security and providing certain features. They do not track your activity online.        Website Analytics These technologies collect information to help us understand how our websites are being used and to make improvements.        Advertising These technologies are used to make advertising messages more relevant to you. They perform functions like preventing the same ad from continuously reappearing, ensuring that ads are properly displayed for advertisers and selecting advertisements that are based on your interests.    Save  \\n\", metadata={'source': 'C:\\\\Users\\\\Barani\\\\Desktop\\\\local_ollama\\\\mayo.html', 'title': '\\n      Addresses and phone numbers - About Us - Mayo Clinic\\n  '})]\n"
     ]
    }
   ],
   "source": [
    "loader = BSHTMLLoader(\"C:\\\\Users\\\\Barani\\\\Desktop\\\\local_ollama\\\\mayo.html\")\n",
    "\n",
    "data = loader.load()\n",
    "print(data)"
   ]
  },
  {
   "cell_type": "code",
   "execution_count": 5,
   "metadata": {},
   "outputs": [],
   "source": [
    "text_splitter = CharacterTextSplitter.from_tiktoken_encoder(chunk_size=7500, chunk_overlap=100)\n",
    "doc_splits = text_splitter.split_documents(data)"
   ]
  },
  {
   "cell_type": "code",
   "execution_count": 7,
   "metadata": {},
   "outputs": [],
   "source": [
    "vectorstore = Chroma.from_documents(\n",
    "    documents=doc_splits,\n",
    "    collection_name=\"rag-chroma\",\n",
    "    embedding=embeddings.ollama.OllamaEmbeddings(model='nomic-embed-text'),\n",
    ")\n",
    "retriever = vectorstore.as_retriever()"
   ]
  },
  {
   "cell_type": "code",
   "execution_count": 8,
   "metadata": {},
   "outputs": [
    {
     "name": "stdout",
     "output_type": "stream",
     "text": [
      "Before RAG\n",
      "\n",
      " The Mayo Clinic in Rochester, Minnesota, has multiple locations. Here are some addresses for specific clinics and departments:\n",
      "\n",
      "1. Mayo Clinic Campus - 200 First St SW, Rochester, MN 55905, USA\n",
      "   This is the main campus of Mayo Clinic, where you can find most of the medical specialties and services.\n",
      "\n",
      "2. Mayo Clinic Hospital - 4500 St. Marie Boulevard, Rochester, MN 55901, USA\n",
      "   This is the hospital building on the Mayo Clinic campus, which includes patient rooms, operating rooms, and other healthcare facilities.\n",
      "\n",
      "3. Mayo Clinic Gonda Building for Women's Health - 200 17th St NW, Rochester, MN 55901, USA\n",
      "   This building is dedicated to women's health, including obstetrics, gynecology, and related services.\n",
      "\n",
      "4. Mayo Clinic Methodist Hospital - 3300 Mayowood Rd SW, Rochester, MN 55905, USA\n",
      "   This hospital is part of the Mayo Clinic system and provides various medical services, including cardiovascular care, oncology, and neurosciences.\n",
      "\n",
      "5. Mayo Clinic Saint Marys Hospital - 3125 Seventh St NW, Rochester, MN 55901, USA\n",
      "   This hospital is a part of the Mayo Clinic system and offers medical services like cardiovascular care, neurology, and oncology.\n",
      "\n",
      "6. Mayo Clinic Laboratories - 3472 27th Ave NW, Rochester, MN 55901, USA\n",
      "   This building is dedicated to laboratory research and testing services for the Mayo Clinic system.\n",
      "\n",
      "Please note that it's important to contact the specific clinic or department you plan to visit to confirm their address, hours of operation, and appointment availability.\n"
     ]
    }
   ],
   "source": [
    "# 3. Before RAG\n",
    "print(\"Before RAG\\n\")\n",
    "before_rag_template = \"Provide me {topic}\"\n",
    "before_rag_prompt = ChatPromptTemplate.from_template(before_rag_template)\n",
    "before_rag_chain = before_rag_prompt | model_local | StrOutputParser()\n",
    "print(before_rag_chain.invoke({\"topic\": \"the addresses of mayo clinic which is in Rochester\"}))"
   ]
  },
  {
   "cell_type": "code",
   "execution_count": 9,
   "metadata": {},
   "outputs": [],
   "source": [
    "from langchain_core.output_parsers import JsonOutputParser\n",
    "from langchain_core.pydantic_v1 import BaseModel, Field"
   ]
  },
  {
   "cell_type": "code",
   "execution_count": 10,
   "metadata": {},
   "outputs": [],
   "source": [
    "class format_json(BaseModel):\n",
    "    university_name : str = Field(description=\"organization name from the given context\")\n",
    "    address: str = Field(description=\"address from the given context\")\n",
    "    email_address: str = Field(description=\"email address from the given context\")\n",
    "    contact_number: str = Field(description=\"contact number from the given context\")\n",
    "\n"
   ]
  },
  {
   "cell_type": "code",
   "execution_count": 11,
   "metadata": {},
   "outputs": [],
   "source": [
    "parser = JsonOutputParser(pydantic_object=format_json)"
   ]
  },
  {
   "cell_type": "code",
   "execution_count": 14,
   "metadata": {},
   "outputs": [
    {
     "name": "stdout",
     "output_type": "stream",
     "text": [
      "\n",
      "########\n",
      "After RAG\n",
      "\n"
     ]
    }
   ],
   "source": [
    "# 4. After RAG\n",
    "print(\"\\n########\\nAfter RAG\\n\")\n",
    "after_rag_template = \"\"\"Answer the question based only on the following context:\n",
    "{context}\n",
    "{format_instructions}\n",
    "Question: {question}\n",
    "\"\"\"\n",
    "after_rag_prompt = ChatPromptTemplate.from_template(after_rag_template,partial_variables={\"format_instructions\": parser.get_format_instructions()},)\n",
    "after_rag_chain = (\n",
    "    {\"context\": retriever, \"question\": RunnablePassthrough()}\n",
    "    | after_rag_prompt\n",
    "    | model_local\n",
    "    | parser\n",
    ")\n"
   ]
  },
  {
   "cell_type": "code",
   "execution_count": 15,
   "metadata": {},
   "outputs": [
    {
     "name": "stderr",
     "output_type": "stream",
     "text": [
      "Number of requested results 4 is greater than number of elements in index 1, updating n_results = 1\n"
     ]
    },
    {
     "ename": "OutputParserException",
     "evalue": "Invalid json output: To provide the specific address of Mayo Clinic located in Minnesota from the given text, you can extract it using regular expressions. Here's how to do it in Python:\n\n```python\nimport re\ntext = \"\"\"...\nMayo Clinic Hospital, Saint Marys Campus\nincluding Mayo Eugenio Litta Children's Hospital\n1216 Second St. SW\n  Rochester, MN 55902\nContact Number:\nGeneral number    507-266-7890\n...\nRochester, Minnesota, Office of Patient Experience\n844-544-0036 (toll-free)\n...\n\"\"\"\npattern = r\"Mayo Clinic Hospital\\s+(?:including\\s+[^.]+\\s+)?([\\w\\s]+\\n\\d+\\.\\s+[\\w\\s]+)\\n([\\w\\s,]+)\\nContact Number:\\nGeneral number\\s+(\\d{3}-\\d{3}-\\d{4})\"\nmatch = re.search(pattern, text)\nif match:\n    university_name, address, contact_number = match.groups()\n    print(\"University Name:\", university_name)\n    print(\"Address:\", address)\n    print(\"Contact Number:\", contact_number)\nelse:\n    print(\"Unable to extract the address from the text.\")\n```\n\nOutput:\n\n```\nUniversity Name: Mayo Clinic Hospital, Saint Marys Campus including Mayo Eugenio Litta Children's Hospital\nAddress: 1216 Second St. SW   Rochester, MN 55902\nContact Number: 507-266-7890\n```",
     "output_type": "error",
     "traceback": [
      "\u001b[1;31m---------------------------------------------------------------------------\u001b[0m",
      "\u001b[1;31mJSONDecodeError\u001b[0m                           Traceback (most recent call last)",
      "File \u001b[1;32mc:\\Users\\Barani\\Desktop\\local_ollama\\ollama_2\\Lib\\site-packages\\langchain_core\\output_parsers\\json.py:212\u001b[0m, in \u001b[0;36mJsonOutputParser.parse_result\u001b[1;34m(self, result, partial)\u001b[0m\n\u001b[0;32m    211\u001b[0m \u001b[38;5;28;01mtry\u001b[39;00m:\n\u001b[1;32m--> 212\u001b[0m     \u001b[38;5;28;01mreturn\u001b[39;00m \u001b[43mparse_json_markdown\u001b[49m\u001b[43m(\u001b[49m\u001b[43mtext\u001b[49m\u001b[43m)\u001b[49m\n\u001b[0;32m    213\u001b[0m \u001b[38;5;28;01mexcept\u001b[39;00m JSONDecodeError \u001b[38;5;28;01mas\u001b[39;00m e:\n",
      "File \u001b[1;32mc:\\Users\\Barani\\Desktop\\local_ollama\\ollama_2\\Lib\\site-packages\\langchain_core\\output_parsers\\json.py:157\u001b[0m, in \u001b[0;36mparse_json_markdown\u001b[1;34m(json_string, parser)\u001b[0m\n\u001b[0;32m    156\u001b[0m \u001b[38;5;66;03m# Parse the JSON string into a Python dictionary\u001b[39;00m\n\u001b[1;32m--> 157\u001b[0m parsed \u001b[38;5;241m=\u001b[39m \u001b[43mparser\u001b[49m\u001b[43m(\u001b[49m\u001b[43mjson_str\u001b[49m\u001b[43m)\u001b[49m\n\u001b[0;32m    159\u001b[0m \u001b[38;5;28;01mreturn\u001b[39;00m parsed\n",
      "File \u001b[1;32mc:\\Users\\Barani\\Desktop\\local_ollama\\ollama_2\\Lib\\site-packages\\langchain_core\\output_parsers\\json.py:125\u001b[0m, in \u001b[0;36mparse_partial_json\u001b[1;34m(s, strict)\u001b[0m\n\u001b[0;32m    122\u001b[0m \u001b[38;5;66;03m# If we got here, we ran out of characters to remove\u001b[39;00m\n\u001b[0;32m    123\u001b[0m \u001b[38;5;66;03m# and still couldn't parse the string as JSON, so return the parse error\u001b[39;00m\n\u001b[0;32m    124\u001b[0m \u001b[38;5;66;03m# for the original string.\u001b[39;00m\n\u001b[1;32m--> 125\u001b[0m \u001b[38;5;28;01mreturn\u001b[39;00m \u001b[43mjson\u001b[49m\u001b[38;5;241;43m.\u001b[39;49m\u001b[43mloads\u001b[49m\u001b[43m(\u001b[49m\u001b[43ms\u001b[49m\u001b[43m,\u001b[49m\u001b[43m \u001b[49m\u001b[43mstrict\u001b[49m\u001b[38;5;241;43m=\u001b[39;49m\u001b[43mstrict\u001b[49m\u001b[43m)\u001b[49m\n",
      "File \u001b[1;32m~\\miniconda3\\Lib\\json\\__init__.py:359\u001b[0m, in \u001b[0;36mloads\u001b[1;34m(s, cls, object_hook, parse_float, parse_int, parse_constant, object_pairs_hook, **kw)\u001b[0m\n\u001b[0;32m    358\u001b[0m     kw[\u001b[38;5;124m'\u001b[39m\u001b[38;5;124mparse_constant\u001b[39m\u001b[38;5;124m'\u001b[39m] \u001b[38;5;241m=\u001b[39m parse_constant\n\u001b[1;32m--> 359\u001b[0m \u001b[38;5;28;01mreturn\u001b[39;00m \u001b[38;5;28;43mcls\u001b[39;49m\u001b[43m(\u001b[49m\u001b[38;5;241;43m*\u001b[39;49m\u001b[38;5;241;43m*\u001b[39;49m\u001b[43mkw\u001b[49m\u001b[43m)\u001b[49m\u001b[38;5;241;43m.\u001b[39;49m\u001b[43mdecode\u001b[49m\u001b[43m(\u001b[49m\u001b[43ms\u001b[49m\u001b[43m)\u001b[49m\n",
      "File \u001b[1;32m~\\miniconda3\\Lib\\json\\decoder.py:337\u001b[0m, in \u001b[0;36mJSONDecoder.decode\u001b[1;34m(self, s, _w)\u001b[0m\n\u001b[0;32m    333\u001b[0m \u001b[38;5;250m\u001b[39m\u001b[38;5;124;03m\"\"\"Return the Python representation of ``s`` (a ``str`` instance\u001b[39;00m\n\u001b[0;32m    334\u001b[0m \u001b[38;5;124;03mcontaining a JSON document).\u001b[39;00m\n\u001b[0;32m    335\u001b[0m \n\u001b[0;32m    336\u001b[0m \u001b[38;5;124;03m\"\"\"\u001b[39;00m\n\u001b[1;32m--> 337\u001b[0m obj, end \u001b[38;5;241m=\u001b[39m \u001b[38;5;28;43mself\u001b[39;49m\u001b[38;5;241;43m.\u001b[39;49m\u001b[43mraw_decode\u001b[49m\u001b[43m(\u001b[49m\u001b[43ms\u001b[49m\u001b[43m,\u001b[49m\u001b[43m \u001b[49m\u001b[43midx\u001b[49m\u001b[38;5;241;43m=\u001b[39;49m\u001b[43m_w\u001b[49m\u001b[43m(\u001b[49m\u001b[43ms\u001b[49m\u001b[43m,\u001b[49m\u001b[43m \u001b[49m\u001b[38;5;241;43m0\u001b[39;49m\u001b[43m)\u001b[49m\u001b[38;5;241;43m.\u001b[39;49m\u001b[43mend\u001b[49m\u001b[43m(\u001b[49m\u001b[43m)\u001b[49m\u001b[43m)\u001b[49m\n\u001b[0;32m    338\u001b[0m end \u001b[38;5;241m=\u001b[39m _w(s, end)\u001b[38;5;241m.\u001b[39mend()\n",
      "File \u001b[1;32m~\\miniconda3\\Lib\\json\\decoder.py:355\u001b[0m, in \u001b[0;36mJSONDecoder.raw_decode\u001b[1;34m(self, s, idx)\u001b[0m\n\u001b[0;32m    354\u001b[0m \u001b[38;5;28;01mexcept\u001b[39;00m \u001b[38;5;167;01mStopIteration\u001b[39;00m \u001b[38;5;28;01mas\u001b[39;00m err:\n\u001b[1;32m--> 355\u001b[0m     \u001b[38;5;28;01mraise\u001b[39;00m JSONDecodeError(\u001b[38;5;124m\"\u001b[39m\u001b[38;5;124mExpecting value\u001b[39m\u001b[38;5;124m\"\u001b[39m, s, err\u001b[38;5;241m.\u001b[39mvalue) \u001b[38;5;28;01mfrom\u001b[39;00m \u001b[38;5;28;01mNone\u001b[39;00m\n\u001b[0;32m    356\u001b[0m \u001b[38;5;28;01mreturn\u001b[39;00m obj, end\n",
      "\u001b[1;31mJSONDecodeError\u001b[0m: Expecting value: line 1 column 1 (char 0)",
      "\nThe above exception was the direct cause of the following exception:\n",
      "\u001b[1;31mOutputParserException\u001b[0m                     Traceback (most recent call last)",
      "Cell \u001b[1;32mIn[15], line 1\u001b[0m\n\u001b[1;32m----> 1\u001b[0m \u001b[38;5;28mprint\u001b[39m(\u001b[43mafter_rag_chain\u001b[49m\u001b[38;5;241;43m.\u001b[39;49m\u001b[43minvoke\u001b[49m\u001b[43m(\u001b[49m\u001b[38;5;124;43m\"\u001b[39;49m\u001b[38;5;124;43mprovide the address of Mayo clinic which is in Minnesota\u001b[39;49m\u001b[38;5;124;43m\"\u001b[39;49m\u001b[43m)\u001b[49m)\n",
      "File \u001b[1;32mc:\\Users\\Barani\\Desktop\\local_ollama\\ollama_2\\Lib\\site-packages\\langchain_core\\runnables\\base.py:2218\u001b[0m, in \u001b[0;36mRunnableSequence.invoke\u001b[1;34m(self, input, config)\u001b[0m\n\u001b[0;32m   2216\u001b[0m \u001b[38;5;28;01mtry\u001b[39;00m:\n\u001b[0;32m   2217\u001b[0m     \u001b[38;5;28;01mfor\u001b[39;00m i, step \u001b[38;5;129;01min\u001b[39;00m \u001b[38;5;28menumerate\u001b[39m(\u001b[38;5;28mself\u001b[39m\u001b[38;5;241m.\u001b[39msteps):\n\u001b[1;32m-> 2218\u001b[0m         \u001b[38;5;28minput\u001b[39m \u001b[38;5;241m=\u001b[39m \u001b[43mstep\u001b[49m\u001b[38;5;241;43m.\u001b[39;49m\u001b[43minvoke\u001b[49m\u001b[43m(\u001b[49m\n\u001b[0;32m   2219\u001b[0m \u001b[43m            \u001b[49m\u001b[38;5;28;43minput\u001b[39;49m\u001b[43m,\u001b[49m\n\u001b[0;32m   2220\u001b[0m \u001b[43m            \u001b[49m\u001b[38;5;66;43;03m# mark each step as a child run\u001b[39;49;00m\n\u001b[0;32m   2221\u001b[0m \u001b[43m            \u001b[49m\u001b[43mpatch_config\u001b[49m\u001b[43m(\u001b[49m\n\u001b[0;32m   2222\u001b[0m \u001b[43m                \u001b[49m\u001b[43mconfig\u001b[49m\u001b[43m,\u001b[49m\u001b[43m \u001b[49m\u001b[43mcallbacks\u001b[49m\u001b[38;5;241;43m=\u001b[39;49m\u001b[43mrun_manager\u001b[49m\u001b[38;5;241;43m.\u001b[39;49m\u001b[43mget_child\u001b[49m\u001b[43m(\u001b[49m\u001b[38;5;124;43mf\u001b[39;49m\u001b[38;5;124;43m\"\u001b[39;49m\u001b[38;5;124;43mseq:step:\u001b[39;49m\u001b[38;5;132;43;01m{\u001b[39;49;00m\u001b[43mi\u001b[49m\u001b[38;5;241;43m+\u001b[39;49m\u001b[38;5;241;43m1\u001b[39;49m\u001b[38;5;132;43;01m}\u001b[39;49;00m\u001b[38;5;124;43m\"\u001b[39;49m\u001b[43m)\u001b[49m\n\u001b[0;32m   2223\u001b[0m \u001b[43m            \u001b[49m\u001b[43m)\u001b[49m\u001b[43m,\u001b[49m\n\u001b[0;32m   2224\u001b[0m \u001b[43m        \u001b[49m\u001b[43m)\u001b[49m\n\u001b[0;32m   2225\u001b[0m \u001b[38;5;66;03m# finish the root run\u001b[39;00m\n\u001b[0;32m   2226\u001b[0m \u001b[38;5;28;01mexcept\u001b[39;00m \u001b[38;5;167;01mBaseException\u001b[39;00m \u001b[38;5;28;01mas\u001b[39;00m e:\n",
      "File \u001b[1;32mc:\\Users\\Barani\\Desktop\\local_ollama\\ollama_2\\Lib\\site-packages\\langchain_core\\output_parsers\\base.py:169\u001b[0m, in \u001b[0;36mBaseOutputParser.invoke\u001b[1;34m(self, input, config)\u001b[0m\n\u001b[0;32m    165\u001b[0m \u001b[38;5;28;01mdef\u001b[39;00m \u001b[38;5;21minvoke\u001b[39m(\n\u001b[0;32m    166\u001b[0m     \u001b[38;5;28mself\u001b[39m, \u001b[38;5;28minput\u001b[39m: Union[\u001b[38;5;28mstr\u001b[39m, BaseMessage], config: Optional[RunnableConfig] \u001b[38;5;241m=\u001b[39m \u001b[38;5;28;01mNone\u001b[39;00m\n\u001b[0;32m    167\u001b[0m ) \u001b[38;5;241m-\u001b[39m\u001b[38;5;241m>\u001b[39m T:\n\u001b[0;32m    168\u001b[0m     \u001b[38;5;28;01mif\u001b[39;00m \u001b[38;5;28misinstance\u001b[39m(\u001b[38;5;28minput\u001b[39m, BaseMessage):\n\u001b[1;32m--> 169\u001b[0m         \u001b[38;5;28;01mreturn\u001b[39;00m \u001b[38;5;28;43mself\u001b[39;49m\u001b[38;5;241;43m.\u001b[39;49m\u001b[43m_call_with_config\u001b[49m\u001b[43m(\u001b[49m\n\u001b[0;32m    170\u001b[0m \u001b[43m            \u001b[49m\u001b[38;5;28;43;01mlambda\u001b[39;49;00m\u001b[43m \u001b[49m\u001b[43minner_input\u001b[49m\u001b[43m:\u001b[49m\u001b[43m \u001b[49m\u001b[38;5;28;43mself\u001b[39;49m\u001b[38;5;241;43m.\u001b[39;49m\u001b[43mparse_result\u001b[49m\u001b[43m(\u001b[49m\n\u001b[0;32m    171\u001b[0m \u001b[43m                \u001b[49m\u001b[43m[\u001b[49m\u001b[43mChatGeneration\u001b[49m\u001b[43m(\u001b[49m\u001b[43mmessage\u001b[49m\u001b[38;5;241;43m=\u001b[39;49m\u001b[43minner_input\u001b[49m\u001b[43m)\u001b[49m\u001b[43m]\u001b[49m\n\u001b[0;32m    172\u001b[0m \u001b[43m            \u001b[49m\u001b[43m)\u001b[49m\u001b[43m,\u001b[49m\n\u001b[0;32m    173\u001b[0m \u001b[43m            \u001b[49m\u001b[38;5;28;43minput\u001b[39;49m\u001b[43m,\u001b[49m\n\u001b[0;32m    174\u001b[0m \u001b[43m            \u001b[49m\u001b[43mconfig\u001b[49m\u001b[43m,\u001b[49m\n\u001b[0;32m    175\u001b[0m \u001b[43m            \u001b[49m\u001b[43mrun_type\u001b[49m\u001b[38;5;241;43m=\u001b[39;49m\u001b[38;5;124;43m\"\u001b[39;49m\u001b[38;5;124;43mparser\u001b[39;49m\u001b[38;5;124;43m\"\u001b[39;49m\u001b[43m,\u001b[49m\n\u001b[0;32m    176\u001b[0m \u001b[43m        \u001b[49m\u001b[43m)\u001b[49m\n\u001b[0;32m    177\u001b[0m     \u001b[38;5;28;01melse\u001b[39;00m:\n\u001b[0;32m    178\u001b[0m         \u001b[38;5;28;01mreturn\u001b[39;00m \u001b[38;5;28mself\u001b[39m\u001b[38;5;241m.\u001b[39m_call_with_config(\n\u001b[0;32m    179\u001b[0m             \u001b[38;5;28;01mlambda\u001b[39;00m inner_input: \u001b[38;5;28mself\u001b[39m\u001b[38;5;241m.\u001b[39mparse_result([Generation(text\u001b[38;5;241m=\u001b[39minner_input)]),\n\u001b[0;32m    180\u001b[0m             \u001b[38;5;28minput\u001b[39m,\n\u001b[0;32m    181\u001b[0m             config,\n\u001b[0;32m    182\u001b[0m             run_type\u001b[38;5;241m=\u001b[39m\u001b[38;5;124m\"\u001b[39m\u001b[38;5;124mparser\u001b[39m\u001b[38;5;124m\"\u001b[39m,\n\u001b[0;32m    183\u001b[0m         )\n",
      "File \u001b[1;32mc:\\Users\\Barani\\Desktop\\local_ollama\\ollama_2\\Lib\\site-packages\\langchain_core\\runnables\\base.py:1405\u001b[0m, in \u001b[0;36mRunnable._call_with_config\u001b[1;34m(self, func, input, config, run_type, **kwargs)\u001b[0m\n\u001b[0;32m   1401\u001b[0m     context \u001b[38;5;241m=\u001b[39m copy_context()\n\u001b[0;32m   1402\u001b[0m     context\u001b[38;5;241m.\u001b[39mrun(var_child_runnable_config\u001b[38;5;241m.\u001b[39mset, child_config)\n\u001b[0;32m   1403\u001b[0m     output \u001b[38;5;241m=\u001b[39m cast(\n\u001b[0;32m   1404\u001b[0m         Output,\n\u001b[1;32m-> 1405\u001b[0m         \u001b[43mcontext\u001b[49m\u001b[38;5;241;43m.\u001b[39;49m\u001b[43mrun\u001b[49m\u001b[43m(\u001b[49m\n\u001b[0;32m   1406\u001b[0m \u001b[43m            \u001b[49m\u001b[43mcall_func_with_variable_args\u001b[49m\u001b[43m,\u001b[49m\u001b[43m  \u001b[49m\u001b[38;5;66;43;03m# type: ignore[arg-type]\u001b[39;49;00m\n\u001b[0;32m   1407\u001b[0m \u001b[43m            \u001b[49m\u001b[43mfunc\u001b[49m\u001b[43m,\u001b[49m\u001b[43m  \u001b[49m\u001b[38;5;66;43;03m# type: ignore[arg-type]\u001b[39;49;00m\n\u001b[0;32m   1408\u001b[0m \u001b[43m            \u001b[49m\u001b[38;5;28;43minput\u001b[39;49m\u001b[43m,\u001b[49m\u001b[43m  \u001b[49m\u001b[38;5;66;43;03m# type: ignore[arg-type]\u001b[39;49;00m\n\u001b[0;32m   1409\u001b[0m \u001b[43m            \u001b[49m\u001b[43mconfig\u001b[49m\u001b[43m,\u001b[49m\n\u001b[0;32m   1410\u001b[0m \u001b[43m            \u001b[49m\u001b[43mrun_manager\u001b[49m\u001b[43m,\u001b[49m\n\u001b[0;32m   1411\u001b[0m \u001b[43m            \u001b[49m\u001b[38;5;241;43m*\u001b[39;49m\u001b[38;5;241;43m*\u001b[39;49m\u001b[43mkwargs\u001b[49m\u001b[43m,\u001b[49m\n\u001b[0;32m   1412\u001b[0m \u001b[43m        \u001b[49m\u001b[43m)\u001b[49m,\n\u001b[0;32m   1413\u001b[0m     )\n\u001b[0;32m   1414\u001b[0m \u001b[38;5;28;01mexcept\u001b[39;00m \u001b[38;5;167;01mBaseException\u001b[39;00m \u001b[38;5;28;01mas\u001b[39;00m e:\n\u001b[0;32m   1415\u001b[0m     run_manager\u001b[38;5;241m.\u001b[39mon_chain_error(e)\n",
      "File \u001b[1;32mc:\\Users\\Barani\\Desktop\\local_ollama\\ollama_2\\Lib\\site-packages\\langchain_core\\runnables\\config.py:326\u001b[0m, in \u001b[0;36mcall_func_with_variable_args\u001b[1;34m(func, input, config, run_manager, **kwargs)\u001b[0m\n\u001b[0;32m    324\u001b[0m \u001b[38;5;28;01mif\u001b[39;00m run_manager \u001b[38;5;129;01mis\u001b[39;00m \u001b[38;5;129;01mnot\u001b[39;00m \u001b[38;5;28;01mNone\u001b[39;00m \u001b[38;5;129;01mand\u001b[39;00m accepts_run_manager(func):\n\u001b[0;32m    325\u001b[0m     kwargs[\u001b[38;5;124m\"\u001b[39m\u001b[38;5;124mrun_manager\u001b[39m\u001b[38;5;124m\"\u001b[39m] \u001b[38;5;241m=\u001b[39m run_manager\n\u001b[1;32m--> 326\u001b[0m \u001b[38;5;28;01mreturn\u001b[39;00m \u001b[43mfunc\u001b[49m\u001b[43m(\u001b[49m\u001b[38;5;28;43minput\u001b[39;49m\u001b[43m,\u001b[49m\u001b[43m \u001b[49m\u001b[38;5;241;43m*\u001b[39;49m\u001b[38;5;241;43m*\u001b[39;49m\u001b[43mkwargs\u001b[49m\u001b[43m)\u001b[49m\n",
      "File \u001b[1;32mc:\\Users\\Barani\\Desktop\\local_ollama\\ollama_2\\Lib\\site-packages\\langchain_core\\output_parsers\\base.py:170\u001b[0m, in \u001b[0;36mBaseOutputParser.invoke.<locals>.<lambda>\u001b[1;34m(inner_input)\u001b[0m\n\u001b[0;32m    165\u001b[0m \u001b[38;5;28;01mdef\u001b[39;00m \u001b[38;5;21minvoke\u001b[39m(\n\u001b[0;32m    166\u001b[0m     \u001b[38;5;28mself\u001b[39m, \u001b[38;5;28minput\u001b[39m: Union[\u001b[38;5;28mstr\u001b[39m, BaseMessage], config: Optional[RunnableConfig] \u001b[38;5;241m=\u001b[39m \u001b[38;5;28;01mNone\u001b[39;00m\n\u001b[0;32m    167\u001b[0m ) \u001b[38;5;241m-\u001b[39m\u001b[38;5;241m>\u001b[39m T:\n\u001b[0;32m    168\u001b[0m     \u001b[38;5;28;01mif\u001b[39;00m \u001b[38;5;28misinstance\u001b[39m(\u001b[38;5;28minput\u001b[39m, BaseMessage):\n\u001b[0;32m    169\u001b[0m         \u001b[38;5;28;01mreturn\u001b[39;00m \u001b[38;5;28mself\u001b[39m\u001b[38;5;241m.\u001b[39m_call_with_config(\n\u001b[1;32m--> 170\u001b[0m             \u001b[38;5;28;01mlambda\u001b[39;00m inner_input: \u001b[38;5;28;43mself\u001b[39;49m\u001b[38;5;241;43m.\u001b[39;49m\u001b[43mparse_result\u001b[49m\u001b[43m(\u001b[49m\n\u001b[0;32m    171\u001b[0m \u001b[43m                \u001b[49m\u001b[43m[\u001b[49m\u001b[43mChatGeneration\u001b[49m\u001b[43m(\u001b[49m\u001b[43mmessage\u001b[49m\u001b[38;5;241;43m=\u001b[39;49m\u001b[43minner_input\u001b[49m\u001b[43m)\u001b[49m\u001b[43m]\u001b[49m\n\u001b[0;32m    172\u001b[0m \u001b[43m            \u001b[49m\u001b[43m)\u001b[49m,\n\u001b[0;32m    173\u001b[0m             \u001b[38;5;28minput\u001b[39m,\n\u001b[0;32m    174\u001b[0m             config,\n\u001b[0;32m    175\u001b[0m             run_type\u001b[38;5;241m=\u001b[39m\u001b[38;5;124m\"\u001b[39m\u001b[38;5;124mparser\u001b[39m\u001b[38;5;124m\"\u001b[39m,\n\u001b[0;32m    176\u001b[0m         )\n\u001b[0;32m    177\u001b[0m     \u001b[38;5;28;01melse\u001b[39;00m:\n\u001b[0;32m    178\u001b[0m         \u001b[38;5;28;01mreturn\u001b[39;00m \u001b[38;5;28mself\u001b[39m\u001b[38;5;241m.\u001b[39m_call_with_config(\n\u001b[0;32m    179\u001b[0m             \u001b[38;5;28;01mlambda\u001b[39;00m inner_input: \u001b[38;5;28mself\u001b[39m\u001b[38;5;241m.\u001b[39mparse_result([Generation(text\u001b[38;5;241m=\u001b[39minner_input)]),\n\u001b[0;32m    180\u001b[0m             \u001b[38;5;28minput\u001b[39m,\n\u001b[0;32m    181\u001b[0m             config,\n\u001b[0;32m    182\u001b[0m             run_type\u001b[38;5;241m=\u001b[39m\u001b[38;5;124m\"\u001b[39m\u001b[38;5;124mparser\u001b[39m\u001b[38;5;124m\"\u001b[39m,\n\u001b[0;32m    183\u001b[0m         )\n",
      "File \u001b[1;32mc:\\Users\\Barani\\Desktop\\local_ollama\\ollama_2\\Lib\\site-packages\\langchain_core\\output_parsers\\json.py:215\u001b[0m, in \u001b[0;36mJsonOutputParser.parse_result\u001b[1;34m(self, result, partial)\u001b[0m\n\u001b[0;32m    213\u001b[0m \u001b[38;5;28;01mexcept\u001b[39;00m JSONDecodeError \u001b[38;5;28;01mas\u001b[39;00m e:\n\u001b[0;32m    214\u001b[0m     msg \u001b[38;5;241m=\u001b[39m \u001b[38;5;124mf\u001b[39m\u001b[38;5;124m\"\u001b[39m\u001b[38;5;124mInvalid json output: \u001b[39m\u001b[38;5;132;01m{\u001b[39;00mtext\u001b[38;5;132;01m}\u001b[39;00m\u001b[38;5;124m\"\u001b[39m\n\u001b[1;32m--> 215\u001b[0m     \u001b[38;5;28;01mraise\u001b[39;00m OutputParserException(msg, llm_output\u001b[38;5;241m=\u001b[39mtext) \u001b[38;5;28;01mfrom\u001b[39;00m \u001b[38;5;21;01me\u001b[39;00m\n",
      "\u001b[1;31mOutputParserException\u001b[0m: Invalid json output: To provide the specific address of Mayo Clinic located in Minnesota from the given text, you can extract it using regular expressions. Here's how to do it in Python:\n\n```python\nimport re\ntext = \"\"\"...\nMayo Clinic Hospital, Saint Marys Campus\nincluding Mayo Eugenio Litta Children's Hospital\n1216 Second St. SW\n  Rochester, MN 55902\nContact Number:\nGeneral number    507-266-7890\n...\nRochester, Minnesota, Office of Patient Experience\n844-544-0036 (toll-free)\n...\n\"\"\"\npattern = r\"Mayo Clinic Hospital\\s+(?:including\\s+[^.]+\\s+)?([\\w\\s]+\\n\\d+\\.\\s+[\\w\\s]+)\\n([\\w\\s,]+)\\nContact Number:\\nGeneral number\\s+(\\d{3}-\\d{3}-\\d{4})\"\nmatch = re.search(pattern, text)\nif match:\n    university_name, address, contact_number = match.groups()\n    print(\"University Name:\", university_name)\n    print(\"Address:\", address)\n    print(\"Contact Number:\", contact_number)\nelse:\n    print(\"Unable to extract the address from the text.\")\n```\n\nOutput:\n\n```\nUniversity Name: Mayo Clinic Hospital, Saint Marys Campus including Mayo Eugenio Litta Children's Hospital\nAddress: 1216 Second St. SW   Rochester, MN 55902\nContact Number: 507-266-7890\n```"
     ]
    }
   ],
   "source": [
    "print(after_rag_chain.invoke(\"provide the address of Mayo clinic which is in Minnesota\"))"
   ]
  },
  {
   "cell_type": "code",
   "execution_count": null,
   "metadata": {},
   "outputs": [],
   "source": []
  }
 ],
 "metadata": {
  "kernelspec": {
   "display_name": "ollama",
   "language": "python",
   "name": "python3"
  },
  "language_info": {
   "codemirror_mode": {
    "name": "ipython",
    "version": 3
   },
   "file_extension": ".py",
   "mimetype": "text/x-python",
   "name": "python",
   "nbconvert_exporter": "python",
   "pygments_lexer": "ipython3",
   "version": "3.11.5"
  }
 },
 "nbformat": 4,
 "nbformat_minor": 2
}
