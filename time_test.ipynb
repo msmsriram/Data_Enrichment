{
 "cells": [
  {
   "cell_type": "code",
   "execution_count": 1,
   "metadata": {},
   "outputs": [],
   "source": [
    "from langchain.globals import set_llm_cache\n",
    "# from langchain_openai import OpenAI\n",
    "from langchain_community.chat_models import ChatOllama\n",
    "\n",
    "# To make the caching really obvious, lets use a slower model.\n",
    "# llm = OpenAI(model_name=\"gpt-3.5-turbo-instruct\", n=2, best_of=2)\n",
    "model_local = ChatOllama(model=\"mistral\",temperature=0)"
   ]
  },
  {
   "cell_type": "code",
   "execution_count": 2,
   "metadata": {},
   "outputs": [],
   "source": [
    "from langchain.cache import InMemoryCache\n"
   ]
  },
  {
   "cell_type": "code",
   "execution_count": 3,
   "metadata": {},
   "outputs": [],
   "source": [
    "set_llm_cache(InMemoryCache())"
   ]
  },
  {
   "cell_type": "code",
   "execution_count": 4,
   "metadata": {},
   "outputs": [
    {
     "data": {
      "text/plain": [
       "AIMessage(content=\" Why don't scientists trust atoms?\\n\\nBecause they make up everything!\", response_metadata={'model': 'mistral', 'created_at': '2024-04-08T07:09:33.2889927Z', 'message': {'role': 'assistant', 'content': ''}, 'done': True, 'total_duration': 8511613700, 'load_duration': 6346988100, 'prompt_eval_count': 13, 'prompt_eval_duration': 711905000, 'eval_count': 17, 'eval_duration': 1440983000}, id='run-4b98566a-51d7-432f-9b7a-e05449f63c98-0')"
      ]
     },
     "execution_count": 4,
     "metadata": {},
     "output_type": "execute_result"
    }
   ],
   "source": [
    "model_local.invoke(\"Tell me a joke\")\n"
   ]
  },
  {
   "cell_type": "code",
   "execution_count": 5,
   "metadata": {},
   "outputs": [
    {
     "data": {
      "text/plain": [
       "AIMessage(content=\" Why don't scientists trust atoms?\\n\\nBecause they make up everything!\", response_metadata={'model': 'mistral', 'created_at': '2024-04-08T07:09:33.2889927Z', 'message': {'role': 'assistant', 'content': ''}, 'done': True, 'total_duration': 8511613700, 'load_duration': 6346988100, 'prompt_eval_count': 13, 'prompt_eval_duration': 711905000, 'eval_count': 17, 'eval_duration': 1440983000}, id='run-4b98566a-51d7-432f-9b7a-e05449f63c98-0')"
      ]
     },
     "execution_count": 5,
     "metadata": {},
     "output_type": "execute_result"
    }
   ],
   "source": [
    "model_local.invoke(\"Tell me a joke\")"
   ]
  },
  {
   "cell_type": "code",
   "execution_count": 7,
   "metadata": {},
   "outputs": [],
   "source": [
    "import streamlit as st\n",
    "import pandas as pd\n",
    "from langchain_community.document_loaders import WebBaseLoader\n",
    "from langchain_community.document_loaders import PyPDFLoader\n",
    "from langchain_community.vectorstores import Chroma\n",
    "from langchain_community import embeddings\n",
    "from langchain_community.chat_models import ChatOllama\n",
    "from langchain_core.runnables import RunnablePassthrough\n",
    "from langchain_core.output_parsers import StrOutputParser\n",
    "from langchain_core.prompts import ChatPromptTemplate\n",
    "from langchain.output_parsers import PydanticOutputParser\n",
    "from langchain.text_splitter import CharacterTextSplitter\n",
    "from langchain_community.document_loaders import BSHTMLLoader\n",
    "from langchain_core.output_parsers import JsonOutputParser\n",
    "from langchain_core.pydantic_v1 import BaseModel, Field\n",
    "from langchain_community.vectorstores import FAISS\n",
    "from langchain.cache import InMemoryCache\n",
    "from langchain.globals import set_llm_cache"
   ]
  },
  {
   "cell_type": "code",
   "execution_count": 6,
   "metadata": {},
   "outputs": [],
   "source": [
    "model_local = ChatOllama(model=\"mistral\",temperature=0)\n",
    "set_llm_cache(InMemoryCache())"
   ]
  },
  {
   "cell_type": "code",
   "execution_count": 8,
   "metadata": {},
   "outputs": [],
   "source": [
    "embedding = embeddings.OllamaEmbeddings(model='nomic-embed-text')\n",
    "\n",
    "vectorstore = FAISS.load_local(\"db_demos/test_9\", embedding,allow_dangerous_deserialization=True)\n",
    "retriever = vectorstore.as_retriever()"
   ]
  },
  {
   "cell_type": "code",
   "execution_count": 9,
   "metadata": {},
   "outputs": [],
   "source": [
    "class format_json(BaseModel):\n",
    "                university_name : str = Field(description=\"organization name from the given context\")\n",
    "                address: str = Field(description=\"address from the given context\")\n",
    "                email_address: str = Field(description=\"email address from the given context\")\n",
    "                contact_number: str = Field(description=\"contact number from the given context\")"
   ]
  },
  {
   "cell_type": "code",
   "execution_count": 10,
   "metadata": {},
   "outputs": [],
   "source": [
    "after_rag_template = \"\"\"Answer the question based only on the following context:\n",
    "            {context} and only provide these details in this order only and the response will always will be containing these informations only such as address,contact number,email address in a json format\n",
    "            {format_instructions}\n",
    "            Question: {question}\n",
    "            \"\"\""
   ]
  },
  {
   "cell_type": "code",
   "execution_count": 14,
   "metadata": {},
   "outputs": [],
   "source": [
    "parser = JsonOutputParser(pydantic_object=format_json)\n",
    "after_rag_prompt = ChatPromptTemplate.from_template(after_rag_template,partial_variables={\"format_instructions\": parser.get_format_instructions()},)\n",
    "after_rag_chain = (\n",
    "                        {\"context\": retriever, \"question\": RunnablePassthrough()}\n",
    "                        | after_rag_prompt\n",
    "                        | model_local\n",
    "                        | parser\n",
    "                    )"
   ]
  },
  {
   "cell_type": "code",
   "execution_count": 15,
   "metadata": {},
   "outputs": [
    {
     "data": {
      "text/plain": [
       "{'university_name': 'Leiden University Medical Center (LUMC)',\n",
       " 'address': 'Weg-van-Schenckstraat 25, 2311 GP Leiden, The Netherlands',\n",
       " 'email_address': 'pers@lumc.nl',\n",
       " 'contact_number': '+31 (0)6 11 37 11 46'}"
      ]
     },
     "execution_count": 15,
     "metadata": {},
     "output_type": "execute_result"
    }
   ],
   "source": [
    "after_rag_chain.invoke(\"provide the metioned details from the context and make sure you providing them from the given context\")"
   ]
  },
  {
   "cell_type": "code",
   "execution_count": 20,
   "metadata": {},
   "outputs": [
    {
     "data": {
      "text/plain": [
       "{'university_name': 'Leiden University Medical Center (LUMC)',\n",
       " 'address': 'Weg-van-Schenckstraat 25, 2311 GP Leiden, The Netherlands',\n",
       " 'email_address': 'pers@lumc.nl',\n",
       " 'contact_number': '+31 (0)6 11 37 11 46'}"
      ]
     },
     "execution_count": 20,
     "metadata": {},
     "output_type": "execute_result"
    }
   ],
   "source": [
    "after_rag_chain.invoke(\"provide the metioned details from the context and make sure you providing them from the given context\")"
   ]
  },
  {
   "cell_type": "code",
   "execution_count": null,
   "metadata": {},
   "outputs": [],
   "source": []
  }
 ],
 "metadata": {
  "kernelspec": {
   "display_name": "ollama_2",
   "language": "python",
   "name": "python3"
  },
  "language_info": {
   "codemirror_mode": {
    "name": "ipython",
    "version": 3
   },
   "file_extension": ".py",
   "mimetype": "text/x-python",
   "name": "python",
   "nbconvert_exporter": "python",
   "pygments_lexer": "ipython3",
   "version": "3.11.5"
  }
 },
 "nbformat": 4,
 "nbformat_minor": 2
}
