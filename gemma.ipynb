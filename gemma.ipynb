{
 "cells": [
  {
   "cell_type": "code",
   "execution_count": 1,
   "metadata": {},
   "outputs": [],
   "source": [
    "import pandas as pd\n",
    "from langchain_community.document_loaders import WebBaseLoader\n",
    "from langchain_community.document_loaders import PyPDFLoader\n",
    "from langchain_community.vectorstores import Chroma\n",
    "from langchain_community import embeddings\n",
    "from langchain_community.chat_models import ChatOllama\n",
    "from langchain_core.runnables import RunnablePassthrough\n",
    "from langchain_core.output_parsers import StrOutputParser\n",
    "from langchain_core.prompts import ChatPromptTemplate\n",
    "from langchain.output_parsers import PydanticOutputParser\n",
    "from langchain.text_splitter import CharacterTextSplitter\n",
    "from langchain_community.document_loaders import BSHTMLLoader\n",
    "from langchain_core.output_parsers import JsonOutputParser\n",
    "from langchain_core.pydantic_v1 import BaseModel, Field"
   ]
  },
  {
   "cell_type": "code",
   "execution_count": 2,
   "metadata": {},
   "outputs": [],
   "source": [
    "model_local = ChatOllama(model=\"mistral\")\n"
   ]
  },
  {
   "cell_type": "code",
   "execution_count": 3,
   "metadata": {},
   "outputs": [
    {
     "data": {
      "text/html": [
       "<div>\n",
       "<style scoped>\n",
       "    .dataframe tbody tr th:only-of-type {\n",
       "        vertical-align: middle;\n",
       "    }\n",
       "\n",
       "    .dataframe tbody tr th {\n",
       "        vertical-align: top;\n",
       "    }\n",
       "\n",
       "    .dataframe thead th {\n",
       "        text-align: right;\n",
       "    }\n",
       "</style>\n",
       "<table border=\"1\" class=\"dataframe\">\n",
       "  <thead>\n",
       "    <tr style=\"text-align: right;\">\n",
       "      <th></th>\n",
       "      <th>address</th>\n",
       "      <th>email_address</th>\n",
       "      <th>contact_number</th>\n",
       "    </tr>\n",
       "  </thead>\n",
       "  <tbody>\n",
       "  </tbody>\n",
       "</table>\n",
       "</div>"
      ],
      "text/plain": [
       "Empty DataFrame\n",
       "Columns: [address, email_address, contact_number]\n",
       "Index: []"
      ]
     },
     "execution_count": 3,
     "metadata": {},
     "output_type": "execute_result"
    }
   ],
   "source": [
    "df = pd.DataFrame(columns=[\"address\", \"email_address\", \"contact_number\"])\n",
    "df"
   ]
  },
  {
   "cell_type": "code",
   "execution_count": 15,
   "metadata": {},
   "outputs": [],
   "source": [
    "directory = \"C:\\\\Users\\\\Barani\\\\Desktop\\\\local_ollama\\\\llm_testing_urls\\\\test_5.html\""
   ]
  },
  {
   "cell_type": "code",
   "execution_count": 16,
   "metadata": {},
   "outputs": [
    {
     "data": {
      "text/plain": [
       "[Document(page_content='\\n\\n\\n\\n\\n\\n\\n\\n\\n\\n\\n\\n\\n\\n\\n\\n\\n   Contact Us - Wits University\\n  \\n\\n\\n\\n\\n\\n\\n\\n\\n\\n\\n\\n\\n\\n\\n\\n\\n\\n\\n\\n\\n\\n\\n\\n\\n\\n\\n\\n\\n\\n\\n\\n\\n\\n\\n\\n\\n\\n\\n\\n\\n\\n\\n\\n\\n\\n\\n\\n\\n\\n\\n\\n\\n\\n\\n\\n\\n\\n\\n\\n\\n\\n\\n\\n\\n\\n\\n\\n\\n\\n\\n\\n\\n\\n\\n\\n\\n           About\\n          \\n\\n\\n\\n           People/Staff\\n          \\n\\n\\n\\n           Alumni\\n          \\n\\n\\n\\n           Library\\n          \\n\\n\\n\\n           Visit Wits\\n          \\n\\n\\n\\n           Give\\n          \\n\\n\\n\\n           Wits100\\n          \\n\\n\\n\\n\\n\\n\\n\\n\\n\\n\\n\\n           Homepage\\n          \\n\\n\\n\\n\\n\\n\\n\\n             Study at Wits\\n            \\n\\n\\n\\n             Students\\n            \\n\\n\\n\\n             Faculties and Schools\\n            \\n\\n\\n\\n             Teaching and Learning\\n            \\n\\n\\n\\n             Research\\n            \\n\\n\\n\\n             News\\n            \\n\\n\\n\\n\\n\\n\\n\\n\\n          Search\\n         \\n\\n\\n\\n\\n\\n\\n          Search the site\\n         \\n\\n\\n\\n\\n\\n\\n\\n\\n\\n\\n              Search\\n             \\n\\n\\n\\n\\n\\n\\n\\n\\n\\n\\n\\n\\n\\n\\n\\n\\n\\n\\n\\n\\n        Menu\\n       \\n\\n\\n\\n        Search\\n        \\n\\n\\n\\n\\n\\n\\n\\n\\n\\n\\n         Search the site\\n        \\n\\n\\n\\n\\n\\n\\n\\n\\n\\n\\n             Search\\n            \\n\\n\\n\\n\\n\\n\\n\\n\\n\\n\\n\\n\\n\\n\\n\\n\\n\\n\\n\\n\\n\\n        Skip navigation and go to page content\\n       \\n\\n\\n\\n\\n\\n\\n          Sections\\n         \\n\\n\\n\\n          Study at Wits\\n         \\n\\n\\n\\n          Students\\n         \\n\\n\\n\\n          Faculties and Schools\\n         \\n\\n\\n\\n          Teaching and Learning\\n         \\n\\n\\n\\n          Research\\n         \\n\\n\\n\\n          News\\n         \\n\\n\\n\\n\\n\\n\\n\\n          About\\n         \\n\\n\\n\\n          People/Staff\\n         \\n\\n\\n\\n          Alumni\\n         \\n\\n\\n\\n          Library\\n         \\n\\n\\n\\n          Visit Wits\\n         \\n\\n\\n\\n          Give\\n         \\n\\n\\n\\n          Wits100\\n         \\n\\n\\n\\n\\n\\n\\n\\n\\n\\n\\n\\n\\n\\n\\n\\n\\n     Start main page content\\n    \\n\\n\\n\\n\\n\\n         Home\\n        \\n\\n\\n\\n\\n\\n         Faculties and Schools\\n        \\n\\n\\n\\n\\n\\n         Science\\n        \\n\\n\\n\\n\\n\\n         Schools\\n        \\n\\n\\n\\n\\n\\n         Chemistry\\n        \\n\\n\\n\\n\\n        Contact Us\\n       \\n\\n\\n\\n\\n\\n\\n\\n\\n\\n\\n         Contact Us\\n        \\n\\n         General enquiries\\n        \\n\\n         Tel: 27 11 717 6727\\n         \\n         e-mail:\\n         \\n\\n           dept@chem.wits.ac.za\\n          \\n\\n\\n\\n         Undergraduate enquiries\\n        \\n\\n         Mrs Gaby Meirim\\n         \\n\\n\\n           Gaby.Meirim@wits.ac.za\\n          \\n\\n\\n\\n         Postgraduate enquiries\\n        \\n\\n         Prof. Andreas Lemmerer\\n         \\n\\n\\n           Andreas.Lemmerer@wits.ac.za\\n          \\n\\n\\n\\n         Head of School\\n        \\n\\n         Prof. Charles de Koning\\n         \\n\\n\\n           Charles.DeKoning@wits.ac.za\\n          \\n\\n\\n\\n         School website and Twitter account\\n        \\n\\n         Prof. Marc Humphries\\n         \\n\\n\\n           Marc.humphries@wits.ac.za\\n          \\n\\n\\n\\n         Postal Address\\n        \\n\\n         School of Chemistry | University of the Witwatersrand | Private Bag 3 | PO WITS 2050 | South Africa\\n        \\n\\n         Physical Address\\n        \\n\\n         School of Chemistry (Humphrey Raikes Building) | University of the Witwatersrand | Jorissen Street | Braamfontein 2000 | Johannesburg, South Africa\\n        \\n\\n\\n\\n\\n\\n\\n\\n       Share\\n      \\n\\n\\n\\n\\n\\n\\n\\n\\n\\n\\n\\n            7\\n           \\n\\n\\n\\n\\n\\n\\n\\n\\n\\n\\n\\n\\n\\n            0\\n           \\n\\n\\n\\n\\n\\n\\n\\n\\n\\n\\n         In this section\\n        \\n\\n\\n\\n           About us\\n          \\n\\n\\n\\n           Undergraduate\\n          \\n\\n\\n\\n           Postgraduate\\n          \\n\\n\\n\\n           Research\\n          \\n\\n\\n\\n           Analytical facilities\\n          \\n\\n\\n\\n           Staff\\n          \\n\\n\\n\\n           News\\n          \\n\\n\\n\\n           Contact Us\\n          \\n\\n\\n\\n\\n\\n\\n\\n\\n\\n\\n\\n\\n\\n          Contact Us\\n         \\n\\n\\n\\n            General enquiries\\n           \\n\\n\\n\\n          Tel: +27 (0)11 717 1000\\n         \\n\\n\\n           Admission enquiries\\n          \\n\\n\\n          Tel: +27 (0)11 717 1888\\n         \\n\\n\\n\\n          Find Us\\n         \\n\\n          1 Jan Smuts Avenue,\\n         \\n\\n          Braamfontein 2000,\\n         \\n\\n          Johannesburg,\\n         \\n\\n          South Africa\\n         \\n\\n\\n\\n          Quicklinks\\n         \\n\\n\\n           Vacancies\\n          \\n\\n\\n\\n           Term dates\\n          \\n\\n\\n\\n           Tenders\\n          \\n\\n\\n\\n           Wits Shop\\n          \\n\\n\\n\\n\\n          Connect with us\\n         \\n\\n\\n\\n\\n\\n\\n\\n\\n\\n\\n\\n\\n\\n\\n\\n\\n\\n\\n\\n\\n\\n\\n\\n\\n\\n\\n\\n\\n\\n\\n\\n\\n\\n\\n\\n\\n\\n\\n\\n\\n\\n\\n\\n\\n\\n\\n           Give to Wits\\n          \\n\\n\\n\\n\\n\\n\\n\\n\\n\\n\\n\\n            Copyright Â© 2020-2023 - University of the Witwatersrand, Johannesburg.\\n           \\n\\n\\n             Terms and Conditions of Use\\n            \\n\\n             POPIA\\n            \\n\\n             PAIA\\n            \\n\\n             ISPA\\n            \\n\\n             Browser Support\\n            \\n\\n\\n\\n\\n\\n\\n\\n\\n\\n\\n\\n\\n\\n       Close\\n      \\n\\n\\n\\n\\n\\n\\n\\n\\n\\n\\n\\n\\n\\n\\n\\n\\n\\n\\n\\n\\n\\n\\n\\n\\n\\n\\n\\n\\n\\n\\n\\n\\n\\n\\n\\n\\n\\n\\n\\n   ShareThis Copy and Paste\\n  \\n\\n\\n\\n\\n\\n\\n\\n\\n\\n\\n', metadata={'source': 'C:\\\\Users\\\\Barani\\\\Desktop\\\\local_ollama\\\\llm_testing_urls\\\\test_5.html', 'title': '\\n   Contact Us - Wits University\\n  '})]"
      ]
     },
     "execution_count": 16,
     "metadata": {},
     "output_type": "execute_result"
    }
   ],
   "source": [
    "loader = BSHTMLLoader(directory, bs_kwargs={\"features\": \"html.parser\"})\n",
    "data = loader.load()\n",
    "data"
   ]
  },
  {
   "cell_type": "code",
   "execution_count": 30,
   "metadata": {},
   "outputs": [],
   "source": [
    "text_splitter = CharacterTextSplitter.from_tiktoken_encoder(chunk_size=400, chunk_overlap=100)\n",
    "\n",
    "doc_splits = text_splitter.split_documents(data)"
   ]
  },
  {
   "cell_type": "code",
   "execution_count": 31,
   "metadata": {},
   "outputs": [
    {
     "data": {
      "text/plain": [
       "8"
      ]
     },
     "execution_count": 31,
     "metadata": {},
     "output_type": "execute_result"
    }
   ],
   "source": [
    "len(doc_splits)"
   ]
  },
  {
   "cell_type": "code",
   "execution_count": 32,
   "metadata": {},
   "outputs": [],
   "source": [
    "vectorstore = Chroma.from_documents(\n",
    "            documents=doc_splits,\n",
    "            collection_name=\"rag-chroma\",\n",
    "            embedding=embeddings.ollama.OllamaEmbeddings(model='nomic-embed-text'),\n",
    "        )\n",
    "retriever = vectorstore.as_retriever()"
   ]
  },
  {
   "cell_type": "code",
   "execution_count": 33,
   "metadata": {},
   "outputs": [],
   "source": [
    "class format_json(BaseModel):\n",
    "    university_name : str = Field(description=\"organization name from the given context\")\n",
    "    address: str = Field(description=\"address from the given context\")\n",
    "    email_address: str = Field(description=\"email address from the given context\")\n",
    "    contact_number: str = Field(description=\"contact number from the given context\")"
   ]
  },
  {
   "cell_type": "code",
   "execution_count": 34,
   "metadata": {},
   "outputs": [],
   "source": [
    "after_rag_template = \"\"\"Answer the question based only on the following context:\n",
    "        {context} and only provide these details in this order only and the response will always will be containing these informations only such as address,contact number,email address in a json format\n",
    "        {format_instructions}\n",
    "        Question: {question}\n",
    "        \"\"\"\n",
    "parser = JsonOutputParser(pydantic_object=format_json)\n",
    "after_rag_prompt = ChatPromptTemplate.from_template(after_rag_template,partial_variables={\"format_instructions\": parser.get_format_instructions()},)\n",
    "after_rag_chain = (\n",
    "            {\"context\": retriever, \"question\": RunnablePassthrough()}\n",
    "            | after_rag_prompt\n",
    "            | model_local\n",
    "            | parser\n",
    "        )"
   ]
  },
  {
   "cell_type": "code",
   "execution_count": 35,
   "metadata": {},
   "outputs": [],
   "source": [
    "json_output = after_rag_chain.invoke(\"provide the metioned details like university_name,address,email_address,contact_number from the context and make sure you providing them from the given context\")"
   ]
  },
  {
   "cell_type": "code",
   "execution_count": 36,
   "metadata": {},
   "outputs": [
    {
     "data": {
      "text/plain": [
       "{'university_name': 'University of the Witwatersrand',\n",
       " 'address': 'School of Chemistry (Humphrey Raikes Building) | University of the Witwatersrand | Jorissen Street | Braamfontein 2000 | Johannesburg, South Africa',\n",
       " 'email_address': '[Andreas.Lemmerer@wits.ac.za, Charles.DeKoning@wits.ac.za, Marc.humphries@wits.ac.za]',\n",
       " 'contact_number': 'Not provided in the context'}"
      ]
     },
     "execution_count": 36,
     "metadata": {},
     "output_type": "execute_result"
    }
   ],
   "source": [
    "json_output"
   ]
  },
  {
   "cell_type": "code",
   "execution_count": null,
   "metadata": {},
   "outputs": [],
   "source": []
  }
 ],
 "metadata": {
  "kernelspec": {
   "display_name": "ollama_2",
   "language": "python",
   "name": "python3"
  },
  "language_info": {
   "codemirror_mode": {
    "name": "ipython",
    "version": 3
   },
   "file_extension": ".py",
   "mimetype": "text/x-python",
   "name": "python",
   "nbconvert_exporter": "python",
   "pygments_lexer": "ipython3",
   "version": "3.11.5"
  }
 },
 "nbformat": 4,
 "nbformat_minor": 2
}
